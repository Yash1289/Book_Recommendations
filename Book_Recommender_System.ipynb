{
  "cells": [
    {
      "cell_type": "markdown",
      "metadata": {
        "id": "view-in-github",
        "colab_type": "text"
      },
      "source": [
        "<a href=\"https://colab.research.google.com/github/Yash1289/Book_Recommendations/blob/main/Book_Recommender_System.ipynb\" target=\"_parent\"><img src=\"https://colab.research.google.com/assets/colab-badge.svg\" alt=\"Open In Colab\"/></a>"
      ]
    },
    {
      "cell_type": "markdown",
      "source": [
        "## **Recommender System**\n",
        "\n",
        "### A Recommender system refers to a system that is capable of predicting the future preference of a set of items for a user, and recommend the top items. In today's world, every customers if faced with multiple choices due to the prevalance of internet as compared to 30-35 years back when we used to shop in physical stores, in which the limited. Netflix for example has an enormous collections of movies and so people had a hard time selecting the items they actually want to see and this is where the recommender system comes in. It learns from the data and provides recommendation to users , without the user specifically searching for the item, the item is brought automatically by the system .\n",
        "\n",
        "### In this project we are provided with three datasets containing info about books , user ratings and users respectively and we will try to build a book recommender system out of it that can recommend new books to user based on their past choices . "
      ],
      "metadata": {
        "id": "SBhjmCojKdYx"
      }
    },
    {
      "cell_type": "markdown",
      "source": [
        "For this project we are going to use\n",
        "  1. Numpy :- For its linear algebra functions and the advantage it offers over list in terms of speed and memory consumed\n",
        "  2. Pandas :- This will be our primary data analysis library necessary for almost all of our data manipulations jobs\n",
        "  3. Matplotlib :- Basic visualization library that we need for plotting and graphs\n",
        "  4. Seaborn :- For more customizable and advanced data visualization\n",
        "  5. Sklearn :- For some of the models and tools that we will need to build a recommender system\n",
        "  6. Surprise :- To get some help in evaluating the recommender system"
      ],
      "metadata": {
        "id": "g1nPXfjPOYTH"
      }
    },
    {
      "cell_type": "code",
      "execution_count": null,
      "metadata": {
        "id": "FcQdZTLe1aKe"
      },
      "outputs": [],
      "source": [
        "#Importing the numpy and pandas library\n",
        "import numpy as np\n",
        "import pandas as pd"
      ]
    },
    {
      "cell_type": "code",
      "execution_count": null,
      "metadata": {
        "colab": {
          "base_uri": "https://localhost:8080/"
        },
        "id": "24rzLEm10ceX",
        "outputId": "98abebf6-a778-4bc6-d640-6ff92d577448"
      },
      "outputs": [
        {
          "output_type": "stream",
          "name": "stdout",
          "text": [
            "Drive already mounted at /content/drive; to attempt to forcibly remount, call drive.mount(\"/content/drive\", force_remount=True).\n"
          ]
        }
      ],
      "source": [
        "#Mounting the google drive so that we can access the files on it from our colab notebook\n",
        "from google.colab import drive\n",
        "drive.mount('/content/drive')"
      ]
    },
    {
      "cell_type": "markdown",
      "source": [
        "## **We have in total 3 datasets with us namely : books, rating and users so we will start with going through each of them one by one while checking the head of the datasets, their shapes and treating null values wherever needed for each of the three datasets.**"
      ],
      "metadata": {
        "id": "hk6hmY4a8BnA"
      }
    },
    {
      "cell_type": "markdown",
      "source": [
        "### **Books DataSet**"
      ],
      "metadata": {
        "id": "-ABcTUXFIh58"
      }
    },
    {
      "cell_type": "code",
      "source": [
        "#Reading the books dataset csv file as a pandas dataframe\n",
        "\n",
        "books_path = \"/content/drive/MyDrive/Colab Notebooks/data_book_recommendation/Books.csv\"\n",
        "books_df = pd.read_csv(books_path , low_memory=False)"
      ],
      "metadata": {
        "id": "fmG5Su6hlLBx"
      },
      "execution_count": null,
      "outputs": []
    },
    {
      "cell_type": "code",
      "execution_count": null,
      "metadata": {
        "colab": {
          "base_uri": "https://localhost:8080/"
        },
        "id": "iOQ2oyR210oc",
        "outputId": "c1ab7092-c103-48dd-98c1-bed11f7736ac"
      },
      "outputs": [
        {
          "output_type": "execute_result",
          "data": {
            "text/plain": [
              "         ISBN            Book-Title           Book-Author Year-Of-Publication  \\\n",
              "0  0195153448   Classical Mythology    Mark P. O. Morford                2002   \n",
              "1  0002005018          Clara Callan  Richard Bruce Wright                2001   \n",
              "2  0060973129  Decision in Normandy          Carlo D'Este                1991   \n",
              "\n",
              "                 Publisher                                        Image-URL-S  \\\n",
              "0  Oxford University Press  http://images.amazon.com/images/P/0195153448.0...   \n",
              "1    HarperFlamingo Canada  http://images.amazon.com/images/P/0002005018.0...   \n",
              "2          HarperPerennial  http://images.amazon.com/images/P/0060973129.0...   \n",
              "\n",
              "                                         Image-URL-M  \\\n",
              "0  http://images.amazon.com/images/P/0195153448.0...   \n",
              "1  http://images.amazon.com/images/P/0002005018.0...   \n",
              "2  http://images.amazon.com/images/P/0060973129.0...   \n",
              "\n",
              "                                         Image-URL-L  \n",
              "0  http://images.amazon.com/images/P/0195153448.0...  \n",
              "1  http://images.amazon.com/images/P/0002005018.0...  \n",
              "2  http://images.amazon.com/images/P/0060973129.0...  "
            ],
            "text/html": [
              "\n",
              "  <div id=\"df-93a52fcf-0a21-4ccc-b8a5-21f6b19c2166\">\n",
              "    <div class=\"colab-df-container\">\n",
              "      <div>\n",
              "<style scoped>\n",
              "    .dataframe tbody tr th:only-of-type {\n",
              "        vertical-align: middle;\n",
              "    }\n",
              "\n",
              "    .dataframe tbody tr th {\n",
              "        vertical-align: top;\n",
              "    }\n",
              "\n",
              "    .dataframe thead th {\n",
              "        text-align: right;\n",
              "    }\n",
              "</style>\n",
              "<table border=\"1\" class=\"dataframe\">\n",
              "  <thead>\n",
              "    <tr style=\"text-align: right;\">\n",
              "      <th></th>\n",
              "      <th>ISBN</th>\n",
              "      <th>Book-Title</th>\n",
              "      <th>Book-Author</th>\n",
              "      <th>Year-Of-Publication</th>\n",
              "      <th>Publisher</th>\n",
              "      <th>Image-URL-S</th>\n",
              "      <th>Image-URL-M</th>\n",
              "      <th>Image-URL-L</th>\n",
              "    </tr>\n",
              "  </thead>\n",
              "  <tbody>\n",
              "    <tr>\n",
              "      <th>0</th>\n",
              "      <td>0195153448</td>\n",
              "      <td>Classical Mythology</td>\n",
              "      <td>Mark P. O. Morford</td>\n",
              "      <td>2002</td>\n",
              "      <td>Oxford University Press</td>\n",
              "      <td>http://images.amazon.com/images/P/0195153448.0...</td>\n",
              "      <td>http://images.amazon.com/images/P/0195153448.0...</td>\n",
              "      <td>http://images.amazon.com/images/P/0195153448.0...</td>\n",
              "    </tr>\n",
              "    <tr>\n",
              "      <th>1</th>\n",
              "      <td>0002005018</td>\n",
              "      <td>Clara Callan</td>\n",
              "      <td>Richard Bruce Wright</td>\n",
              "      <td>2001</td>\n",
              "      <td>HarperFlamingo Canada</td>\n",
              "      <td>http://images.amazon.com/images/P/0002005018.0...</td>\n",
              "      <td>http://images.amazon.com/images/P/0002005018.0...</td>\n",
              "      <td>http://images.amazon.com/images/P/0002005018.0...</td>\n",
              "    </tr>\n",
              "    <tr>\n",
              "      <th>2</th>\n",
              "      <td>0060973129</td>\n",
              "      <td>Decision in Normandy</td>\n",
              "      <td>Carlo D'Este</td>\n",
              "      <td>1991</td>\n",
              "      <td>HarperPerennial</td>\n",
              "      <td>http://images.amazon.com/images/P/0060973129.0...</td>\n",
              "      <td>http://images.amazon.com/images/P/0060973129.0...</td>\n",
              "      <td>http://images.amazon.com/images/P/0060973129.0...</td>\n",
              "    </tr>\n",
              "  </tbody>\n",
              "</table>\n",
              "</div>\n",
              "      <button class=\"colab-df-convert\" onclick=\"convertToInteractive('df-93a52fcf-0a21-4ccc-b8a5-21f6b19c2166')\"\n",
              "              title=\"Convert this dataframe to an interactive table.\"\n",
              "              style=\"display:none;\">\n",
              "        \n",
              "  <svg xmlns=\"http://www.w3.org/2000/svg\" height=\"24px\"viewBox=\"0 0 24 24\"\n",
              "       width=\"24px\">\n",
              "    <path d=\"M0 0h24v24H0V0z\" fill=\"none\"/>\n",
              "    <path d=\"M18.56 5.44l.94 2.06.94-2.06 2.06-.94-2.06-.94-.94-2.06-.94 2.06-2.06.94zm-11 1L8.5 8.5l.94-2.06 2.06-.94-2.06-.94L8.5 2.5l-.94 2.06-2.06.94zm10 10l.94 2.06.94-2.06 2.06-.94-2.06-.94-.94-2.06-.94 2.06-2.06.94z\"/><path d=\"M17.41 7.96l-1.37-1.37c-.4-.4-.92-.59-1.43-.59-.52 0-1.04.2-1.43.59L10.3 9.45l-7.72 7.72c-.78.78-.78 2.05 0 2.83L4 21.41c.39.39.9.59 1.41.59.51 0 1.02-.2 1.41-.59l7.78-7.78 2.81-2.81c.8-.78.8-2.07 0-2.86zM5.41 20L4 18.59l7.72-7.72 1.47 1.35L5.41 20z\"/>\n",
              "  </svg>\n",
              "      </button>\n",
              "      \n",
              "  <style>\n",
              "    .colab-df-container {\n",
              "      display:flex;\n",
              "      flex-wrap:wrap;\n",
              "      gap: 12px;\n",
              "    }\n",
              "\n",
              "    .colab-df-convert {\n",
              "      background-color: #E8F0FE;\n",
              "      border: none;\n",
              "      border-radius: 50%;\n",
              "      cursor: pointer;\n",
              "      display: none;\n",
              "      fill: #1967D2;\n",
              "      height: 32px;\n",
              "      padding: 0 0 0 0;\n",
              "      width: 32px;\n",
              "    }\n",
              "\n",
              "    .colab-df-convert:hover {\n",
              "      background-color: #E2EBFA;\n",
              "      box-shadow: 0px 1px 2px rgba(60, 64, 67, 0.3), 0px 1px 3px 1px rgba(60, 64, 67, 0.15);\n",
              "      fill: #174EA6;\n",
              "    }\n",
              "\n",
              "    [theme=dark] .colab-df-convert {\n",
              "      background-color: #3B4455;\n",
              "      fill: #D2E3FC;\n",
              "    }\n",
              "\n",
              "    [theme=dark] .colab-df-convert:hover {\n",
              "      background-color: #434B5C;\n",
              "      box-shadow: 0px 1px 3px 1px rgba(0, 0, 0, 0.15);\n",
              "      filter: drop-shadow(0px 1px 2px rgba(0, 0, 0, 0.3));\n",
              "      fill: #FFFFFF;\n",
              "    }\n",
              "  </style>\n",
              "\n",
              "      <script>\n",
              "        const buttonEl =\n",
              "          document.querySelector('#df-93a52fcf-0a21-4ccc-b8a5-21f6b19c2166 button.colab-df-convert');\n",
              "        buttonEl.style.display =\n",
              "          google.colab.kernel.accessAllowed ? 'block' : 'none';\n",
              "\n",
              "        async function convertToInteractive(key) {\n",
              "          const element = document.querySelector('#df-93a52fcf-0a21-4ccc-b8a5-21f6b19c2166');\n",
              "          const dataTable =\n",
              "            await google.colab.kernel.invokeFunction('convertToInteractive',\n",
              "                                                     [key], {});\n",
              "          if (!dataTable) return;\n",
              "\n",
              "          const docLinkHtml = 'Like what you see? Visit the ' +\n",
              "            '<a target=\"_blank\" href=https://colab.research.google.com/notebooks/data_table.ipynb>data table notebook</a>'\n",
              "            + ' to learn more about interactive tables.';\n",
              "          element.innerHTML = '';\n",
              "          dataTable['output_type'] = 'display_data';\n",
              "          await google.colab.output.renderOutput(dataTable, element);\n",
              "          const docLink = document.createElement('div');\n",
              "          docLink.innerHTML = docLinkHtml;\n",
              "          element.appendChild(docLink);\n",
              "        }\n",
              "      </script>\n",
              "    </div>\n",
              "  </div>\n",
              "  "
            ]
          },
          "metadata": {},
          "execution_count": 191
        }
      ],
      "source": [
        "#Checking the head of the books dataframe\n",
        "books_df.head(3)"
      ]
    },
    {
      "cell_type": "code",
      "source": [
        "#Checking the shape of the dataframe\n",
        "print(books_df.shape)"
      ],
      "metadata": {
        "id": "EZL3d4LwowgA",
        "colab": {
          "base_uri": "https://localhost:8080/"
        },
        "outputId": "36e62ad4-01e1-40b8-ccac-e4da66609fed"
      },
      "execution_count": null,
      "outputs": [
        {
          "output_type": "stream",
          "name": "stdout",
          "text": [
            "(271360, 8)\n"
          ]
        }
      ]
    },
    {
      "cell_type": "markdown",
      "source": [
        "We have details for more than 2.7 lakh books in our dataframe"
      ],
      "metadata": {
        "id": "3GSxHtq6SIyI"
      }
    },
    {
      "cell_type": "code",
      "source": [
        "#Calling info method on the dataframe to print a concise summary \n",
        "books_df.info()"
      ],
      "metadata": {
        "colab": {
          "base_uri": "https://localhost:8080/"
        },
        "id": "bFCikvPEmg9q",
        "outputId": "a20d7333-c91d-44db-bad1-0374c1ab89c4"
      },
      "execution_count": null,
      "outputs": [
        {
          "output_type": "stream",
          "name": "stdout",
          "text": [
            "<class 'pandas.core.frame.DataFrame'>\n",
            "RangeIndex: 271360 entries, 0 to 271359\n",
            "Data columns (total 8 columns):\n",
            " #   Column               Non-Null Count   Dtype \n",
            "---  ------               --------------   ----- \n",
            " 0   ISBN                 271360 non-null  object\n",
            " 1   Book-Title           271360 non-null  object\n",
            " 2   Book-Author          271359 non-null  object\n",
            " 3   Year-Of-Publication  271360 non-null  object\n",
            " 4   Publisher            271358 non-null  object\n",
            " 5   Image-URL-S          271360 non-null  object\n",
            " 6   Image-URL-M          271360 non-null  object\n",
            " 7   Image-URL-L          271357 non-null  object\n",
            "dtypes: object(8)\n",
            "memory usage: 16.6+ MB\n"
          ]
        }
      ]
    },
    {
      "cell_type": "markdown",
      "source": [
        "We have 1 null value in Book-Author column, 2 null values in Publisher column and 3 null values in Image-URL-L column\n",
        "\n",
        "The last three columns are not of any use to us as they only contain url linking to image of books and hence we decided to drop them. "
      ],
      "metadata": {
        "id": "t_zFnXg4ozEl"
      }
    },
    {
      "cell_type": "code",
      "source": [
        "#Dropping the three url containing column \n",
        "books_df.drop([\"Image-URL-S\" , \"Image-URL-M\" , \"Image-URL-L\"] , axis = 1 , inplace = True)"
      ],
      "metadata": {
        "id": "bJi56Ha0pDmf"
      },
      "execution_count": null,
      "outputs": []
    },
    {
      "cell_type": "code",
      "source": [
        "#Checking the unique values we have for Year-Of-Publication column in our database\n",
        "books_df[\"Year-Of-Publication\"].unique()"
      ],
      "metadata": {
        "colab": {
          "base_uri": "https://localhost:8080/"
        },
        "id": "9D7HxYN0dfhc",
        "outputId": "3af6288a-8b2e-41b4-e22d-3011886773d1"
      },
      "execution_count": null,
      "outputs": [
        {
          "output_type": "execute_result",
          "data": {
            "text/plain": [
              "array(['2002', '2001', '1991', '1999', '2000', '1993', '1996', '1988',\n",
              "       '2004', '1998', '1994', '2003', '1997', '1983', '1979', '1995',\n",
              "       '1982', '1985', '1992', '1986', '1978', '1980', '1952', '1987',\n",
              "       '1990', '1981', '1989', '1984', '0', '1968', '1961', '1958',\n",
              "       '1974', '1976', '1971', '1977', '1975', '1965', '1941', '1970',\n",
              "       '1962', '1973', '1972', '1960', '1966', '1920', '1956', '1959',\n",
              "       '1953', '1951', '1942', '1963', '1964', '1969', '1954', '1950',\n",
              "       '1967', '2005', '1957', '1940', '1937', '1955', '1946', '1936',\n",
              "       '1930', '2011', '1925', '1948', '1943', '1947', '1945', '1923',\n",
              "       '2020', '1939', '1926', '1938', '2030', '1911', '1904', '1949',\n",
              "       '1932', '1928', '1929', '1927', '1931', '1914', '2050', '1934',\n",
              "       '1910', '1933', '1902', '1924', '1921', '1900', '2038', '2026',\n",
              "       '1944', '1917', '1901', '2010', '1908', '1906', '1935', '1806',\n",
              "       '2021', '2012', '2006', 'DK Publishing Inc', 'Gallimard', '1909',\n",
              "       '2008', '1378', '1919', '1922', '1897', '2024', '1376', '2037'],\n",
              "      dtype=object)"
            ]
          },
          "metadata": {},
          "execution_count": 195
        }
      ]
    },
    {
      "cell_type": "markdown",
      "source": [
        "For some of the books the Year of publication date is set in future and for a few of them the value is even zero , also we can notice that for some books the value is weirdly set to strings like 'DK Publishing Inc' and 'Gallimard', all of these will need further examination and treatment."
      ],
      "metadata": {
        "id": "scP43x5BqwrL"
      }
    },
    {
      "cell_type": "code",
      "source": [
        "#Finding all the observation in which the Year-Of-Publication date is set to \"DK Publishing Inc\"\n",
        "books_df[books_df[\"Year-Of-Publication\"] == \"DK Publishing Inc\"]"
      ],
      "metadata": {
        "colab": {
          "base_uri": "https://localhost:8080/"
        },
        "id": "KPfOdhcLJPSU",
        "outputId": "c2e943e1-4060-46d8-a71a-0d1e7427aa7c"
      },
      "execution_count": null,
      "outputs": [
        {
          "output_type": "execute_result",
          "data": {
            "text/plain": [
              "              ISBN                                         Book-Title  \\\n",
              "209538  078946697X  DK Readers: Creating the X-Men, How It All Beg...   \n",
              "221678  0789466953  DK Readers: Creating the X-Men, How Comic Book...   \n",
              "\n",
              "       Book-Author Year-Of-Publication  \\\n",
              "209538        2000   DK Publishing Inc   \n",
              "221678        2000   DK Publishing Inc   \n",
              "\n",
              "                                                Publisher  \n",
              "209538  http://images.amazon.com/images/P/078946697X.0...  \n",
              "221678  http://images.amazon.com/images/P/0789466953.0...  "
            ],
            "text/html": [
              "\n",
              "  <div id=\"df-903de508-9724-4966-871f-18c4228d7df2\">\n",
              "    <div class=\"colab-df-container\">\n",
              "      <div>\n",
              "<style scoped>\n",
              "    .dataframe tbody tr th:only-of-type {\n",
              "        vertical-align: middle;\n",
              "    }\n",
              "\n",
              "    .dataframe tbody tr th {\n",
              "        vertical-align: top;\n",
              "    }\n",
              "\n",
              "    .dataframe thead th {\n",
              "        text-align: right;\n",
              "    }\n",
              "</style>\n",
              "<table border=\"1\" class=\"dataframe\">\n",
              "  <thead>\n",
              "    <tr style=\"text-align: right;\">\n",
              "      <th></th>\n",
              "      <th>ISBN</th>\n",
              "      <th>Book-Title</th>\n",
              "      <th>Book-Author</th>\n",
              "      <th>Year-Of-Publication</th>\n",
              "      <th>Publisher</th>\n",
              "    </tr>\n",
              "  </thead>\n",
              "  <tbody>\n",
              "    <tr>\n",
              "      <th>209538</th>\n",
              "      <td>078946697X</td>\n",
              "      <td>DK Readers: Creating the X-Men, How It All Beg...</td>\n",
              "      <td>2000</td>\n",
              "      <td>DK Publishing Inc</td>\n",
              "      <td>http://images.amazon.com/images/P/078946697X.0...</td>\n",
              "    </tr>\n",
              "    <tr>\n",
              "      <th>221678</th>\n",
              "      <td>0789466953</td>\n",
              "      <td>DK Readers: Creating the X-Men, How Comic Book...</td>\n",
              "      <td>2000</td>\n",
              "      <td>DK Publishing Inc</td>\n",
              "      <td>http://images.amazon.com/images/P/0789466953.0...</td>\n",
              "    </tr>\n",
              "  </tbody>\n",
              "</table>\n",
              "</div>\n",
              "      <button class=\"colab-df-convert\" onclick=\"convertToInteractive('df-903de508-9724-4966-871f-18c4228d7df2')\"\n",
              "              title=\"Convert this dataframe to an interactive table.\"\n",
              "              style=\"display:none;\">\n",
              "        \n",
              "  <svg xmlns=\"http://www.w3.org/2000/svg\" height=\"24px\"viewBox=\"0 0 24 24\"\n",
              "       width=\"24px\">\n",
              "    <path d=\"M0 0h24v24H0V0z\" fill=\"none\"/>\n",
              "    <path d=\"M18.56 5.44l.94 2.06.94-2.06 2.06-.94-2.06-.94-.94-2.06-.94 2.06-2.06.94zm-11 1L8.5 8.5l.94-2.06 2.06-.94-2.06-.94L8.5 2.5l-.94 2.06-2.06.94zm10 10l.94 2.06.94-2.06 2.06-.94-2.06-.94-.94-2.06-.94 2.06-2.06.94z\"/><path d=\"M17.41 7.96l-1.37-1.37c-.4-.4-.92-.59-1.43-.59-.52 0-1.04.2-1.43.59L10.3 9.45l-7.72 7.72c-.78.78-.78 2.05 0 2.83L4 21.41c.39.39.9.59 1.41.59.51 0 1.02-.2 1.41-.59l7.78-7.78 2.81-2.81c.8-.78.8-2.07 0-2.86zM5.41 20L4 18.59l7.72-7.72 1.47 1.35L5.41 20z\"/>\n",
              "  </svg>\n",
              "      </button>\n",
              "      \n",
              "  <style>\n",
              "    .colab-df-container {\n",
              "      display:flex;\n",
              "      flex-wrap:wrap;\n",
              "      gap: 12px;\n",
              "    }\n",
              "\n",
              "    .colab-df-convert {\n",
              "      background-color: #E8F0FE;\n",
              "      border: none;\n",
              "      border-radius: 50%;\n",
              "      cursor: pointer;\n",
              "      display: none;\n",
              "      fill: #1967D2;\n",
              "      height: 32px;\n",
              "      padding: 0 0 0 0;\n",
              "      width: 32px;\n",
              "    }\n",
              "\n",
              "    .colab-df-convert:hover {\n",
              "      background-color: #E2EBFA;\n",
              "      box-shadow: 0px 1px 2px rgba(60, 64, 67, 0.3), 0px 1px 3px 1px rgba(60, 64, 67, 0.15);\n",
              "      fill: #174EA6;\n",
              "    }\n",
              "\n",
              "    [theme=dark] .colab-df-convert {\n",
              "      background-color: #3B4455;\n",
              "      fill: #D2E3FC;\n",
              "    }\n",
              "\n",
              "    [theme=dark] .colab-df-convert:hover {\n",
              "      background-color: #434B5C;\n",
              "      box-shadow: 0px 1px 3px 1px rgba(0, 0, 0, 0.15);\n",
              "      filter: drop-shadow(0px 1px 2px rgba(0, 0, 0, 0.3));\n",
              "      fill: #FFFFFF;\n",
              "    }\n",
              "  </style>\n",
              "\n",
              "      <script>\n",
              "        const buttonEl =\n",
              "          document.querySelector('#df-903de508-9724-4966-871f-18c4228d7df2 button.colab-df-convert');\n",
              "        buttonEl.style.display =\n",
              "          google.colab.kernel.accessAllowed ? 'block' : 'none';\n",
              "\n",
              "        async function convertToInteractive(key) {\n",
              "          const element = document.querySelector('#df-903de508-9724-4966-871f-18c4228d7df2');\n",
              "          const dataTable =\n",
              "            await google.colab.kernel.invokeFunction('convertToInteractive',\n",
              "                                                     [key], {});\n",
              "          if (!dataTable) return;\n",
              "\n",
              "          const docLinkHtml = 'Like what you see? Visit the ' +\n",
              "            '<a target=\"_blank\" href=https://colab.research.google.com/notebooks/data_table.ipynb>data table notebook</a>'\n",
              "            + ' to learn more about interactive tables.';\n",
              "          element.innerHTML = '';\n",
              "          dataTable['output_type'] = 'display_data';\n",
              "          await google.colab.output.renderOutput(dataTable, element);\n",
              "          const docLink = document.createElement('div');\n",
              "          docLink.innerHTML = docLinkHtml;\n",
              "          element.appendChild(docLink);\n",
              "        }\n",
              "      </script>\n",
              "    </div>\n",
              "  </div>\n",
              "  "
            ]
          },
          "metadata": {},
          "execution_count": 196
        }
      ]
    },
    {
      "cell_type": "markdown",
      "source": [
        "It is obvious that for both of these observations the values are out of place by one position left Starting from Year-Of-Publication column , so we decided to shift all these values by one position right to correct this"
      ],
      "metadata": {
        "id": "7Qv4gz-QYKTj"
      }
    },
    {
      "cell_type": "code",
      "source": [
        "#Getting the index of all the observations which have Year-Of-Publication value set to DK Publishing Inc\n",
        "dk_index = books_df[books_df[\"Year-Of-Publication\"] == \"DK Publishing Inc\"].index\n",
        "\n",
        "#Shifting all the out of place values by one place right \n",
        "for indexNo in list(dk_index):\n",
        "  books_df.iloc[indexNo , 2 : ] = books_df.iloc[indexNo , 2 : ].shift()\n",
        "\n",
        "#Getting the index of all the observation which have Year-Of-Publication value set to Gallimard\n",
        "dk_index = books_df[books_df[\"Year-Of-Publication\"] == \"Gallimard\"].index\n",
        "\n",
        "#Shifting all the out of place values by one place right\n",
        "for indexNo in list(dk_index):\n",
        "  books_df.iloc[indexNo , 2 : ] = books_df.iloc[indexNo , 2 : ].shift()"
      ],
      "metadata": {
        "id": "YLIgA1Wvd3kD"
      },
      "execution_count": null,
      "outputs": []
    },
    {
      "cell_type": "code",
      "source": [
        "#Changing the data type of Year-Of-Publication columns to integer\n",
        "books_df[\"Year-Of-Publication\"] = books_df[\"Year-Of-Publication\"].astype(int)"
      ],
      "metadata": {
        "id": "4ImDAfSZjipY"
      },
      "execution_count": null,
      "outputs": []
    },
    {
      "cell_type": "code",
      "source": [
        "def DecadeDecider(year):\n",
        "\n",
        "  ''' \n",
        "  Function to calculate the decade for any given year \n",
        "   '''\n",
        "\n",
        "  #For books published before 1990 and after 2020 we are setting the decade value to null\n",
        "  if year > 2020 or year < 1900 :\n",
        "    return np.nan\n",
        "  else :\n",
        "    rem = year%10\n",
        "    return str(year - rem) + \"s\"\n"
      ],
      "metadata": {
        "id": "fbBTfVkukWzo"
      },
      "execution_count": null,
      "outputs": []
    },
    {
      "cell_type": "code",
      "source": [
        "#Creating a new columns named Decade which will contain the decade in which a particular book was published\n",
        "books_df[\"Decade\"] = books_df[\"Year-Of-Publication\"].apply(DecadeDecider)\n",
        "books_df.head()"
      ],
      "metadata": {
        "id": "LXC1ihVktJT6",
        "colab": {
          "base_uri": "https://localhost:8080/"
        },
        "outputId": "db7991ba-8480-4038-fa3e-a8e01cab77be"
      },
      "execution_count": null,
      "outputs": [
        {
          "output_type": "execute_result",
          "data": {
            "text/plain": [
              "         ISBN                                         Book-Title  \\\n",
              "0  0195153448                                Classical Mythology   \n",
              "1  0002005018                                       Clara Callan   \n",
              "2  0060973129                               Decision in Normandy   \n",
              "3  0374157065  Flu: The Story of the Great Influenza Pandemic...   \n",
              "4  0393045218                             The Mummies of Urumchi   \n",
              "\n",
              "            Book-Author  Year-Of-Publication                   Publisher  \\\n",
              "0    Mark P. O. Morford                 2002     Oxford University Press   \n",
              "1  Richard Bruce Wright                 2001       HarperFlamingo Canada   \n",
              "2          Carlo D'Este                 1991             HarperPerennial   \n",
              "3      Gina Bari Kolata                 1999        Farrar Straus Giroux   \n",
              "4       E. J. W. Barber                 1999  W. W. Norton &amp; Company   \n",
              "\n",
              "  Decade  \n",
              "0  2000s  \n",
              "1  2000s  \n",
              "2  1990s  \n",
              "3  1990s  \n",
              "4  1990s  "
            ],
            "text/html": [
              "\n",
              "  <div id=\"df-d67c396d-db38-4fed-a1da-9db16c79d624\">\n",
              "    <div class=\"colab-df-container\">\n",
              "      <div>\n",
              "<style scoped>\n",
              "    .dataframe tbody tr th:only-of-type {\n",
              "        vertical-align: middle;\n",
              "    }\n",
              "\n",
              "    .dataframe tbody tr th {\n",
              "        vertical-align: top;\n",
              "    }\n",
              "\n",
              "    .dataframe thead th {\n",
              "        text-align: right;\n",
              "    }\n",
              "</style>\n",
              "<table border=\"1\" class=\"dataframe\">\n",
              "  <thead>\n",
              "    <tr style=\"text-align: right;\">\n",
              "      <th></th>\n",
              "      <th>ISBN</th>\n",
              "      <th>Book-Title</th>\n",
              "      <th>Book-Author</th>\n",
              "      <th>Year-Of-Publication</th>\n",
              "      <th>Publisher</th>\n",
              "      <th>Decade</th>\n",
              "    </tr>\n",
              "  </thead>\n",
              "  <tbody>\n",
              "    <tr>\n",
              "      <th>0</th>\n",
              "      <td>0195153448</td>\n",
              "      <td>Classical Mythology</td>\n",
              "      <td>Mark P. O. Morford</td>\n",
              "      <td>2002</td>\n",
              "      <td>Oxford University Press</td>\n",
              "      <td>2000s</td>\n",
              "    </tr>\n",
              "    <tr>\n",
              "      <th>1</th>\n",
              "      <td>0002005018</td>\n",
              "      <td>Clara Callan</td>\n",
              "      <td>Richard Bruce Wright</td>\n",
              "      <td>2001</td>\n",
              "      <td>HarperFlamingo Canada</td>\n",
              "      <td>2000s</td>\n",
              "    </tr>\n",
              "    <tr>\n",
              "      <th>2</th>\n",
              "      <td>0060973129</td>\n",
              "      <td>Decision in Normandy</td>\n",
              "      <td>Carlo D'Este</td>\n",
              "      <td>1991</td>\n",
              "      <td>HarperPerennial</td>\n",
              "      <td>1990s</td>\n",
              "    </tr>\n",
              "    <tr>\n",
              "      <th>3</th>\n",
              "      <td>0374157065</td>\n",
              "      <td>Flu: The Story of the Great Influenza Pandemic...</td>\n",
              "      <td>Gina Bari Kolata</td>\n",
              "      <td>1999</td>\n",
              "      <td>Farrar Straus Giroux</td>\n",
              "      <td>1990s</td>\n",
              "    </tr>\n",
              "    <tr>\n",
              "      <th>4</th>\n",
              "      <td>0393045218</td>\n",
              "      <td>The Mummies of Urumchi</td>\n",
              "      <td>E. J. W. Barber</td>\n",
              "      <td>1999</td>\n",
              "      <td>W. W. Norton &amp;amp; Company</td>\n",
              "      <td>1990s</td>\n",
              "    </tr>\n",
              "  </tbody>\n",
              "</table>\n",
              "</div>\n",
              "      <button class=\"colab-df-convert\" onclick=\"convertToInteractive('df-d67c396d-db38-4fed-a1da-9db16c79d624')\"\n",
              "              title=\"Convert this dataframe to an interactive table.\"\n",
              "              style=\"display:none;\">\n",
              "        \n",
              "  <svg xmlns=\"http://www.w3.org/2000/svg\" height=\"24px\"viewBox=\"0 0 24 24\"\n",
              "       width=\"24px\">\n",
              "    <path d=\"M0 0h24v24H0V0z\" fill=\"none\"/>\n",
              "    <path d=\"M18.56 5.44l.94 2.06.94-2.06 2.06-.94-2.06-.94-.94-2.06-.94 2.06-2.06.94zm-11 1L8.5 8.5l.94-2.06 2.06-.94-2.06-.94L8.5 2.5l-.94 2.06-2.06.94zm10 10l.94 2.06.94-2.06 2.06-.94-2.06-.94-.94-2.06-.94 2.06-2.06.94z\"/><path d=\"M17.41 7.96l-1.37-1.37c-.4-.4-.92-.59-1.43-.59-.52 0-1.04.2-1.43.59L10.3 9.45l-7.72 7.72c-.78.78-.78 2.05 0 2.83L4 21.41c.39.39.9.59 1.41.59.51 0 1.02-.2 1.41-.59l7.78-7.78 2.81-2.81c.8-.78.8-2.07 0-2.86zM5.41 20L4 18.59l7.72-7.72 1.47 1.35L5.41 20z\"/>\n",
              "  </svg>\n",
              "      </button>\n",
              "      \n",
              "  <style>\n",
              "    .colab-df-container {\n",
              "      display:flex;\n",
              "      flex-wrap:wrap;\n",
              "      gap: 12px;\n",
              "    }\n",
              "\n",
              "    .colab-df-convert {\n",
              "      background-color: #E8F0FE;\n",
              "      border: none;\n",
              "      border-radius: 50%;\n",
              "      cursor: pointer;\n",
              "      display: none;\n",
              "      fill: #1967D2;\n",
              "      height: 32px;\n",
              "      padding: 0 0 0 0;\n",
              "      width: 32px;\n",
              "    }\n",
              "\n",
              "    .colab-df-convert:hover {\n",
              "      background-color: #E2EBFA;\n",
              "      box-shadow: 0px 1px 2px rgba(60, 64, 67, 0.3), 0px 1px 3px 1px rgba(60, 64, 67, 0.15);\n",
              "      fill: #174EA6;\n",
              "    }\n",
              "\n",
              "    [theme=dark] .colab-df-convert {\n",
              "      background-color: #3B4455;\n",
              "      fill: #D2E3FC;\n",
              "    }\n",
              "\n",
              "    [theme=dark] .colab-df-convert:hover {\n",
              "      background-color: #434B5C;\n",
              "      box-shadow: 0px 1px 3px 1px rgba(0, 0, 0, 0.15);\n",
              "      filter: drop-shadow(0px 1px 2px rgba(0, 0, 0, 0.3));\n",
              "      fill: #FFFFFF;\n",
              "    }\n",
              "  </style>\n",
              "\n",
              "      <script>\n",
              "        const buttonEl =\n",
              "          document.querySelector('#df-d67c396d-db38-4fed-a1da-9db16c79d624 button.colab-df-convert');\n",
              "        buttonEl.style.display =\n",
              "          google.colab.kernel.accessAllowed ? 'block' : 'none';\n",
              "\n",
              "        async function convertToInteractive(key) {\n",
              "          const element = document.querySelector('#df-d67c396d-db38-4fed-a1da-9db16c79d624');\n",
              "          const dataTable =\n",
              "            await google.colab.kernel.invokeFunction('convertToInteractive',\n",
              "                                                     [key], {});\n",
              "          if (!dataTable) return;\n",
              "\n",
              "          const docLinkHtml = 'Like what you see? Visit the ' +\n",
              "            '<a target=\"_blank\" href=https://colab.research.google.com/notebooks/data_table.ipynb>data table notebook</a>'\n",
              "            + ' to learn more about interactive tables.';\n",
              "          element.innerHTML = '';\n",
              "          dataTable['output_type'] = 'display_data';\n",
              "          await google.colab.output.renderOutput(dataTable, element);\n",
              "          const docLink = document.createElement('div');\n",
              "          docLink.innerHTML = docLinkHtml;\n",
              "          element.appendChild(docLink);\n",
              "        }\n",
              "      </script>\n",
              "    </div>\n",
              "  </div>\n",
              "  "
            ]
          },
          "metadata": {},
          "execution_count": 200
        }
      ]
    },
    {
      "cell_type": "markdown",
      "source": [
        "Changing the values of Book-Title , Book-Author and Publisher columns at first to lower case and then capitalizing them so to remove any case irregularities "
      ],
      "metadata": {
        "id": "aHb-H2km0tcG"
      }
    },
    {
      "cell_type": "code",
      "source": [
        "books_df[\"Book-Title\"] = books_df[\"Book-Title\"].str.lower().str.title()\n",
        "books_df[\"Book-Author\"] = books_df[\"Book-Author\"].str.lower().str.title()\n",
        "books_df[\"Publisher\"] = books_df[\"Publisher\"].str.lower().str.title()"
      ],
      "metadata": {
        "id": "N5PsFrbcffgn"
      },
      "execution_count": null,
      "outputs": []
    },
    {
      "cell_type": "code",
      "source": [
        "#Checking the head of the dataset after all the modifications \n",
        "books_df.head()"
      ],
      "metadata": {
        "colab": {
          "base_uri": "https://localhost:8080/"
        },
        "id": "sDGXzkx4gFBA",
        "outputId": "33e41175-38f4-4962-cb6d-5bdc1447b25a"
      },
      "execution_count": null,
      "outputs": [
        {
          "output_type": "execute_result",
          "data": {
            "text/plain": [
              "         ISBN                                         Book-Title  \\\n",
              "0  0195153448                                Classical Mythology   \n",
              "1  0002005018                                       Clara Callan   \n",
              "2  0060973129                               Decision In Normandy   \n",
              "3  0374157065  Flu: The Story Of The Great Influenza Pandemic...   \n",
              "4  0393045218                             The Mummies Of Urumchi   \n",
              "\n",
              "            Book-Author  Year-Of-Publication                   Publisher  \\\n",
              "0    Mark P. O. Morford                 2002     Oxford University Press   \n",
              "1  Richard Bruce Wright                 2001       Harperflamingo Canada   \n",
              "2          Carlo D'Este                 1991             Harperperennial   \n",
              "3      Gina Bari Kolata                 1999        Farrar Straus Giroux   \n",
              "4       E. J. W. Barber                 1999  W. W. Norton &Amp; Company   \n",
              "\n",
              "  Decade  \n",
              "0  2000s  \n",
              "1  2000s  \n",
              "2  1990s  \n",
              "3  1990s  \n",
              "4  1990s  "
            ],
            "text/html": [
              "\n",
              "  <div id=\"df-dc110233-ec5d-4df2-a2c5-c8f06719d229\">\n",
              "    <div class=\"colab-df-container\">\n",
              "      <div>\n",
              "<style scoped>\n",
              "    .dataframe tbody tr th:only-of-type {\n",
              "        vertical-align: middle;\n",
              "    }\n",
              "\n",
              "    .dataframe tbody tr th {\n",
              "        vertical-align: top;\n",
              "    }\n",
              "\n",
              "    .dataframe thead th {\n",
              "        text-align: right;\n",
              "    }\n",
              "</style>\n",
              "<table border=\"1\" class=\"dataframe\">\n",
              "  <thead>\n",
              "    <tr style=\"text-align: right;\">\n",
              "      <th></th>\n",
              "      <th>ISBN</th>\n",
              "      <th>Book-Title</th>\n",
              "      <th>Book-Author</th>\n",
              "      <th>Year-Of-Publication</th>\n",
              "      <th>Publisher</th>\n",
              "      <th>Decade</th>\n",
              "    </tr>\n",
              "  </thead>\n",
              "  <tbody>\n",
              "    <tr>\n",
              "      <th>0</th>\n",
              "      <td>0195153448</td>\n",
              "      <td>Classical Mythology</td>\n",
              "      <td>Mark P. O. Morford</td>\n",
              "      <td>2002</td>\n",
              "      <td>Oxford University Press</td>\n",
              "      <td>2000s</td>\n",
              "    </tr>\n",
              "    <tr>\n",
              "      <th>1</th>\n",
              "      <td>0002005018</td>\n",
              "      <td>Clara Callan</td>\n",
              "      <td>Richard Bruce Wright</td>\n",
              "      <td>2001</td>\n",
              "      <td>Harperflamingo Canada</td>\n",
              "      <td>2000s</td>\n",
              "    </tr>\n",
              "    <tr>\n",
              "      <th>2</th>\n",
              "      <td>0060973129</td>\n",
              "      <td>Decision In Normandy</td>\n",
              "      <td>Carlo D'Este</td>\n",
              "      <td>1991</td>\n",
              "      <td>Harperperennial</td>\n",
              "      <td>1990s</td>\n",
              "    </tr>\n",
              "    <tr>\n",
              "      <th>3</th>\n",
              "      <td>0374157065</td>\n",
              "      <td>Flu: The Story Of The Great Influenza Pandemic...</td>\n",
              "      <td>Gina Bari Kolata</td>\n",
              "      <td>1999</td>\n",
              "      <td>Farrar Straus Giroux</td>\n",
              "      <td>1990s</td>\n",
              "    </tr>\n",
              "    <tr>\n",
              "      <th>4</th>\n",
              "      <td>0393045218</td>\n",
              "      <td>The Mummies Of Urumchi</td>\n",
              "      <td>E. J. W. Barber</td>\n",
              "      <td>1999</td>\n",
              "      <td>W. W. Norton &amp;Amp; Company</td>\n",
              "      <td>1990s</td>\n",
              "    </tr>\n",
              "  </tbody>\n",
              "</table>\n",
              "</div>\n",
              "      <button class=\"colab-df-convert\" onclick=\"convertToInteractive('df-dc110233-ec5d-4df2-a2c5-c8f06719d229')\"\n",
              "              title=\"Convert this dataframe to an interactive table.\"\n",
              "              style=\"display:none;\">\n",
              "        \n",
              "  <svg xmlns=\"http://www.w3.org/2000/svg\" height=\"24px\"viewBox=\"0 0 24 24\"\n",
              "       width=\"24px\">\n",
              "    <path d=\"M0 0h24v24H0V0z\" fill=\"none\"/>\n",
              "    <path d=\"M18.56 5.44l.94 2.06.94-2.06 2.06-.94-2.06-.94-.94-2.06-.94 2.06-2.06.94zm-11 1L8.5 8.5l.94-2.06 2.06-.94-2.06-.94L8.5 2.5l-.94 2.06-2.06.94zm10 10l.94 2.06.94-2.06 2.06-.94-2.06-.94-.94-2.06-.94 2.06-2.06.94z\"/><path d=\"M17.41 7.96l-1.37-1.37c-.4-.4-.92-.59-1.43-.59-.52 0-1.04.2-1.43.59L10.3 9.45l-7.72 7.72c-.78.78-.78 2.05 0 2.83L4 21.41c.39.39.9.59 1.41.59.51 0 1.02-.2 1.41-.59l7.78-7.78 2.81-2.81c.8-.78.8-2.07 0-2.86zM5.41 20L4 18.59l7.72-7.72 1.47 1.35L5.41 20z\"/>\n",
              "  </svg>\n",
              "      </button>\n",
              "      \n",
              "  <style>\n",
              "    .colab-df-container {\n",
              "      display:flex;\n",
              "      flex-wrap:wrap;\n",
              "      gap: 12px;\n",
              "    }\n",
              "\n",
              "    .colab-df-convert {\n",
              "      background-color: #E8F0FE;\n",
              "      border: none;\n",
              "      border-radius: 50%;\n",
              "      cursor: pointer;\n",
              "      display: none;\n",
              "      fill: #1967D2;\n",
              "      height: 32px;\n",
              "      padding: 0 0 0 0;\n",
              "      width: 32px;\n",
              "    }\n",
              "\n",
              "    .colab-df-convert:hover {\n",
              "      background-color: #E2EBFA;\n",
              "      box-shadow: 0px 1px 2px rgba(60, 64, 67, 0.3), 0px 1px 3px 1px rgba(60, 64, 67, 0.15);\n",
              "      fill: #174EA6;\n",
              "    }\n",
              "\n",
              "    [theme=dark] .colab-df-convert {\n",
              "      background-color: #3B4455;\n",
              "      fill: #D2E3FC;\n",
              "    }\n",
              "\n",
              "    [theme=dark] .colab-df-convert:hover {\n",
              "      background-color: #434B5C;\n",
              "      box-shadow: 0px 1px 3px 1px rgba(0, 0, 0, 0.15);\n",
              "      filter: drop-shadow(0px 1px 2px rgba(0, 0, 0, 0.3));\n",
              "      fill: #FFFFFF;\n",
              "    }\n",
              "  </style>\n",
              "\n",
              "      <script>\n",
              "        const buttonEl =\n",
              "          document.querySelector('#df-dc110233-ec5d-4df2-a2c5-c8f06719d229 button.colab-df-convert');\n",
              "        buttonEl.style.display =\n",
              "          google.colab.kernel.accessAllowed ? 'block' : 'none';\n",
              "\n",
              "        async function convertToInteractive(key) {\n",
              "          const element = document.querySelector('#df-dc110233-ec5d-4df2-a2c5-c8f06719d229');\n",
              "          const dataTable =\n",
              "            await google.colab.kernel.invokeFunction('convertToInteractive',\n",
              "                                                     [key], {});\n",
              "          if (!dataTable) return;\n",
              "\n",
              "          const docLinkHtml = 'Like what you see? Visit the ' +\n",
              "            '<a target=\"_blank\" href=https://colab.research.google.com/notebooks/data_table.ipynb>data table notebook</a>'\n",
              "            + ' to learn more about interactive tables.';\n",
              "          element.innerHTML = '';\n",
              "          dataTable['output_type'] = 'display_data';\n",
              "          await google.colab.output.renderOutput(dataTable, element);\n",
              "          const docLink = document.createElement('div');\n",
              "          docLink.innerHTML = docLinkHtml;\n",
              "          element.appendChild(docLink);\n",
              "        }\n",
              "      </script>\n",
              "    </div>\n",
              "  </div>\n",
              "  "
            ]
          },
          "metadata": {},
          "execution_count": 202
        }
      ]
    },
    {
      "cell_type": "code",
      "source": [
        "#Finding all the books which have invalid ISBN values \n",
        "books_df[books_df[\"ISBN\"].str.len() != 10 ]"
      ],
      "metadata": {
        "colab": {
          "base_uri": "https://localhost:8080/"
        },
        "id": "kNe2REA1JbMp",
        "outputId": "5bde2f83-86d6-48fc-8a98-5b06a111c19f"
      },
      "execution_count": null,
      "outputs": [
        {
          "output_type": "execute_result",
          "data": {
            "text/plain": [
              "                 ISBN                                         Book-Title  \\\n",
              "111808   0486404242\\t  War In Kind: And Other Poems (Dover Thrift Edi...   \n",
              "171206  3518365479<90            Suhrkamp Taschenbã?Â¼Cher, Nr.47, Frost   \n",
              "251424  3442248027  3                        Diamond Age. Die Grenzwelt.   \n",
              "251649  0385722206  0  Balzac And The Little Chinese Seamstress : A N...   \n",
              "\n",
              "            Book-Author  Year-Of-Publication           Publisher Decade  \n",
              "111808    Stephen Crane                 1998  Dover Publications  1990s  \n",
              "171206  Thomas Bernhard                 1972            Suhrkamp  1970s  \n",
              "251424  Neal Stephenson                 2000            Goldmann  2000s  \n",
              "251649        Dai Sijie                 2002              Anchor  2000s  "
            ],
            "text/html": [
              "\n",
              "  <div id=\"df-dce49f95-f9de-4ffd-abae-fadb40e6b784\">\n",
              "    <div class=\"colab-df-container\">\n",
              "      <div>\n",
              "<style scoped>\n",
              "    .dataframe tbody tr th:only-of-type {\n",
              "        vertical-align: middle;\n",
              "    }\n",
              "\n",
              "    .dataframe tbody tr th {\n",
              "        vertical-align: top;\n",
              "    }\n",
              "\n",
              "    .dataframe thead th {\n",
              "        text-align: right;\n",
              "    }\n",
              "</style>\n",
              "<table border=\"1\" class=\"dataframe\">\n",
              "  <thead>\n",
              "    <tr style=\"text-align: right;\">\n",
              "      <th></th>\n",
              "      <th>ISBN</th>\n",
              "      <th>Book-Title</th>\n",
              "      <th>Book-Author</th>\n",
              "      <th>Year-Of-Publication</th>\n",
              "      <th>Publisher</th>\n",
              "      <th>Decade</th>\n",
              "    </tr>\n",
              "  </thead>\n",
              "  <tbody>\n",
              "    <tr>\n",
              "      <th>111808</th>\n",
              "      <td>0486404242\\t</td>\n",
              "      <td>War In Kind: And Other Poems (Dover Thrift Edi...</td>\n",
              "      <td>Stephen Crane</td>\n",
              "      <td>1998</td>\n",
              "      <td>Dover Publications</td>\n",
              "      <td>1990s</td>\n",
              "    </tr>\n",
              "    <tr>\n",
              "      <th>171206</th>\n",
              "      <td>3518365479&lt;90</td>\n",
              "      <td>Suhrkamp Taschenbã?Â¼Cher, Nr.47, Frost</td>\n",
              "      <td>Thomas Bernhard</td>\n",
              "      <td>1972</td>\n",
              "      <td>Suhrkamp</td>\n",
              "      <td>1970s</td>\n",
              "    </tr>\n",
              "    <tr>\n",
              "      <th>251424</th>\n",
              "      <td>3442248027  3</td>\n",
              "      <td>Diamond Age. Die Grenzwelt.</td>\n",
              "      <td>Neal Stephenson</td>\n",
              "      <td>2000</td>\n",
              "      <td>Goldmann</td>\n",
              "      <td>2000s</td>\n",
              "    </tr>\n",
              "    <tr>\n",
              "      <th>251649</th>\n",
              "      <td>0385722206  0</td>\n",
              "      <td>Balzac And The Little Chinese Seamstress : A N...</td>\n",
              "      <td>Dai Sijie</td>\n",
              "      <td>2002</td>\n",
              "      <td>Anchor</td>\n",
              "      <td>2000s</td>\n",
              "    </tr>\n",
              "  </tbody>\n",
              "</table>\n",
              "</div>\n",
              "      <button class=\"colab-df-convert\" onclick=\"convertToInteractive('df-dce49f95-f9de-4ffd-abae-fadb40e6b784')\"\n",
              "              title=\"Convert this dataframe to an interactive table.\"\n",
              "              style=\"display:none;\">\n",
              "        \n",
              "  <svg xmlns=\"http://www.w3.org/2000/svg\" height=\"24px\"viewBox=\"0 0 24 24\"\n",
              "       width=\"24px\">\n",
              "    <path d=\"M0 0h24v24H0V0z\" fill=\"none\"/>\n",
              "    <path d=\"M18.56 5.44l.94 2.06.94-2.06 2.06-.94-2.06-.94-.94-2.06-.94 2.06-2.06.94zm-11 1L8.5 8.5l.94-2.06 2.06-.94-2.06-.94L8.5 2.5l-.94 2.06-2.06.94zm10 10l.94 2.06.94-2.06 2.06-.94-2.06-.94-.94-2.06-.94 2.06-2.06.94z\"/><path d=\"M17.41 7.96l-1.37-1.37c-.4-.4-.92-.59-1.43-.59-.52 0-1.04.2-1.43.59L10.3 9.45l-7.72 7.72c-.78.78-.78 2.05 0 2.83L4 21.41c.39.39.9.59 1.41.59.51 0 1.02-.2 1.41-.59l7.78-7.78 2.81-2.81c.8-.78.8-2.07 0-2.86zM5.41 20L4 18.59l7.72-7.72 1.47 1.35L5.41 20z\"/>\n",
              "  </svg>\n",
              "      </button>\n",
              "      \n",
              "  <style>\n",
              "    .colab-df-container {\n",
              "      display:flex;\n",
              "      flex-wrap:wrap;\n",
              "      gap: 12px;\n",
              "    }\n",
              "\n",
              "    .colab-df-convert {\n",
              "      background-color: #E8F0FE;\n",
              "      border: none;\n",
              "      border-radius: 50%;\n",
              "      cursor: pointer;\n",
              "      display: none;\n",
              "      fill: #1967D2;\n",
              "      height: 32px;\n",
              "      padding: 0 0 0 0;\n",
              "      width: 32px;\n",
              "    }\n",
              "\n",
              "    .colab-df-convert:hover {\n",
              "      background-color: #E2EBFA;\n",
              "      box-shadow: 0px 1px 2px rgba(60, 64, 67, 0.3), 0px 1px 3px 1px rgba(60, 64, 67, 0.15);\n",
              "      fill: #174EA6;\n",
              "    }\n",
              "\n",
              "    [theme=dark] .colab-df-convert {\n",
              "      background-color: #3B4455;\n",
              "      fill: #D2E3FC;\n",
              "    }\n",
              "\n",
              "    [theme=dark] .colab-df-convert:hover {\n",
              "      background-color: #434B5C;\n",
              "      box-shadow: 0px 1px 3px 1px rgba(0, 0, 0, 0.15);\n",
              "      filter: drop-shadow(0px 1px 2px rgba(0, 0, 0, 0.3));\n",
              "      fill: #FFFFFF;\n",
              "    }\n",
              "  </style>\n",
              "\n",
              "      <script>\n",
              "        const buttonEl =\n",
              "          document.querySelector('#df-dce49f95-f9de-4ffd-abae-fadb40e6b784 button.colab-df-convert');\n",
              "        buttonEl.style.display =\n",
              "          google.colab.kernel.accessAllowed ? 'block' : 'none';\n",
              "\n",
              "        async function convertToInteractive(key) {\n",
              "          const element = document.querySelector('#df-dce49f95-f9de-4ffd-abae-fadb40e6b784');\n",
              "          const dataTable =\n",
              "            await google.colab.kernel.invokeFunction('convertToInteractive',\n",
              "                                                     [key], {});\n",
              "          if (!dataTable) return;\n",
              "\n",
              "          const docLinkHtml = 'Like what you see? Visit the ' +\n",
              "            '<a target=\"_blank\" href=https://colab.research.google.com/notebooks/data_table.ipynb>data table notebook</a>'\n",
              "            + ' to learn more about interactive tables.';\n",
              "          element.innerHTML = '';\n",
              "          dataTable['output_type'] = 'display_data';\n",
              "          await google.colab.output.renderOutput(dataTable, element);\n",
              "          const docLink = document.createElement('div');\n",
              "          docLink.innerHTML = docLinkHtml;\n",
              "          element.appendChild(docLink);\n",
              "        }\n",
              "      </script>\n",
              "    </div>\n",
              "  </div>\n",
              "  "
            ]
          },
          "metadata": {},
          "execution_count": 203
        }
      ]
    },
    {
      "cell_type": "markdown",
      "source": [
        "### **Users DataSet**"
      ],
      "metadata": {
        "id": "Pb3fBys4JcB2"
      }
    },
    {
      "cell_type": "code",
      "source": [
        "#Reading the Users csv file as a pandas dataframe\n",
        "\n",
        "users_path = \"/content/drive/MyDrive/Colab Notebooks/data_book_recommendation/Users.csv\"\n",
        "users_df = pd.read_csv(users_path , low_memory = False)"
      ],
      "metadata": {
        "id": "HUxmst9P3UNC"
      },
      "execution_count": null,
      "outputs": []
    },
    {
      "cell_type": "code",
      "source": [
        "#Checking the head of the users dataframe\n",
        "users_df.head(3)"
      ],
      "metadata": {
        "colab": {
          "base_uri": "https://localhost:8080/"
        },
        "id": "Ump-ixcpWTuB",
        "outputId": "170a6841-2fb0-48f8-aec2-6ae8d56c9301"
      },
      "execution_count": null,
      "outputs": [
        {
          "output_type": "execute_result",
          "data": {
            "text/plain": [
              "   User-ID                         Location   Age\n",
              "0        1               nyc, new york, usa   NaN\n",
              "1        2        stockton, california, usa  18.0\n",
              "2        3  moscow, yukon territory, russia   NaN"
            ],
            "text/html": [
              "\n",
              "  <div id=\"df-77d83467-8adf-49c4-8d2c-c9b1ab34958d\">\n",
              "    <div class=\"colab-df-container\">\n",
              "      <div>\n",
              "<style scoped>\n",
              "    .dataframe tbody tr th:only-of-type {\n",
              "        vertical-align: middle;\n",
              "    }\n",
              "\n",
              "    .dataframe tbody tr th {\n",
              "        vertical-align: top;\n",
              "    }\n",
              "\n",
              "    .dataframe thead th {\n",
              "        text-align: right;\n",
              "    }\n",
              "</style>\n",
              "<table border=\"1\" class=\"dataframe\">\n",
              "  <thead>\n",
              "    <tr style=\"text-align: right;\">\n",
              "      <th></th>\n",
              "      <th>User-ID</th>\n",
              "      <th>Location</th>\n",
              "      <th>Age</th>\n",
              "    </tr>\n",
              "  </thead>\n",
              "  <tbody>\n",
              "    <tr>\n",
              "      <th>0</th>\n",
              "      <td>1</td>\n",
              "      <td>nyc, new york, usa</td>\n",
              "      <td>NaN</td>\n",
              "    </tr>\n",
              "    <tr>\n",
              "      <th>1</th>\n",
              "      <td>2</td>\n",
              "      <td>stockton, california, usa</td>\n",
              "      <td>18.0</td>\n",
              "    </tr>\n",
              "    <tr>\n",
              "      <th>2</th>\n",
              "      <td>3</td>\n",
              "      <td>moscow, yukon territory, russia</td>\n",
              "      <td>NaN</td>\n",
              "    </tr>\n",
              "  </tbody>\n",
              "</table>\n",
              "</div>\n",
              "      <button class=\"colab-df-convert\" onclick=\"convertToInteractive('df-77d83467-8adf-49c4-8d2c-c9b1ab34958d')\"\n",
              "              title=\"Convert this dataframe to an interactive table.\"\n",
              "              style=\"display:none;\">\n",
              "        \n",
              "  <svg xmlns=\"http://www.w3.org/2000/svg\" height=\"24px\"viewBox=\"0 0 24 24\"\n",
              "       width=\"24px\">\n",
              "    <path d=\"M0 0h24v24H0V0z\" fill=\"none\"/>\n",
              "    <path d=\"M18.56 5.44l.94 2.06.94-2.06 2.06-.94-2.06-.94-.94-2.06-.94 2.06-2.06.94zm-11 1L8.5 8.5l.94-2.06 2.06-.94-2.06-.94L8.5 2.5l-.94 2.06-2.06.94zm10 10l.94 2.06.94-2.06 2.06-.94-2.06-.94-.94-2.06-.94 2.06-2.06.94z\"/><path d=\"M17.41 7.96l-1.37-1.37c-.4-.4-.92-.59-1.43-.59-.52 0-1.04.2-1.43.59L10.3 9.45l-7.72 7.72c-.78.78-.78 2.05 0 2.83L4 21.41c.39.39.9.59 1.41.59.51 0 1.02-.2 1.41-.59l7.78-7.78 2.81-2.81c.8-.78.8-2.07 0-2.86zM5.41 20L4 18.59l7.72-7.72 1.47 1.35L5.41 20z\"/>\n",
              "  </svg>\n",
              "      </button>\n",
              "      \n",
              "  <style>\n",
              "    .colab-df-container {\n",
              "      display:flex;\n",
              "      flex-wrap:wrap;\n",
              "      gap: 12px;\n",
              "    }\n",
              "\n",
              "    .colab-df-convert {\n",
              "      background-color: #E8F0FE;\n",
              "      border: none;\n",
              "      border-radius: 50%;\n",
              "      cursor: pointer;\n",
              "      display: none;\n",
              "      fill: #1967D2;\n",
              "      height: 32px;\n",
              "      padding: 0 0 0 0;\n",
              "      width: 32px;\n",
              "    }\n",
              "\n",
              "    .colab-df-convert:hover {\n",
              "      background-color: #E2EBFA;\n",
              "      box-shadow: 0px 1px 2px rgba(60, 64, 67, 0.3), 0px 1px 3px 1px rgba(60, 64, 67, 0.15);\n",
              "      fill: #174EA6;\n",
              "    }\n",
              "\n",
              "    [theme=dark] .colab-df-convert {\n",
              "      background-color: #3B4455;\n",
              "      fill: #D2E3FC;\n",
              "    }\n",
              "\n",
              "    [theme=dark] .colab-df-convert:hover {\n",
              "      background-color: #434B5C;\n",
              "      box-shadow: 0px 1px 3px 1px rgba(0, 0, 0, 0.15);\n",
              "      filter: drop-shadow(0px 1px 2px rgba(0, 0, 0, 0.3));\n",
              "      fill: #FFFFFF;\n",
              "    }\n",
              "  </style>\n",
              "\n",
              "      <script>\n",
              "        const buttonEl =\n",
              "          document.querySelector('#df-77d83467-8adf-49c4-8d2c-c9b1ab34958d button.colab-df-convert');\n",
              "        buttonEl.style.display =\n",
              "          google.colab.kernel.accessAllowed ? 'block' : 'none';\n",
              "\n",
              "        async function convertToInteractive(key) {\n",
              "          const element = document.querySelector('#df-77d83467-8adf-49c4-8d2c-c9b1ab34958d');\n",
              "          const dataTable =\n",
              "            await google.colab.kernel.invokeFunction('convertToInteractive',\n",
              "                                                     [key], {});\n",
              "          if (!dataTable) return;\n",
              "\n",
              "          const docLinkHtml = 'Like what you see? Visit the ' +\n",
              "            '<a target=\"_blank\" href=https://colab.research.google.com/notebooks/data_table.ipynb>data table notebook</a>'\n",
              "            + ' to learn more about interactive tables.';\n",
              "          element.innerHTML = '';\n",
              "          dataTable['output_type'] = 'display_data';\n",
              "          await google.colab.output.renderOutput(dataTable, element);\n",
              "          const docLink = document.createElement('div');\n",
              "          docLink.innerHTML = docLinkHtml;\n",
              "          element.appendChild(docLink);\n",
              "        }\n",
              "      </script>\n",
              "    </div>\n",
              "  </div>\n",
              "  "
            ]
          },
          "metadata": {},
          "execution_count": 205
        }
      ]
    },
    {
      "cell_type": "code",
      "source": [
        "users_df.shape"
      ],
      "metadata": {
        "colab": {
          "base_uri": "https://localhost:8080/"
        },
        "id": "lj2UEpLVCw8k",
        "outputId": "35ac249e-3f27-4d1f-8520-e4783b8188e5"
      },
      "execution_count": null,
      "outputs": [
        {
          "output_type": "execute_result",
          "data": {
            "text/plain": [
              "(278858, 3)"
            ]
          },
          "metadata": {},
          "execution_count": 206
        }
      ]
    },
    {
      "cell_type": "markdown",
      "source": [
        "In total we have data for more than 2.7 lakh users "
      ],
      "metadata": {
        "id": "vkaOkaW0Cz4Z"
      }
    },
    {
      "cell_type": "code",
      "source": [
        "users_df.info()"
      ],
      "metadata": {
        "colab": {
          "base_uri": "https://localhost:8080/"
        },
        "id": "92RvVNM0Cf9p",
        "outputId": "93f38747-11c4-4ef4-c124-482a935f1576"
      },
      "execution_count": null,
      "outputs": [
        {
          "output_type": "stream",
          "name": "stdout",
          "text": [
            "<class 'pandas.core.frame.DataFrame'>\n",
            "RangeIndex: 278858 entries, 0 to 278857\n",
            "Data columns (total 3 columns):\n",
            " #   Column    Non-Null Count   Dtype  \n",
            "---  ------    --------------   -----  \n",
            " 0   User-ID   278858 non-null  int64  \n",
            " 1   Location  278858 non-null  object \n",
            " 2   Age       168096 non-null  float64\n",
            "dtypes: float64(1), int64(1), object(1)\n",
            "memory usage: 6.4+ MB\n"
          ]
        }
      ]
    },
    {
      "cell_type": "markdown",
      "source": [
        "We do have a number of null values in Age column"
      ],
      "metadata": {
        "id": "iejILQu9CoXU"
      }
    },
    {
      "cell_type": "code",
      "execution_count": null,
      "metadata": {
        "id": "Pkru8W8Rdg60"
      },
      "outputs": [],
      "source": [
        "def locationExtractor(locationsValues , index):\n",
        "\n",
        "  '''\n",
        "  Function to extract the city, state and country values from the location values\n",
        "  Arguments\n",
        "      - locationsValues (string) : string containing city, state and country values separated by commas\n",
        "      - index (int) : index of the values we are trying to extract in the splitted string list\n",
        "  '''\n",
        "\n",
        "  try:\n",
        "    h = locationsValues.split(\", \")[index]\n",
        "    if h == \"n/a\":\n",
        "      return np.nan\n",
        "    else:\n",
        "      return h\n",
        "  except:\n",
        "    return np.nan"
      ]
    },
    {
      "cell_type": "markdown",
      "source": [
        "We are creating three new columns named City, State and Country by passing the value of Location column to the locationExtractor function "
      ],
      "metadata": {
        "id": "xfNCS0bs6kTK"
      }
    },
    {
      "cell_type": "code",
      "execution_count": null,
      "metadata": {
        "id": "4s4tqvtxVnjf"
      },
      "outputs": [],
      "source": [
        "users_df[\"City\"] = users_df[\"Location\"].apply(locationExtractor , args = (0,))\n",
        "users_df[\"State\"] = users_df[\"Location\"].apply(locationExtractor, args = (1,))\n",
        "users_df[\"Country\"] = users_df[\"Location\"].apply(locationExtractor , args = (2,))"
      ]
    },
    {
      "cell_type": "code",
      "source": [
        "users_df[\"Age\"].unique()"
      ],
      "metadata": {
        "colab": {
          "base_uri": "https://localhost:8080/"
        },
        "id": "iSzhobxv7548",
        "outputId": "8eec253d-8f2a-46ed-9f92-dd758454f16f"
      },
      "execution_count": null,
      "outputs": [
        {
          "output_type": "execute_result",
          "data": {
            "text/plain": [
              "array([ nan,  18.,  17.,  61.,  26.,  14.,  25.,  19.,  46.,  55.,  32.,\n",
              "        24.,  20.,  34.,  23.,  51.,  31.,  21.,  44.,  30.,  57.,  43.,\n",
              "        37.,  41.,  54.,  42.,  50.,  39.,  53.,  47.,  36.,  28.,  35.,\n",
              "        13.,  58.,  49.,  38.,  45.,  62.,  63.,  27.,  33.,  29.,  66.,\n",
              "        40.,  15.,  60.,   0.,  79.,  22.,  16.,  65.,  59.,  48.,  72.,\n",
              "        56.,  67.,   1.,  80.,  52.,  69.,  71.,  73.,  78.,   9.,  64.,\n",
              "       103., 104.,  12.,  74.,  75., 231.,   3.,  76.,  83.,  68., 119.,\n",
              "        11.,  77.,   2.,  70.,  93.,   8.,   7.,   4.,  81., 114., 230.,\n",
              "       239.,  10.,   5., 148., 151.,   6., 101., 201.,  96.,  84.,  82.,\n",
              "        90., 123., 244., 133.,  91., 128.,  94.,  85., 141., 110.,  97.,\n",
              "       219.,  86., 124.,  92., 175., 172., 209., 212., 237.,  87., 162.,\n",
              "       100., 156., 136.,  95.,  89., 106.,  99., 108., 210.,  88., 199.,\n",
              "       147., 168., 132., 159., 186., 152., 102., 116., 200., 115., 226.,\n",
              "       137., 207., 229., 138., 109., 105., 228., 183., 204.,  98., 223.,\n",
              "       113., 208., 107., 157., 111., 146., 118., 220., 143., 140., 189.,\n",
              "       127.])"
            ]
          },
          "metadata": {},
          "execution_count": 210
        }
      ]
    },
    {
      "cell_type": "markdown",
      "source": [
        "We have Age values over 100 and as well as below 10 in our dataset , all of which are extreme outlier keeping in mind the nature of our dataset and hence we will replace all these Age values with zero "
      ],
      "metadata": {
        "id": "E-rvosWa8lFS"
      }
    },
    {
      "cell_type": "code",
      "execution_count": null,
      "metadata": {
        "id": "hteJvNotR3ZJ"
      },
      "outputs": [],
      "source": [
        "#Replacing all the Age values greater than 100 by 0\n",
        "users_df[\"Age\"] = np.where(users_df[\"Age\"] > 100 , 0 , users_df[\"Age\"])\n",
        "\n",
        "#Replacing all the Age values less than 10 by 0\n",
        "users_df[\"Age\"] = np.where(users_df[\"Age\"] < 10 , 0 , users_df[\"Age\"])\n",
        "\n",
        "#Filling all the null values of Age Column with zero \n",
        "users_df[\"Age\"] = users_df[\"Age\"].fillna(0)"
      ]
    },
    {
      "cell_type": "code",
      "execution_count": null,
      "metadata": {
        "id": "iEG2mevlNwr4"
      },
      "outputs": [],
      "source": [
        "def AgeGroups(age):\n",
        "\n",
        "  '''Function to determine the Age group given a particular age'''\n",
        "\n",
        "  if age < 10:\n",
        "    return np.nan\n",
        "  elif age <= 12:\n",
        "    return \"Children\"\n",
        "  elif age <= 20:\n",
        "    return \"Teenager\"\n",
        "  elif age <= 30:\n",
        "    return \"Youth\"\n",
        "  elif age <= 40:\n",
        "    return \"Middle Aged\"\n",
        "  elif age <= 60:\n",
        "    return \"Adulthood\"\n",
        "  else:\n",
        "    return \"Seniors\""
      ]
    },
    {
      "cell_type": "markdown",
      "source": [
        "We are categorizing our Age values into 6 brackets:\n",
        "1. Less than 12 - **Children**\n",
        "2. 13-20 - **Teenager**\n",
        "3. 21-30 - **Youth**\n",
        "4. 31-40 - **Middle Aged**\n",
        "5. 41-60 - **Adulthood**\n",
        "6. Greater than 60 - **Seniors**"
      ],
      "metadata": {
        "id": "lLPwHlmxAJPu"
      }
    },
    {
      "cell_type": "code",
      "execution_count": null,
      "metadata": {
        "id": "6ZDQKxvqOR4h"
      },
      "outputs": [],
      "source": [
        "#Creating a new column named Age-Group using the AgeGroups function\n",
        "users_df[\"Age-Group\"] = users_df[\"Age\"].apply(AgeGroups)"
      ]
    },
    {
      "cell_type": "code",
      "source": [
        "#Checking the head of the users dataset after all the modifications\n",
        "users_df.head()"
      ],
      "metadata": {
        "colab": {
          "base_uri": "https://localhost:8080/"
        },
        "id": "0QSf402pMOQC",
        "outputId": "6f8dc611-978f-4ad1-f462-2a9ce49aa38d"
      },
      "execution_count": null,
      "outputs": [
        {
          "output_type": "execute_result",
          "data": {
            "text/plain": [
              "   User-ID                            Location   Age         City  \\\n",
              "0        1                  nyc, new york, usa   0.0          nyc   \n",
              "1        2           stockton, california, usa  18.0     stockton   \n",
              "2        3     moscow, yukon territory, russia   0.0       moscow   \n",
              "3        4           porto, v.n.gaia, portugal  17.0        porto   \n",
              "4        5  farnborough, hants, united kingdom   0.0  farnborough   \n",
              "\n",
              "             State         Country Age-Group  \n",
              "0         new york             usa       NaN  \n",
              "1       california             usa  Teenager  \n",
              "2  yukon territory          russia       NaN  \n",
              "3         v.n.gaia        portugal  Teenager  \n",
              "4            hants  united kingdom       NaN  "
            ],
            "text/html": [
              "\n",
              "  <div id=\"df-3f866d32-ec32-40e5-9634-a7348cb2f3bf\">\n",
              "    <div class=\"colab-df-container\">\n",
              "      <div>\n",
              "<style scoped>\n",
              "    .dataframe tbody tr th:only-of-type {\n",
              "        vertical-align: middle;\n",
              "    }\n",
              "\n",
              "    .dataframe tbody tr th {\n",
              "        vertical-align: top;\n",
              "    }\n",
              "\n",
              "    .dataframe thead th {\n",
              "        text-align: right;\n",
              "    }\n",
              "</style>\n",
              "<table border=\"1\" class=\"dataframe\">\n",
              "  <thead>\n",
              "    <tr style=\"text-align: right;\">\n",
              "      <th></th>\n",
              "      <th>User-ID</th>\n",
              "      <th>Location</th>\n",
              "      <th>Age</th>\n",
              "      <th>City</th>\n",
              "      <th>State</th>\n",
              "      <th>Country</th>\n",
              "      <th>Age-Group</th>\n",
              "    </tr>\n",
              "  </thead>\n",
              "  <tbody>\n",
              "    <tr>\n",
              "      <th>0</th>\n",
              "      <td>1</td>\n",
              "      <td>nyc, new york, usa</td>\n",
              "      <td>0.0</td>\n",
              "      <td>nyc</td>\n",
              "      <td>new york</td>\n",
              "      <td>usa</td>\n",
              "      <td>NaN</td>\n",
              "    </tr>\n",
              "    <tr>\n",
              "      <th>1</th>\n",
              "      <td>2</td>\n",
              "      <td>stockton, california, usa</td>\n",
              "      <td>18.0</td>\n",
              "      <td>stockton</td>\n",
              "      <td>california</td>\n",
              "      <td>usa</td>\n",
              "      <td>Teenager</td>\n",
              "    </tr>\n",
              "    <tr>\n",
              "      <th>2</th>\n",
              "      <td>3</td>\n",
              "      <td>moscow, yukon territory, russia</td>\n",
              "      <td>0.0</td>\n",
              "      <td>moscow</td>\n",
              "      <td>yukon territory</td>\n",
              "      <td>russia</td>\n",
              "      <td>NaN</td>\n",
              "    </tr>\n",
              "    <tr>\n",
              "      <th>3</th>\n",
              "      <td>4</td>\n",
              "      <td>porto, v.n.gaia, portugal</td>\n",
              "      <td>17.0</td>\n",
              "      <td>porto</td>\n",
              "      <td>v.n.gaia</td>\n",
              "      <td>portugal</td>\n",
              "      <td>Teenager</td>\n",
              "    </tr>\n",
              "    <tr>\n",
              "      <th>4</th>\n",
              "      <td>5</td>\n",
              "      <td>farnborough, hants, united kingdom</td>\n",
              "      <td>0.0</td>\n",
              "      <td>farnborough</td>\n",
              "      <td>hants</td>\n",
              "      <td>united kingdom</td>\n",
              "      <td>NaN</td>\n",
              "    </tr>\n",
              "  </tbody>\n",
              "</table>\n",
              "</div>\n",
              "      <button class=\"colab-df-convert\" onclick=\"convertToInteractive('df-3f866d32-ec32-40e5-9634-a7348cb2f3bf')\"\n",
              "              title=\"Convert this dataframe to an interactive table.\"\n",
              "              style=\"display:none;\">\n",
              "        \n",
              "  <svg xmlns=\"http://www.w3.org/2000/svg\" height=\"24px\"viewBox=\"0 0 24 24\"\n",
              "       width=\"24px\">\n",
              "    <path d=\"M0 0h24v24H0V0z\" fill=\"none\"/>\n",
              "    <path d=\"M18.56 5.44l.94 2.06.94-2.06 2.06-.94-2.06-.94-.94-2.06-.94 2.06-2.06.94zm-11 1L8.5 8.5l.94-2.06 2.06-.94-2.06-.94L8.5 2.5l-.94 2.06-2.06.94zm10 10l.94 2.06.94-2.06 2.06-.94-2.06-.94-.94-2.06-.94 2.06-2.06.94z\"/><path d=\"M17.41 7.96l-1.37-1.37c-.4-.4-.92-.59-1.43-.59-.52 0-1.04.2-1.43.59L10.3 9.45l-7.72 7.72c-.78.78-.78 2.05 0 2.83L4 21.41c.39.39.9.59 1.41.59.51 0 1.02-.2 1.41-.59l7.78-7.78 2.81-2.81c.8-.78.8-2.07 0-2.86zM5.41 20L4 18.59l7.72-7.72 1.47 1.35L5.41 20z\"/>\n",
              "  </svg>\n",
              "      </button>\n",
              "      \n",
              "  <style>\n",
              "    .colab-df-container {\n",
              "      display:flex;\n",
              "      flex-wrap:wrap;\n",
              "      gap: 12px;\n",
              "    }\n",
              "\n",
              "    .colab-df-convert {\n",
              "      background-color: #E8F0FE;\n",
              "      border: none;\n",
              "      border-radius: 50%;\n",
              "      cursor: pointer;\n",
              "      display: none;\n",
              "      fill: #1967D2;\n",
              "      height: 32px;\n",
              "      padding: 0 0 0 0;\n",
              "      width: 32px;\n",
              "    }\n",
              "\n",
              "    .colab-df-convert:hover {\n",
              "      background-color: #E2EBFA;\n",
              "      box-shadow: 0px 1px 2px rgba(60, 64, 67, 0.3), 0px 1px 3px 1px rgba(60, 64, 67, 0.15);\n",
              "      fill: #174EA6;\n",
              "    }\n",
              "\n",
              "    [theme=dark] .colab-df-convert {\n",
              "      background-color: #3B4455;\n",
              "      fill: #D2E3FC;\n",
              "    }\n",
              "\n",
              "    [theme=dark] .colab-df-convert:hover {\n",
              "      background-color: #434B5C;\n",
              "      box-shadow: 0px 1px 3px 1px rgba(0, 0, 0, 0.15);\n",
              "      filter: drop-shadow(0px 1px 2px rgba(0, 0, 0, 0.3));\n",
              "      fill: #FFFFFF;\n",
              "    }\n",
              "  </style>\n",
              "\n",
              "      <script>\n",
              "        const buttonEl =\n",
              "          document.querySelector('#df-3f866d32-ec32-40e5-9634-a7348cb2f3bf button.colab-df-convert');\n",
              "        buttonEl.style.display =\n",
              "          google.colab.kernel.accessAllowed ? 'block' : 'none';\n",
              "\n",
              "        async function convertToInteractive(key) {\n",
              "          const element = document.querySelector('#df-3f866d32-ec32-40e5-9634-a7348cb2f3bf');\n",
              "          const dataTable =\n",
              "            await google.colab.kernel.invokeFunction('convertToInteractive',\n",
              "                                                     [key], {});\n",
              "          if (!dataTable) return;\n",
              "\n",
              "          const docLinkHtml = 'Like what you see? Visit the ' +\n",
              "            '<a target=\"_blank\" href=https://colab.research.google.com/notebooks/data_table.ipynb>data table notebook</a>'\n",
              "            + ' to learn more about interactive tables.';\n",
              "          element.innerHTML = '';\n",
              "          dataTable['output_type'] = 'display_data';\n",
              "          await google.colab.output.renderOutput(dataTable, element);\n",
              "          const docLink = document.createElement('div');\n",
              "          docLink.innerHTML = docLinkHtml;\n",
              "          element.appendChild(docLink);\n",
              "        }\n",
              "      </script>\n",
              "    </div>\n",
              "  </div>\n",
              "  "
            ]
          },
          "metadata": {},
          "execution_count": 214
        }
      ]
    },
    {
      "cell_type": "markdown",
      "source": [
        "### **Ratings DataSet**"
      ],
      "metadata": {
        "id": "vrjAobOqMVRi"
      }
    },
    {
      "cell_type": "code",
      "source": [
        "#Reading the Ratings csv file as a pandas dataframe\n",
        "\n",
        "ratings_path = \"/content/drive/MyDrive/Colab Notebooks/data_book_recommendation/Ratings.csv\"\n",
        "ratings_df = pd.read_csv(ratings_path , low_memory = False)"
      ],
      "metadata": {
        "id": "TPh2dCVOD3gD"
      },
      "execution_count": null,
      "outputs": []
    },
    {
      "cell_type": "code",
      "source": [
        "#Checking the head of the ratings dataframe\n",
        "ratings_df.head()"
      ],
      "metadata": {
        "id": "QkqZ_mgDkcLx",
        "colab": {
          "base_uri": "https://localhost:8080/"
        },
        "outputId": "5cf953f2-0724-4c3a-f26d-d4f57e6b33e0"
      },
      "execution_count": null,
      "outputs": [
        {
          "output_type": "execute_result",
          "data": {
            "text/plain": [
              "   User-ID        ISBN  Book-Rating\n",
              "0   276725  034545104X            0\n",
              "1   276726  0155061224            5\n",
              "2   276727  0446520802            0\n",
              "3   276729  052165615X            3\n",
              "4   276729  0521795028            6"
            ],
            "text/html": [
              "\n",
              "  <div id=\"df-ee1f2175-a6c1-4305-aff4-659e30a4e830\">\n",
              "    <div class=\"colab-df-container\">\n",
              "      <div>\n",
              "<style scoped>\n",
              "    .dataframe tbody tr th:only-of-type {\n",
              "        vertical-align: middle;\n",
              "    }\n",
              "\n",
              "    .dataframe tbody tr th {\n",
              "        vertical-align: top;\n",
              "    }\n",
              "\n",
              "    .dataframe thead th {\n",
              "        text-align: right;\n",
              "    }\n",
              "</style>\n",
              "<table border=\"1\" class=\"dataframe\">\n",
              "  <thead>\n",
              "    <tr style=\"text-align: right;\">\n",
              "      <th></th>\n",
              "      <th>User-ID</th>\n",
              "      <th>ISBN</th>\n",
              "      <th>Book-Rating</th>\n",
              "    </tr>\n",
              "  </thead>\n",
              "  <tbody>\n",
              "    <tr>\n",
              "      <th>0</th>\n",
              "      <td>276725</td>\n",
              "      <td>034545104X</td>\n",
              "      <td>0</td>\n",
              "    </tr>\n",
              "    <tr>\n",
              "      <th>1</th>\n",
              "      <td>276726</td>\n",
              "      <td>0155061224</td>\n",
              "      <td>5</td>\n",
              "    </tr>\n",
              "    <tr>\n",
              "      <th>2</th>\n",
              "      <td>276727</td>\n",
              "      <td>0446520802</td>\n",
              "      <td>0</td>\n",
              "    </tr>\n",
              "    <tr>\n",
              "      <th>3</th>\n",
              "      <td>276729</td>\n",
              "      <td>052165615X</td>\n",
              "      <td>3</td>\n",
              "    </tr>\n",
              "    <tr>\n",
              "      <th>4</th>\n",
              "      <td>276729</td>\n",
              "      <td>0521795028</td>\n",
              "      <td>6</td>\n",
              "    </tr>\n",
              "  </tbody>\n",
              "</table>\n",
              "</div>\n",
              "      <button class=\"colab-df-convert\" onclick=\"convertToInteractive('df-ee1f2175-a6c1-4305-aff4-659e30a4e830')\"\n",
              "              title=\"Convert this dataframe to an interactive table.\"\n",
              "              style=\"display:none;\">\n",
              "        \n",
              "  <svg xmlns=\"http://www.w3.org/2000/svg\" height=\"24px\"viewBox=\"0 0 24 24\"\n",
              "       width=\"24px\">\n",
              "    <path d=\"M0 0h24v24H0V0z\" fill=\"none\"/>\n",
              "    <path d=\"M18.56 5.44l.94 2.06.94-2.06 2.06-.94-2.06-.94-.94-2.06-.94 2.06-2.06.94zm-11 1L8.5 8.5l.94-2.06 2.06-.94-2.06-.94L8.5 2.5l-.94 2.06-2.06.94zm10 10l.94 2.06.94-2.06 2.06-.94-2.06-.94-.94-2.06-.94 2.06-2.06.94z\"/><path d=\"M17.41 7.96l-1.37-1.37c-.4-.4-.92-.59-1.43-.59-.52 0-1.04.2-1.43.59L10.3 9.45l-7.72 7.72c-.78.78-.78 2.05 0 2.83L4 21.41c.39.39.9.59 1.41.59.51 0 1.02-.2 1.41-.59l7.78-7.78 2.81-2.81c.8-.78.8-2.07 0-2.86zM5.41 20L4 18.59l7.72-7.72 1.47 1.35L5.41 20z\"/>\n",
              "  </svg>\n",
              "      </button>\n",
              "      \n",
              "  <style>\n",
              "    .colab-df-container {\n",
              "      display:flex;\n",
              "      flex-wrap:wrap;\n",
              "      gap: 12px;\n",
              "    }\n",
              "\n",
              "    .colab-df-convert {\n",
              "      background-color: #E8F0FE;\n",
              "      border: none;\n",
              "      border-radius: 50%;\n",
              "      cursor: pointer;\n",
              "      display: none;\n",
              "      fill: #1967D2;\n",
              "      height: 32px;\n",
              "      padding: 0 0 0 0;\n",
              "      width: 32px;\n",
              "    }\n",
              "\n",
              "    .colab-df-convert:hover {\n",
              "      background-color: #E2EBFA;\n",
              "      box-shadow: 0px 1px 2px rgba(60, 64, 67, 0.3), 0px 1px 3px 1px rgba(60, 64, 67, 0.15);\n",
              "      fill: #174EA6;\n",
              "    }\n",
              "\n",
              "    [theme=dark] .colab-df-convert {\n",
              "      background-color: #3B4455;\n",
              "      fill: #D2E3FC;\n",
              "    }\n",
              "\n",
              "    [theme=dark] .colab-df-convert:hover {\n",
              "      background-color: #434B5C;\n",
              "      box-shadow: 0px 1px 3px 1px rgba(0, 0, 0, 0.15);\n",
              "      filter: drop-shadow(0px 1px 2px rgba(0, 0, 0, 0.3));\n",
              "      fill: #FFFFFF;\n",
              "    }\n",
              "  </style>\n",
              "\n",
              "      <script>\n",
              "        const buttonEl =\n",
              "          document.querySelector('#df-ee1f2175-a6c1-4305-aff4-659e30a4e830 button.colab-df-convert');\n",
              "        buttonEl.style.display =\n",
              "          google.colab.kernel.accessAllowed ? 'block' : 'none';\n",
              "\n",
              "        async function convertToInteractive(key) {\n",
              "          const element = document.querySelector('#df-ee1f2175-a6c1-4305-aff4-659e30a4e830');\n",
              "          const dataTable =\n",
              "            await google.colab.kernel.invokeFunction('convertToInteractive',\n",
              "                                                     [key], {});\n",
              "          if (!dataTable) return;\n",
              "\n",
              "          const docLinkHtml = 'Like what you see? Visit the ' +\n",
              "            '<a target=\"_blank\" href=https://colab.research.google.com/notebooks/data_table.ipynb>data table notebook</a>'\n",
              "            + ' to learn more about interactive tables.';\n",
              "          element.innerHTML = '';\n",
              "          dataTable['output_type'] = 'display_data';\n",
              "          await google.colab.output.renderOutput(dataTable, element);\n",
              "          const docLink = document.createElement('div');\n",
              "          docLink.innerHTML = docLinkHtml;\n",
              "          element.appendChild(docLink);\n",
              "        }\n",
              "      </script>\n",
              "    </div>\n",
              "  </div>\n",
              "  "
            ]
          },
          "metadata": {},
          "execution_count": 216
        }
      ]
    },
    {
      "cell_type": "code",
      "source": [
        "ratings_df.shape"
      ],
      "metadata": {
        "colab": {
          "base_uri": "https://localhost:8080/"
        },
        "id": "shlFgqLiENWU",
        "outputId": "3096da62-1187-4067-cb0a-7915b8e43599"
      },
      "execution_count": null,
      "outputs": [
        {
          "output_type": "execute_result",
          "data": {
            "text/plain": [
              "(1149780, 3)"
            ]
          },
          "metadata": {},
          "execution_count": 217
        }
      ]
    },
    {
      "cell_type": "markdown",
      "source": [
        "Our ratings dataset contains more than 11 lakh user rating records"
      ],
      "metadata": {
        "id": "44B5VC9zE6hI"
      }
    },
    {
      "cell_type": "code",
      "source": [
        "ratings_df.info()"
      ],
      "metadata": {
        "colab": {
          "base_uri": "https://localhost:8080/"
        },
        "id": "0H-H7HOyFRHq",
        "outputId": "7ba7afa5-c0aa-4e2f-dd30-2e8dc7cf8249"
      },
      "execution_count": null,
      "outputs": [
        {
          "output_type": "stream",
          "name": "stdout",
          "text": [
            "<class 'pandas.core.frame.DataFrame'>\n",
            "RangeIndex: 1149780 entries, 0 to 1149779\n",
            "Data columns (total 3 columns):\n",
            " #   Column       Non-Null Count    Dtype \n",
            "---  ------       --------------    ----- \n",
            " 0   User-ID      1149780 non-null  int64 \n",
            " 1   ISBN         1149780 non-null  object\n",
            " 2   Book-Rating  1149780 non-null  int64 \n",
            "dtypes: int64(2), object(1)\n",
            "memory usage: 26.3+ MB\n"
          ]
        }
      ]
    },
    {
      "cell_type": "markdown",
      "source": [
        "The dataset doesn't contains null values in any of the column"
      ],
      "metadata": {
        "id": "ZAAPbZQmFVUh"
      }
    },
    {
      "cell_type": "code",
      "source": [
        "#We are looking for duplicate user ratings for the same books in our dataset\n",
        "ratings_df[ratings_df.duplicated(subset = [\"User-ID\" , \"ISBN\"])]"
      ],
      "metadata": {
        "colab": {
          "base_uri": "https://localhost:8080/"
        },
        "id": "kXh79VX4Nksb",
        "outputId": "6bd89243-f7b1-4041-df7f-58b12bc94a0c"
      },
      "execution_count": null,
      "outputs": [
        {
          "output_type": "execute_result",
          "data": {
            "text/plain": [
              "Empty DataFrame\n",
              "Columns: [User-ID, ISBN, Book-Rating]\n",
              "Index: []"
            ],
            "text/html": [
              "\n",
              "  <div id=\"df-5e95cc5d-dd36-4711-8c50-1c3f2f5f5784\">\n",
              "    <div class=\"colab-df-container\">\n",
              "      <div>\n",
              "<style scoped>\n",
              "    .dataframe tbody tr th:only-of-type {\n",
              "        vertical-align: middle;\n",
              "    }\n",
              "\n",
              "    .dataframe tbody tr th {\n",
              "        vertical-align: top;\n",
              "    }\n",
              "\n",
              "    .dataframe thead th {\n",
              "        text-align: right;\n",
              "    }\n",
              "</style>\n",
              "<table border=\"1\" class=\"dataframe\">\n",
              "  <thead>\n",
              "    <tr style=\"text-align: right;\">\n",
              "      <th></th>\n",
              "      <th>User-ID</th>\n",
              "      <th>ISBN</th>\n",
              "      <th>Book-Rating</th>\n",
              "    </tr>\n",
              "  </thead>\n",
              "  <tbody>\n",
              "  </tbody>\n",
              "</table>\n",
              "</div>\n",
              "      <button class=\"colab-df-convert\" onclick=\"convertToInteractive('df-5e95cc5d-dd36-4711-8c50-1c3f2f5f5784')\"\n",
              "              title=\"Convert this dataframe to an interactive table.\"\n",
              "              style=\"display:none;\">\n",
              "        \n",
              "  <svg xmlns=\"http://www.w3.org/2000/svg\" height=\"24px\"viewBox=\"0 0 24 24\"\n",
              "       width=\"24px\">\n",
              "    <path d=\"M0 0h24v24H0V0z\" fill=\"none\"/>\n",
              "    <path d=\"M18.56 5.44l.94 2.06.94-2.06 2.06-.94-2.06-.94-.94-2.06-.94 2.06-2.06.94zm-11 1L8.5 8.5l.94-2.06 2.06-.94-2.06-.94L8.5 2.5l-.94 2.06-2.06.94zm10 10l.94 2.06.94-2.06 2.06-.94-2.06-.94-.94-2.06-.94 2.06-2.06.94z\"/><path d=\"M17.41 7.96l-1.37-1.37c-.4-.4-.92-.59-1.43-.59-.52 0-1.04.2-1.43.59L10.3 9.45l-7.72 7.72c-.78.78-.78 2.05 0 2.83L4 21.41c.39.39.9.59 1.41.59.51 0 1.02-.2 1.41-.59l7.78-7.78 2.81-2.81c.8-.78.8-2.07 0-2.86zM5.41 20L4 18.59l7.72-7.72 1.47 1.35L5.41 20z\"/>\n",
              "  </svg>\n",
              "      </button>\n",
              "      \n",
              "  <style>\n",
              "    .colab-df-container {\n",
              "      display:flex;\n",
              "      flex-wrap:wrap;\n",
              "      gap: 12px;\n",
              "    }\n",
              "\n",
              "    .colab-df-convert {\n",
              "      background-color: #E8F0FE;\n",
              "      border: none;\n",
              "      border-radius: 50%;\n",
              "      cursor: pointer;\n",
              "      display: none;\n",
              "      fill: #1967D2;\n",
              "      height: 32px;\n",
              "      padding: 0 0 0 0;\n",
              "      width: 32px;\n",
              "    }\n",
              "\n",
              "    .colab-df-convert:hover {\n",
              "      background-color: #E2EBFA;\n",
              "      box-shadow: 0px 1px 2px rgba(60, 64, 67, 0.3), 0px 1px 3px 1px rgba(60, 64, 67, 0.15);\n",
              "      fill: #174EA6;\n",
              "    }\n",
              "\n",
              "    [theme=dark] .colab-df-convert {\n",
              "      background-color: #3B4455;\n",
              "      fill: #D2E3FC;\n",
              "    }\n",
              "\n",
              "    [theme=dark] .colab-df-convert:hover {\n",
              "      background-color: #434B5C;\n",
              "      box-shadow: 0px 1px 3px 1px rgba(0, 0, 0, 0.15);\n",
              "      filter: drop-shadow(0px 1px 2px rgba(0, 0, 0, 0.3));\n",
              "      fill: #FFFFFF;\n",
              "    }\n",
              "  </style>\n",
              "\n",
              "      <script>\n",
              "        const buttonEl =\n",
              "          document.querySelector('#df-5e95cc5d-dd36-4711-8c50-1c3f2f5f5784 button.colab-df-convert');\n",
              "        buttonEl.style.display =\n",
              "          google.colab.kernel.accessAllowed ? 'block' : 'none';\n",
              "\n",
              "        async function convertToInteractive(key) {\n",
              "          const element = document.querySelector('#df-5e95cc5d-dd36-4711-8c50-1c3f2f5f5784');\n",
              "          const dataTable =\n",
              "            await google.colab.kernel.invokeFunction('convertToInteractive',\n",
              "                                                     [key], {});\n",
              "          if (!dataTable) return;\n",
              "\n",
              "          const docLinkHtml = 'Like what you see? Visit the ' +\n",
              "            '<a target=\"_blank\" href=https://colab.research.google.com/notebooks/data_table.ipynb>data table notebook</a>'\n",
              "            + ' to learn more about interactive tables.';\n",
              "          element.innerHTML = '';\n",
              "          dataTable['output_type'] = 'display_data';\n",
              "          await google.colab.output.renderOutput(dataTable, element);\n",
              "          const docLink = document.createElement('div');\n",
              "          docLink.innerHTML = docLinkHtml;\n",
              "          element.appendChild(docLink);\n",
              "        }\n",
              "      </script>\n",
              "    </div>\n",
              "  </div>\n",
              "  "
            ]
          },
          "metadata": {},
          "execution_count": 219
        }
      ]
    },
    {
      "cell_type": "markdown",
      "source": [
        "We don't have duplicate user ratings for any of the book in our dataset"
      ],
      "metadata": {
        "id": "C_1k8k9aFlTa"
      }
    },
    {
      "cell_type": "markdown",
      "source": [
        "## **Merging and Filtering**\n",
        "\n",
        "###After going through all the three datasets , creating some new columns for some of them and treating the null values wherever needed , it's now time to merge all the three datasets into one single datasets which we will use to build our recommender system\n",
        "\n",
        "###Also for the recommender system we are going to built we will only use and need explicit ratings data so we will drop all the implicit rating records"
      ],
      "metadata": {
        "id": "fQBh5qGpN3cC"
      }
    },
    {
      "cell_type": "code",
      "execution_count": null,
      "metadata": {
        "id": "zww5awgql1jL"
      },
      "outputs": [],
      "source": [
        "#Getting all the record in which the Book-Rating values is not zero\n",
        "explicit_ratings_df = ratings_df[ratings_df[\"Book-Rating\"] != 0]\n",
        "\n",
        "#Creating a list of all unique User-ID which have explicitly rated books\n",
        "explicit_userids = list(explicit_ratings_df[\"User-ID\"].unique())\n",
        "\n",
        "#Filtering our users dataset so to only have records of users who have explicitly rated any given book\n",
        "explicit_users_df = users_df[users_df[\"User-ID\"].isin(explicit_userids)]"
      ]
    },
    {
      "cell_type": "markdown",
      "source": [
        "**To ensure statistical significance , we have removed books with less than 15 ratings**"
      ],
      "metadata": {
        "id": "uoTu5FDXUQI7"
      }
    },
    {
      "cell_type": "code",
      "execution_count": null,
      "metadata": {
        "colab": {
          "base_uri": "https://localhost:8080/"
        },
        "id": "LZrto48ttt9m",
        "outputId": "37fce83b-3dfb-4bad-a037-09ad7a12da7a"
      },
      "outputs": [
        {
          "output_type": "execute_result",
          "data": {
            "text/plain": [
              "0316666343    707\n",
              "0971880107    581\n",
              "0385504209    487\n",
              "0312195516    383\n",
              "0679781587    333\n",
              "             ... \n",
              "0375701427     15\n",
              "0743456173     15\n",
              "044022330X     15\n",
              "0060191988     15\n",
              "0679447156     15\n",
              "Name: ISBN, Length: 3244, dtype: int64"
            ]
          },
          "metadata": {},
          "execution_count": 221
        }
      ],
      "source": [
        "#Filtering and removing all the books with less than 15 user ratings\n",
        "filtered_ratings_df = explicit_ratings_df.groupby(\"ISBN\").filter(lambda x : len(x) >= 15)\n",
        "filtered_ratings_df[\"ISBN\"].value_counts()"
      ]
    },
    {
      "cell_type": "code",
      "execution_count": null,
      "metadata": {
        "colab": {
          "base_uri": "https://localhost:8080/"
        },
        "id": "i7G1hSeET2-Y",
        "outputId": "e12a094e-8942-46c7-e732-a0da1ee1facf"
      },
      "outputs": [
        {
          "output_type": "execute_result",
          "data": {
            "text/plain": [
              "Empty DataFrame\n",
              "Columns: [User-ID, ISBN, Book-Rating]\n",
              "Index: []"
            ],
            "text/html": [
              "\n",
              "  <div id=\"df-99a995b5-31e0-425a-b0d5-21307c0fb931\">\n",
              "    <div class=\"colab-df-container\">\n",
              "      <div>\n",
              "<style scoped>\n",
              "    .dataframe tbody tr th:only-of-type {\n",
              "        vertical-align: middle;\n",
              "    }\n",
              "\n",
              "    .dataframe tbody tr th {\n",
              "        vertical-align: top;\n",
              "    }\n",
              "\n",
              "    .dataframe thead th {\n",
              "        text-align: right;\n",
              "    }\n",
              "</style>\n",
              "<table border=\"1\" class=\"dataframe\">\n",
              "  <thead>\n",
              "    <tr style=\"text-align: right;\">\n",
              "      <th></th>\n",
              "      <th>User-ID</th>\n",
              "      <th>ISBN</th>\n",
              "      <th>Book-Rating</th>\n",
              "    </tr>\n",
              "  </thead>\n",
              "  <tbody>\n",
              "  </tbody>\n",
              "</table>\n",
              "</div>\n",
              "      <button class=\"colab-df-convert\" onclick=\"convertToInteractive('df-99a995b5-31e0-425a-b0d5-21307c0fb931')\"\n",
              "              title=\"Convert this dataframe to an interactive table.\"\n",
              "              style=\"display:none;\">\n",
              "        \n",
              "  <svg xmlns=\"http://www.w3.org/2000/svg\" height=\"24px\"viewBox=\"0 0 24 24\"\n",
              "       width=\"24px\">\n",
              "    <path d=\"M0 0h24v24H0V0z\" fill=\"none\"/>\n",
              "    <path d=\"M18.56 5.44l.94 2.06.94-2.06 2.06-.94-2.06-.94-.94-2.06-.94 2.06-2.06.94zm-11 1L8.5 8.5l.94-2.06 2.06-.94-2.06-.94L8.5 2.5l-.94 2.06-2.06.94zm10 10l.94 2.06.94-2.06 2.06-.94-2.06-.94-.94-2.06-.94 2.06-2.06.94z\"/><path d=\"M17.41 7.96l-1.37-1.37c-.4-.4-.92-.59-1.43-.59-.52 0-1.04.2-1.43.59L10.3 9.45l-7.72 7.72c-.78.78-.78 2.05 0 2.83L4 21.41c.39.39.9.59 1.41.59.51 0 1.02-.2 1.41-.59l7.78-7.78 2.81-2.81c.8-.78.8-2.07 0-2.86zM5.41 20L4 18.59l7.72-7.72 1.47 1.35L5.41 20z\"/>\n",
              "  </svg>\n",
              "      </button>\n",
              "      \n",
              "  <style>\n",
              "    .colab-df-container {\n",
              "      display:flex;\n",
              "      flex-wrap:wrap;\n",
              "      gap: 12px;\n",
              "    }\n",
              "\n",
              "    .colab-df-convert {\n",
              "      background-color: #E8F0FE;\n",
              "      border: none;\n",
              "      border-radius: 50%;\n",
              "      cursor: pointer;\n",
              "      display: none;\n",
              "      fill: #1967D2;\n",
              "      height: 32px;\n",
              "      padding: 0 0 0 0;\n",
              "      width: 32px;\n",
              "    }\n",
              "\n",
              "    .colab-df-convert:hover {\n",
              "      background-color: #E2EBFA;\n",
              "      box-shadow: 0px 1px 2px rgba(60, 64, 67, 0.3), 0px 1px 3px 1px rgba(60, 64, 67, 0.15);\n",
              "      fill: #174EA6;\n",
              "    }\n",
              "\n",
              "    [theme=dark] .colab-df-convert {\n",
              "      background-color: #3B4455;\n",
              "      fill: #D2E3FC;\n",
              "    }\n",
              "\n",
              "    [theme=dark] .colab-df-convert:hover {\n",
              "      background-color: #434B5C;\n",
              "      box-shadow: 0px 1px 3px 1px rgba(0, 0, 0, 0.15);\n",
              "      filter: drop-shadow(0px 1px 2px rgba(0, 0, 0, 0.3));\n",
              "      fill: #FFFFFF;\n",
              "    }\n",
              "  </style>\n",
              "\n",
              "      <script>\n",
              "        const buttonEl =\n",
              "          document.querySelector('#df-99a995b5-31e0-425a-b0d5-21307c0fb931 button.colab-df-convert');\n",
              "        buttonEl.style.display =\n",
              "          google.colab.kernel.accessAllowed ? 'block' : 'none';\n",
              "\n",
              "        async function convertToInteractive(key) {\n",
              "          const element = document.querySelector('#df-99a995b5-31e0-425a-b0d5-21307c0fb931');\n",
              "          const dataTable =\n",
              "            await google.colab.kernel.invokeFunction('convertToInteractive',\n",
              "                                                     [key], {});\n",
              "          if (!dataTable) return;\n",
              "\n",
              "          const docLinkHtml = 'Like what you see? Visit the ' +\n",
              "            '<a target=\"_blank\" href=https://colab.research.google.com/notebooks/data_table.ipynb>data table notebook</a>'\n",
              "            + ' to learn more about interactive tables.';\n",
              "          element.innerHTML = '';\n",
              "          dataTable['output_type'] = 'display_data';\n",
              "          await google.colab.output.renderOutput(dataTable, element);\n",
              "          const docLink = document.createElement('div');\n",
              "          docLink.innerHTML = docLinkHtml;\n",
              "          element.appendChild(docLink);\n",
              "        }\n",
              "      </script>\n",
              "    </div>\n",
              "  </div>\n",
              "  "
            ]
          },
          "metadata": {},
          "execution_count": 222
        }
      ],
      "source": [
        "filtered_ratings_df[filtered_ratings_df.duplicated(subset = [\"User-ID\" , \"ISBN\"])]"
      ]
    },
    {
      "cell_type": "code",
      "execution_count": null,
      "metadata": {
        "id": "bAaVZmB4R_re",
        "colab": {
          "base_uri": "https://localhost:8080/"
        },
        "outputId": "57a1fc38-6214-4771-e12e-a089de30c344"
      },
      "outputs": [
        {
          "output_type": "execute_result",
          "data": {
            "text/plain": [
              "34573"
            ]
          },
          "metadata": {},
          "execution_count": 223
        }
      ],
      "source": [
        "#Merging the filtered ratings dataset with books dataset based on ISBN values\n",
        "books_ratings_df = pd.merge(filtered_ratings_df , books_df , on = [\"ISBN\"])\n",
        "books_ratings_df[\"User-ID\"].nunique()"
      ]
    },
    {
      "cell_type": "code",
      "execution_count": null,
      "metadata": {
        "colab": {
          "base_uri": "https://localhost:8080/"
        },
        "id": "aDc8B8gaP_Wy",
        "outputId": "0c250bdc-65ba-4b80-b06a-d977eac3d0ee"
      },
      "outputs": [
        {
          "output_type": "execute_result",
          "data": {
            "text/plain": [
              "Empty DataFrame\n",
              "Columns: [User-ID, ISBN, Book-Rating, Book-Title, Book-Author, Year-Of-Publication, Publisher, Decade]\n",
              "Index: []"
            ],
            "text/html": [
              "\n",
              "  <div id=\"df-6434b6e2-3d09-4527-be25-c7c5f39261c5\">\n",
              "    <div class=\"colab-df-container\">\n",
              "      <div>\n",
              "<style scoped>\n",
              "    .dataframe tbody tr th:only-of-type {\n",
              "        vertical-align: middle;\n",
              "    }\n",
              "\n",
              "    .dataframe tbody tr th {\n",
              "        vertical-align: top;\n",
              "    }\n",
              "\n",
              "    .dataframe thead th {\n",
              "        text-align: right;\n",
              "    }\n",
              "</style>\n",
              "<table border=\"1\" class=\"dataframe\">\n",
              "  <thead>\n",
              "    <tr style=\"text-align: right;\">\n",
              "      <th></th>\n",
              "      <th>User-ID</th>\n",
              "      <th>ISBN</th>\n",
              "      <th>Book-Rating</th>\n",
              "      <th>Book-Title</th>\n",
              "      <th>Book-Author</th>\n",
              "      <th>Year-Of-Publication</th>\n",
              "      <th>Publisher</th>\n",
              "      <th>Decade</th>\n",
              "    </tr>\n",
              "  </thead>\n",
              "  <tbody>\n",
              "  </tbody>\n",
              "</table>\n",
              "</div>\n",
              "      <button class=\"colab-df-convert\" onclick=\"convertToInteractive('df-6434b6e2-3d09-4527-be25-c7c5f39261c5')\"\n",
              "              title=\"Convert this dataframe to an interactive table.\"\n",
              "              style=\"display:none;\">\n",
              "        \n",
              "  <svg xmlns=\"http://www.w3.org/2000/svg\" height=\"24px\"viewBox=\"0 0 24 24\"\n",
              "       width=\"24px\">\n",
              "    <path d=\"M0 0h24v24H0V0z\" fill=\"none\"/>\n",
              "    <path d=\"M18.56 5.44l.94 2.06.94-2.06 2.06-.94-2.06-.94-.94-2.06-.94 2.06-2.06.94zm-11 1L8.5 8.5l.94-2.06 2.06-.94-2.06-.94L8.5 2.5l-.94 2.06-2.06.94zm10 10l.94 2.06.94-2.06 2.06-.94-2.06-.94-.94-2.06-.94 2.06-2.06.94z\"/><path d=\"M17.41 7.96l-1.37-1.37c-.4-.4-.92-.59-1.43-.59-.52 0-1.04.2-1.43.59L10.3 9.45l-7.72 7.72c-.78.78-.78 2.05 0 2.83L4 21.41c.39.39.9.59 1.41.59.51 0 1.02-.2 1.41-.59l7.78-7.78 2.81-2.81c.8-.78.8-2.07 0-2.86zM5.41 20L4 18.59l7.72-7.72 1.47 1.35L5.41 20z\"/>\n",
              "  </svg>\n",
              "      </button>\n",
              "      \n",
              "  <style>\n",
              "    .colab-df-container {\n",
              "      display:flex;\n",
              "      flex-wrap:wrap;\n",
              "      gap: 12px;\n",
              "    }\n",
              "\n",
              "    .colab-df-convert {\n",
              "      background-color: #E8F0FE;\n",
              "      border: none;\n",
              "      border-radius: 50%;\n",
              "      cursor: pointer;\n",
              "      display: none;\n",
              "      fill: #1967D2;\n",
              "      height: 32px;\n",
              "      padding: 0 0 0 0;\n",
              "      width: 32px;\n",
              "    }\n",
              "\n",
              "    .colab-df-convert:hover {\n",
              "      background-color: #E2EBFA;\n",
              "      box-shadow: 0px 1px 2px rgba(60, 64, 67, 0.3), 0px 1px 3px 1px rgba(60, 64, 67, 0.15);\n",
              "      fill: #174EA6;\n",
              "    }\n",
              "\n",
              "    [theme=dark] .colab-df-convert {\n",
              "      background-color: #3B4455;\n",
              "      fill: #D2E3FC;\n",
              "    }\n",
              "\n",
              "    [theme=dark] .colab-df-convert:hover {\n",
              "      background-color: #434B5C;\n",
              "      box-shadow: 0px 1px 3px 1px rgba(0, 0, 0, 0.15);\n",
              "      filter: drop-shadow(0px 1px 2px rgba(0, 0, 0, 0.3));\n",
              "      fill: #FFFFFF;\n",
              "    }\n",
              "  </style>\n",
              "\n",
              "      <script>\n",
              "        const buttonEl =\n",
              "          document.querySelector('#df-6434b6e2-3d09-4527-be25-c7c5f39261c5 button.colab-df-convert');\n",
              "        buttonEl.style.display =\n",
              "          google.colab.kernel.accessAllowed ? 'block' : 'none';\n",
              "\n",
              "        async function convertToInteractive(key) {\n",
              "          const element = document.querySelector('#df-6434b6e2-3d09-4527-be25-c7c5f39261c5');\n",
              "          const dataTable =\n",
              "            await google.colab.kernel.invokeFunction('convertToInteractive',\n",
              "                                                     [key], {});\n",
              "          if (!dataTable) return;\n",
              "\n",
              "          const docLinkHtml = 'Like what you see? Visit the ' +\n",
              "            '<a target=\"_blank\" href=https://colab.research.google.com/notebooks/data_table.ipynb>data table notebook</a>'\n",
              "            + ' to learn more about interactive tables.';\n",
              "          element.innerHTML = '';\n",
              "          dataTable['output_type'] = 'display_data';\n",
              "          await google.colab.output.renderOutput(dataTable, element);\n",
              "          const docLink = document.createElement('div');\n",
              "          docLink.innerHTML = docLinkHtml;\n",
              "          element.appendChild(docLink);\n",
              "        }\n",
              "      </script>\n",
              "    </div>\n",
              "  </div>\n",
              "  "
            ]
          },
          "metadata": {},
          "execution_count": 224
        }
      ],
      "source": [
        "#Checking if we have records with invalid ISBN values in our dataset \n",
        "books_ratings_df[books_ratings_df[\"ISBN\"].str.len() != 10 ]"
      ]
    },
    {
      "cell_type": "markdown",
      "source": [
        "None of the records have invalid ISBN values "
      ],
      "metadata": {
        "id": "HYQ-393hX5qx"
      }
    },
    {
      "cell_type": "code",
      "execution_count": null,
      "metadata": {
        "colab": {
          "base_uri": "https://localhost:8080/"
        },
        "id": "XEthX2Rkjn9h",
        "outputId": "ded08e7a-e121-4491-9a62-b38012d869a5"
      },
      "outputs": [
        {
          "output_type": "execute_result",
          "data": {
            "text/plain": [
              "34573"
            ]
          },
          "metadata": {},
          "execution_count": 225
        }
      ],
      "source": [
        "#Merging the previously merged books and ratings dataset with filtered users dataset based on User-Id values\n",
        "users_books_ratings_df = pd.merge(books_ratings_df , explicit_users_df , on =[\"User-ID\"])\n",
        "\n",
        "#Checking the number of unique users we have in our merged dataset \n",
        "users_books_ratings_df[\"User-ID\"].nunique()"
      ]
    },
    {
      "cell_type": "markdown",
      "source": [
        "Almost 34 thousand users are left in our dataset after merging all the three datasets"
      ],
      "metadata": {
        "id": "uFNYXOcGYgai"
      }
    },
    {
      "cell_type": "code",
      "execution_count": null,
      "metadata": {
        "colab": {
          "base_uri": "https://localhost:8080/"
        },
        "id": "c6-XYVr78V5S",
        "outputId": "6cca038d-5a76-427c-c255-96db011e2d40"
      },
      "outputs": [
        {
          "output_type": "execute_result",
          "data": {
            "text/plain": [
              "   User-ID        ISBN  Book-Rating                               Book-Title  \\\n",
              "0   276744  038550120X            7                          A Painted House   \n",
              "1    11676  038550120X           10                          A Painted House   \n",
              "2    11676  0671537458            8                        Waiting To Exhale   \n",
              "3    11676  0679776818            8        Birdsong: A Novel Of Love And War   \n",
              "4    11676  0684867621            3  The Girl Who Loved Tom Gordon : A Novel   \n",
              "\n",
              "        Book-Author  Year-Of-Publication          Publisher Decade  \\\n",
              "0      John Grisham                 2001          Doubleday  2000s   \n",
              "1      John Grisham                 2001          Doubleday  2000s   \n",
              "2    Terry Mcmillan                 1995             Pocket  1990s   \n",
              "3  Sebastian Faulks                 1997  Vintage Books Usa  1990s   \n",
              "4      Stephen King                 1999           Scribner  1990s   \n",
              "\n",
              "                    Location  Age      City       State Country Age-Group  \n",
              "0  torrance, california, usa  0.0  torrance  california     usa       NaN  \n",
              "1              n/a, n/a, n/a  0.0       NaN         NaN     NaN       NaN  \n",
              "2              n/a, n/a, n/a  0.0       NaN         NaN     NaN       NaN  \n",
              "3              n/a, n/a, n/a  0.0       NaN         NaN     NaN       NaN  \n",
              "4              n/a, n/a, n/a  0.0       NaN         NaN     NaN       NaN  "
            ],
            "text/html": [
              "\n",
              "  <div id=\"df-c110f189-38fe-4612-acf3-15545e41e39e\">\n",
              "    <div class=\"colab-df-container\">\n",
              "      <div>\n",
              "<style scoped>\n",
              "    .dataframe tbody tr th:only-of-type {\n",
              "        vertical-align: middle;\n",
              "    }\n",
              "\n",
              "    .dataframe tbody tr th {\n",
              "        vertical-align: top;\n",
              "    }\n",
              "\n",
              "    .dataframe thead th {\n",
              "        text-align: right;\n",
              "    }\n",
              "</style>\n",
              "<table border=\"1\" class=\"dataframe\">\n",
              "  <thead>\n",
              "    <tr style=\"text-align: right;\">\n",
              "      <th></th>\n",
              "      <th>User-ID</th>\n",
              "      <th>ISBN</th>\n",
              "      <th>Book-Rating</th>\n",
              "      <th>Book-Title</th>\n",
              "      <th>Book-Author</th>\n",
              "      <th>Year-Of-Publication</th>\n",
              "      <th>Publisher</th>\n",
              "      <th>Decade</th>\n",
              "      <th>Location</th>\n",
              "      <th>Age</th>\n",
              "      <th>City</th>\n",
              "      <th>State</th>\n",
              "      <th>Country</th>\n",
              "      <th>Age-Group</th>\n",
              "    </tr>\n",
              "  </thead>\n",
              "  <tbody>\n",
              "    <tr>\n",
              "      <th>0</th>\n",
              "      <td>276744</td>\n",
              "      <td>038550120X</td>\n",
              "      <td>7</td>\n",
              "      <td>A Painted House</td>\n",
              "      <td>John Grisham</td>\n",
              "      <td>2001</td>\n",
              "      <td>Doubleday</td>\n",
              "      <td>2000s</td>\n",
              "      <td>torrance, california, usa</td>\n",
              "      <td>0.0</td>\n",
              "      <td>torrance</td>\n",
              "      <td>california</td>\n",
              "      <td>usa</td>\n",
              "      <td>NaN</td>\n",
              "    </tr>\n",
              "    <tr>\n",
              "      <th>1</th>\n",
              "      <td>11676</td>\n",
              "      <td>038550120X</td>\n",
              "      <td>10</td>\n",
              "      <td>A Painted House</td>\n",
              "      <td>John Grisham</td>\n",
              "      <td>2001</td>\n",
              "      <td>Doubleday</td>\n",
              "      <td>2000s</td>\n",
              "      <td>n/a, n/a, n/a</td>\n",
              "      <td>0.0</td>\n",
              "      <td>NaN</td>\n",
              "      <td>NaN</td>\n",
              "      <td>NaN</td>\n",
              "      <td>NaN</td>\n",
              "    </tr>\n",
              "    <tr>\n",
              "      <th>2</th>\n",
              "      <td>11676</td>\n",
              "      <td>0671537458</td>\n",
              "      <td>8</td>\n",
              "      <td>Waiting To Exhale</td>\n",
              "      <td>Terry Mcmillan</td>\n",
              "      <td>1995</td>\n",
              "      <td>Pocket</td>\n",
              "      <td>1990s</td>\n",
              "      <td>n/a, n/a, n/a</td>\n",
              "      <td>0.0</td>\n",
              "      <td>NaN</td>\n",
              "      <td>NaN</td>\n",
              "      <td>NaN</td>\n",
              "      <td>NaN</td>\n",
              "    </tr>\n",
              "    <tr>\n",
              "      <th>3</th>\n",
              "      <td>11676</td>\n",
              "      <td>0679776818</td>\n",
              "      <td>8</td>\n",
              "      <td>Birdsong: A Novel Of Love And War</td>\n",
              "      <td>Sebastian Faulks</td>\n",
              "      <td>1997</td>\n",
              "      <td>Vintage Books Usa</td>\n",
              "      <td>1990s</td>\n",
              "      <td>n/a, n/a, n/a</td>\n",
              "      <td>0.0</td>\n",
              "      <td>NaN</td>\n",
              "      <td>NaN</td>\n",
              "      <td>NaN</td>\n",
              "      <td>NaN</td>\n",
              "    </tr>\n",
              "    <tr>\n",
              "      <th>4</th>\n",
              "      <td>11676</td>\n",
              "      <td>0684867621</td>\n",
              "      <td>3</td>\n",
              "      <td>The Girl Who Loved Tom Gordon : A Novel</td>\n",
              "      <td>Stephen King</td>\n",
              "      <td>1999</td>\n",
              "      <td>Scribner</td>\n",
              "      <td>1990s</td>\n",
              "      <td>n/a, n/a, n/a</td>\n",
              "      <td>0.0</td>\n",
              "      <td>NaN</td>\n",
              "      <td>NaN</td>\n",
              "      <td>NaN</td>\n",
              "      <td>NaN</td>\n",
              "    </tr>\n",
              "  </tbody>\n",
              "</table>\n",
              "</div>\n",
              "      <button class=\"colab-df-convert\" onclick=\"convertToInteractive('df-c110f189-38fe-4612-acf3-15545e41e39e')\"\n",
              "              title=\"Convert this dataframe to an interactive table.\"\n",
              "              style=\"display:none;\">\n",
              "        \n",
              "  <svg xmlns=\"http://www.w3.org/2000/svg\" height=\"24px\"viewBox=\"0 0 24 24\"\n",
              "       width=\"24px\">\n",
              "    <path d=\"M0 0h24v24H0V0z\" fill=\"none\"/>\n",
              "    <path d=\"M18.56 5.44l.94 2.06.94-2.06 2.06-.94-2.06-.94-.94-2.06-.94 2.06-2.06.94zm-11 1L8.5 8.5l.94-2.06 2.06-.94-2.06-.94L8.5 2.5l-.94 2.06-2.06.94zm10 10l.94 2.06.94-2.06 2.06-.94-2.06-.94-.94-2.06-.94 2.06-2.06.94z\"/><path d=\"M17.41 7.96l-1.37-1.37c-.4-.4-.92-.59-1.43-.59-.52 0-1.04.2-1.43.59L10.3 9.45l-7.72 7.72c-.78.78-.78 2.05 0 2.83L4 21.41c.39.39.9.59 1.41.59.51 0 1.02-.2 1.41-.59l7.78-7.78 2.81-2.81c.8-.78.8-2.07 0-2.86zM5.41 20L4 18.59l7.72-7.72 1.47 1.35L5.41 20z\"/>\n",
              "  </svg>\n",
              "      </button>\n",
              "      \n",
              "  <style>\n",
              "    .colab-df-container {\n",
              "      display:flex;\n",
              "      flex-wrap:wrap;\n",
              "      gap: 12px;\n",
              "    }\n",
              "\n",
              "    .colab-df-convert {\n",
              "      background-color: #E8F0FE;\n",
              "      border: none;\n",
              "      border-radius: 50%;\n",
              "      cursor: pointer;\n",
              "      display: none;\n",
              "      fill: #1967D2;\n",
              "      height: 32px;\n",
              "      padding: 0 0 0 0;\n",
              "      width: 32px;\n",
              "    }\n",
              "\n",
              "    .colab-df-convert:hover {\n",
              "      background-color: #E2EBFA;\n",
              "      box-shadow: 0px 1px 2px rgba(60, 64, 67, 0.3), 0px 1px 3px 1px rgba(60, 64, 67, 0.15);\n",
              "      fill: #174EA6;\n",
              "    }\n",
              "\n",
              "    [theme=dark] .colab-df-convert {\n",
              "      background-color: #3B4455;\n",
              "      fill: #D2E3FC;\n",
              "    }\n",
              "\n",
              "    [theme=dark] .colab-df-convert:hover {\n",
              "      background-color: #434B5C;\n",
              "      box-shadow: 0px 1px 3px 1px rgba(0, 0, 0, 0.15);\n",
              "      filter: drop-shadow(0px 1px 2px rgba(0, 0, 0, 0.3));\n",
              "      fill: #FFFFFF;\n",
              "    }\n",
              "  </style>\n",
              "\n",
              "      <script>\n",
              "        const buttonEl =\n",
              "          document.querySelector('#df-c110f189-38fe-4612-acf3-15545e41e39e button.colab-df-convert');\n",
              "        buttonEl.style.display =\n",
              "          google.colab.kernel.accessAllowed ? 'block' : 'none';\n",
              "\n",
              "        async function convertToInteractive(key) {\n",
              "          const element = document.querySelector('#df-c110f189-38fe-4612-acf3-15545e41e39e');\n",
              "          const dataTable =\n",
              "            await google.colab.kernel.invokeFunction('convertToInteractive',\n",
              "                                                     [key], {});\n",
              "          if (!dataTable) return;\n",
              "\n",
              "          const docLinkHtml = 'Like what you see? Visit the ' +\n",
              "            '<a target=\"_blank\" href=https://colab.research.google.com/notebooks/data_table.ipynb>data table notebook</a>'\n",
              "            + ' to learn more about interactive tables.';\n",
              "          element.innerHTML = '';\n",
              "          dataTable['output_type'] = 'display_data';\n",
              "          await google.colab.output.renderOutput(dataTable, element);\n",
              "          const docLink = document.createElement('div');\n",
              "          docLink.innerHTML = docLinkHtml;\n",
              "          element.appendChild(docLink);\n",
              "        }\n",
              "      </script>\n",
              "    </div>\n",
              "  </div>\n",
              "  "
            ]
          },
          "metadata": {},
          "execution_count": 226
        }
      ],
      "source": [
        "#Checking the head of the merged dataset\n",
        "users_books_ratings_df.head()"
      ]
    },
    {
      "cell_type": "markdown",
      "source": [
        "Sparsity of the data is one of the major challenges in building a recommender system, so to counter this problem and to generate meaningful recommendations only we are only keeping records of those users in our dataset who have rated more than 15 different books"
      ],
      "metadata": {
        "id": "5JlIcyNEYyGn"
      }
    },
    {
      "cell_type": "code",
      "execution_count": null,
      "metadata": {
        "colab": {
          "base_uri": "https://localhost:8080/"
        },
        "id": "nc9i0RiG_pBI",
        "outputId": "7af78059-7135-40bc-f922-960f082f2fc0"
      },
      "outputs": [
        {
          "output_type": "stream",
          "name": "stdout",
          "text": [
            "# of users: 34573\n",
            "# of users with at least 15 interactions: 1266\n"
          ]
        }
      ],
      "source": [
        "#Grouping by User-Id and ISBN value to get the number of different books each user has rated\n",
        "users_ratedBooks_count_df = users_books_ratings_df.groupby(['User-ID', 'ISBN']).size().groupby('User-ID').size()\n",
        "print('# of users: %d' % len(users_ratedBooks_count_df))\n",
        "\n",
        "#Creating a new dataframe containing User-Id of only those users who have rated more than 15 books\n",
        "users_with_enough_ratedBooks_df = users_ratedBooks_count_df[users_ratedBooks_count_df >= 15].reset_index()[['User-ID']]\n",
        "print('# of users with at least 15 interactions: %d' % len(users_with_enough_ratedBooks_df))"
      ]
    },
    {
      "cell_type": "markdown",
      "source": [
        "As we can see we had 34573 users at the start out of which only 1266 users have rated more than or equal to 15 books"
      ],
      "metadata": {
        "id": "AYee7hx2bYQ1"
      }
    },
    {
      "cell_type": "code",
      "execution_count": null,
      "metadata": {
        "colab": {
          "base_uri": "https://localhost:8080/"
        },
        "id": "KRNnpq0jbMfD",
        "outputId": "49ed6c58-92f4-4d1b-ee89-0dfe98da1fa4"
      },
      "outputs": [
        {
          "output_type": "stream",
          "name": "stdout",
          "text": [
            "# of interactions: 112631\n",
            "# of interactions from users with at least 15 interactions: 41252\n"
          ]
        }
      ],
      "source": [
        "print('# of interactions: %d' % len(users_books_ratings_df))\n",
        "\n",
        "#Filtering our dataset with the help of merging to only have ratings from users who have rated more than or equal to 15 books\n",
        "ratings_from_selected_users_df = users_books_ratings_df.merge(users_with_enough_ratedBooks_df, \n",
        "               how = 'right',\n",
        "               left_on = 'User-ID',\n",
        "               right_on = 'User-ID')\n",
        "print('# of interactions from users with at least 15 interactions: %d' % len(ratings_from_selected_users_df))"
      ]
    },
    {
      "cell_type": "markdown",
      "source": [
        "Total number of records have come down from around 1.1 lakh to 41 thousand after filtering "
      ],
      "metadata": {
        "id": "wkTFk46hczys"
      }
    },
    {
      "cell_type": "code",
      "execution_count": null,
      "metadata": {
        "id": "3lU9lcYYRbTS"
      },
      "outputs": [],
      "source": [
        "#Checking if we have any multiple records of rating for the same Book title by the same user\n",
        "dupilcate_books_index = ratings_from_selected_users_df[ratings_from_selected_users_df.duplicated( subset = [\"User-ID\" , \"Book-Title\"], keep= \"last\")].index\n",
        "\n",
        "#Dropping all the duplicate observation by keeping the latest one and dropping all the previous records for each of them\n",
        "ratings_from_selected_users_df.drop(dupilcate_books_index , inplace = True)"
      ]
    },
    {
      "cell_type": "code",
      "execution_count": null,
      "metadata": {
        "colab": {
          "base_uri": "https://localhost:8080/"
        },
        "id": "BIzztKKfRK5y",
        "outputId": "ac9389db-ce78-42b3-9bff-04868ed7a78c"
      },
      "outputs": [
        {
          "output_type": "execute_result",
          "data": {
            "text/plain": [
              "(41002, 14)"
            ]
          },
          "metadata": {},
          "execution_count": 230
        }
      ],
      "source": [
        "ratings_from_selected_users_df.shape"
      ]
    },
    {
      "cell_type": "markdown",
      "source": [
        "After dropping all the duplicate values we have almost 41002 records left "
      ],
      "metadata": {
        "id": "tMyKpT4oJADi"
      }
    },
    {
      "cell_type": "code",
      "source": [
        "ratings_from_selected_users_df[ratings_from_selected_users_df.duplicated( subset = [\"User-ID\" , \"Book-Title\"], keep= \"last\")]"
      ],
      "metadata": {
        "colab": {
          "base_uri": "https://localhost:8080/"
        },
        "id": "qc7Y7MqXc8CC",
        "outputId": "e5ae0eed-a8b5-4b9a-b685-8122ece4b3e3"
      },
      "execution_count": null,
      "outputs": [
        {
          "output_type": "execute_result",
          "data": {
            "text/plain": [
              "Empty DataFrame\n",
              "Columns: [User-ID, ISBN, Book-Rating, Book-Title, Book-Author, Year-Of-Publication, Publisher, Decade, Location, Age, City, State, Country, Age-Group]\n",
              "Index: []"
            ],
            "text/html": [
              "\n",
              "  <div id=\"df-48160940-b943-4c14-84d3-8f36ca76776c\">\n",
              "    <div class=\"colab-df-container\">\n",
              "      <div>\n",
              "<style scoped>\n",
              "    .dataframe tbody tr th:only-of-type {\n",
              "        vertical-align: middle;\n",
              "    }\n",
              "\n",
              "    .dataframe tbody tr th {\n",
              "        vertical-align: top;\n",
              "    }\n",
              "\n",
              "    .dataframe thead th {\n",
              "        text-align: right;\n",
              "    }\n",
              "</style>\n",
              "<table border=\"1\" class=\"dataframe\">\n",
              "  <thead>\n",
              "    <tr style=\"text-align: right;\">\n",
              "      <th></th>\n",
              "      <th>User-ID</th>\n",
              "      <th>ISBN</th>\n",
              "      <th>Book-Rating</th>\n",
              "      <th>Book-Title</th>\n",
              "      <th>Book-Author</th>\n",
              "      <th>Year-Of-Publication</th>\n",
              "      <th>Publisher</th>\n",
              "      <th>Decade</th>\n",
              "      <th>Location</th>\n",
              "      <th>Age</th>\n",
              "      <th>City</th>\n",
              "      <th>State</th>\n",
              "      <th>Country</th>\n",
              "      <th>Age-Group</th>\n",
              "    </tr>\n",
              "  </thead>\n",
              "  <tbody>\n",
              "  </tbody>\n",
              "</table>\n",
              "</div>\n",
              "      <button class=\"colab-df-convert\" onclick=\"convertToInteractive('df-48160940-b943-4c14-84d3-8f36ca76776c')\"\n",
              "              title=\"Convert this dataframe to an interactive table.\"\n",
              "              style=\"display:none;\">\n",
              "        \n",
              "  <svg xmlns=\"http://www.w3.org/2000/svg\" height=\"24px\"viewBox=\"0 0 24 24\"\n",
              "       width=\"24px\">\n",
              "    <path d=\"M0 0h24v24H0V0z\" fill=\"none\"/>\n",
              "    <path d=\"M18.56 5.44l.94 2.06.94-2.06 2.06-.94-2.06-.94-.94-2.06-.94 2.06-2.06.94zm-11 1L8.5 8.5l.94-2.06 2.06-.94-2.06-.94L8.5 2.5l-.94 2.06-2.06.94zm10 10l.94 2.06.94-2.06 2.06-.94-2.06-.94-.94-2.06-.94 2.06-2.06.94z\"/><path d=\"M17.41 7.96l-1.37-1.37c-.4-.4-.92-.59-1.43-.59-.52 0-1.04.2-1.43.59L10.3 9.45l-7.72 7.72c-.78.78-.78 2.05 0 2.83L4 21.41c.39.39.9.59 1.41.59.51 0 1.02-.2 1.41-.59l7.78-7.78 2.81-2.81c.8-.78.8-2.07 0-2.86zM5.41 20L4 18.59l7.72-7.72 1.47 1.35L5.41 20z\"/>\n",
              "  </svg>\n",
              "      </button>\n",
              "      \n",
              "  <style>\n",
              "    .colab-df-container {\n",
              "      display:flex;\n",
              "      flex-wrap:wrap;\n",
              "      gap: 12px;\n",
              "    }\n",
              "\n",
              "    .colab-df-convert {\n",
              "      background-color: #E8F0FE;\n",
              "      border: none;\n",
              "      border-radius: 50%;\n",
              "      cursor: pointer;\n",
              "      display: none;\n",
              "      fill: #1967D2;\n",
              "      height: 32px;\n",
              "      padding: 0 0 0 0;\n",
              "      width: 32px;\n",
              "    }\n",
              "\n",
              "    .colab-df-convert:hover {\n",
              "      background-color: #E2EBFA;\n",
              "      box-shadow: 0px 1px 2px rgba(60, 64, 67, 0.3), 0px 1px 3px 1px rgba(60, 64, 67, 0.15);\n",
              "      fill: #174EA6;\n",
              "    }\n",
              "\n",
              "    [theme=dark] .colab-df-convert {\n",
              "      background-color: #3B4455;\n",
              "      fill: #D2E3FC;\n",
              "    }\n",
              "\n",
              "    [theme=dark] .colab-df-convert:hover {\n",
              "      background-color: #434B5C;\n",
              "      box-shadow: 0px 1px 3px 1px rgba(0, 0, 0, 0.15);\n",
              "      filter: drop-shadow(0px 1px 2px rgba(0, 0, 0, 0.3));\n",
              "      fill: #FFFFFF;\n",
              "    }\n",
              "  </style>\n",
              "\n",
              "      <script>\n",
              "        const buttonEl =\n",
              "          document.querySelector('#df-48160940-b943-4c14-84d3-8f36ca76776c button.colab-df-convert');\n",
              "        buttonEl.style.display =\n",
              "          google.colab.kernel.accessAllowed ? 'block' : 'none';\n",
              "\n",
              "        async function convertToInteractive(key) {\n",
              "          const element = document.querySelector('#df-48160940-b943-4c14-84d3-8f36ca76776c');\n",
              "          const dataTable =\n",
              "            await google.colab.kernel.invokeFunction('convertToInteractive',\n",
              "                                                     [key], {});\n",
              "          if (!dataTable) return;\n",
              "\n",
              "          const docLinkHtml = 'Like what you see? Visit the ' +\n",
              "            '<a target=\"_blank\" href=https://colab.research.google.com/notebooks/data_table.ipynb>data table notebook</a>'\n",
              "            + ' to learn more about interactive tables.';\n",
              "          element.innerHTML = '';\n",
              "          dataTable['output_type'] = 'display_data';\n",
              "          await google.colab.output.renderOutput(dataTable, element);\n",
              "          const docLink = document.createElement('div');\n",
              "          docLink.innerHTML = docLinkHtml;\n",
              "          element.appendChild(docLink);\n",
              "        }\n",
              "      </script>\n",
              "    </div>\n",
              "  </div>\n",
              "  "
            ]
          },
          "metadata": {},
          "execution_count": 231
        }
      ]
    },
    {
      "cell_type": "markdown",
      "source": [
        "As we can see none of the duplicate records are left in our dataset"
      ],
      "metadata": {
        "id": "ibhBURWGJpB_"
      }
    },
    {
      "cell_type": "code",
      "source": [
        "#Calling info method to take a glance over the final state of our dataset\n",
        "ratings_from_selected_users_df.info()"
      ],
      "metadata": {
        "colab": {
          "base_uri": "https://localhost:8080/"
        },
        "id": "b45tRgwwvwcy",
        "outputId": "261ff10b-b1d8-44b9-8902-8900672011e0"
      },
      "execution_count": null,
      "outputs": [
        {
          "output_type": "stream",
          "name": "stdout",
          "text": [
            "<class 'pandas.core.frame.DataFrame'>\n",
            "Int64Index: 41002 entries, 0 to 41251\n",
            "Data columns (total 14 columns):\n",
            " #   Column               Non-Null Count  Dtype  \n",
            "---  ------               --------------  -----  \n",
            " 0   User-ID              41002 non-null  int64  \n",
            " 1   ISBN                 41002 non-null  object \n",
            " 2   Book-Rating          41002 non-null  int64  \n",
            " 3   Book-Title           41002 non-null  object \n",
            " 4   Book-Author          41002 non-null  object \n",
            " 5   Year-Of-Publication  41002 non-null  int64  \n",
            " 6   Publisher            41002 non-null  object \n",
            " 7   Decade               40878 non-null  object \n",
            " 8   Location             41002 non-null  object \n",
            " 9   Age                  41002 non-null  float64\n",
            " 10  City                 39628 non-null  object \n",
            " 11  State                39502 non-null  object \n",
            " 12  Country              38800 non-null  object \n",
            " 13  Age-Group            30055 non-null  object \n",
            "dtypes: float64(1), int64(3), object(10)\n",
            "memory usage: 4.7+ MB\n"
          ]
        }
      ]
    },
    {
      "cell_type": "markdown",
      "source": [
        "We have null values in Decade, City, State , Country and Age-Group column all of which are not used in building our recommender system , so there is no need to treat them"
      ],
      "metadata": {
        "id": "I6S1R_sHJ5LY"
      }
    },
    {
      "cell_type": "code",
      "execution_count": null,
      "metadata": {
        "id": "IYklNlbacoa_"
      },
      "outputs": [],
      "source": [
        "recSys_df = ratings_from_selected_users_df.copy()"
      ]
    },
    {
      "cell_type": "markdown",
      "metadata": {
        "id": "WbrYR1ovPNXk"
      },
      "source": [
        "# **EDA**"
      ]
    },
    {
      "cell_type": "markdown",
      "source": [
        "We will now perform explanatory data analysis on our dataset to get to know the books and authors which are rated most highly by the users , to understand the rating pattern of different age groups , to know which books publisher are the most popular and many other such things"
      ],
      "metadata": {
        "id": "zOs1v5LYL--J"
      }
    },
    {
      "cell_type": "code",
      "execution_count": null,
      "metadata": {
        "id": "oEUaMJMjbafv"
      },
      "outputs": [],
      "source": [
        "#Creating an unfiltered dataset for eda purpose\n",
        "eda_books_ratings_df = pd.merge(explicit_ratings_df , books_df , on = [\"ISBN\"])\n",
        "recSys_eda_df = pd.merge(eda_books_ratings_df , explicit_users_df , on =[\"User-ID\"])"
      ]
    },
    {
      "cell_type": "code",
      "source": [
        "#Checking the head of the eda dataset\n",
        "recSys_eda_df.head()"
      ],
      "metadata": {
        "colab": {
          "base_uri": "https://localhost:8080/",
          "height": 372
        },
        "id": "nVkxQmj61d_F",
        "outputId": "616b546a-5840-4962-b88e-db65198be45c"
      },
      "execution_count": null,
      "outputs": [
        {
          "output_type": "execute_result",
          "data": {
            "text/plain": [
              "   User-ID        ISBN  Book-Rating  \\\n",
              "0   276726  0155061224            5   \n",
              "1   276729  052165615X            3   \n",
              "2   276729  0521795028            6   \n",
              "3   276744  038550120X            7   \n",
              "4    11676  038550120X           10   \n",
              "\n",
              "                                          Book-Title    Book-Author  \\\n",
              "0                                   Rites of passage     Judith rae   \n",
              "1                                     Help!: level 1  Philip prowse   \n",
              "2  The amsterdam connection : level 4 (cambridge ...    Sue leather   \n",
              "3                                    A painted house   John grisham   \n",
              "4                                    A painted house   John grisham   \n",
              "\n",
              "   Year-Of-Publication                   Publisher Decade  \\\n",
              "0                 2001                      Heinle  2000s   \n",
              "1                 1999  Cambridge university press  1990s   \n",
              "2                 2001  Cambridge university press  2000s   \n",
              "3                 2001                   Doubleday  2000s   \n",
              "4                 2001                   Doubleday  2000s   \n",
              "\n",
              "                    Location   Age      City       State  Country Age-Group  \n",
              "0   seattle, washington, usa   0.0   seattle  washington      usa       NaN  \n",
              "1       rijeka, n/a, croatia  16.0    rijeka         NaN  croatia  Teenager  \n",
              "2       rijeka, n/a, croatia  16.0    rijeka         NaN  croatia  Teenager  \n",
              "3  torrance, california, usa   0.0  torrance  california      usa       NaN  \n",
              "4              n/a, n/a, n/a   0.0       NaN         NaN      NaN       NaN  "
            ],
            "text/html": [
              "\n",
              "  <div id=\"df-8bdfeb48-fe21-4c46-a99f-3588ceb44514\">\n",
              "    <div class=\"colab-df-container\">\n",
              "      <div>\n",
              "<style scoped>\n",
              "    .dataframe tbody tr th:only-of-type {\n",
              "        vertical-align: middle;\n",
              "    }\n",
              "\n",
              "    .dataframe tbody tr th {\n",
              "        vertical-align: top;\n",
              "    }\n",
              "\n",
              "    .dataframe thead th {\n",
              "        text-align: right;\n",
              "    }\n",
              "</style>\n",
              "<table border=\"1\" class=\"dataframe\">\n",
              "  <thead>\n",
              "    <tr style=\"text-align: right;\">\n",
              "      <th></th>\n",
              "      <th>User-ID</th>\n",
              "      <th>ISBN</th>\n",
              "      <th>Book-Rating</th>\n",
              "      <th>Book-Title</th>\n",
              "      <th>Book-Author</th>\n",
              "      <th>Year-Of-Publication</th>\n",
              "      <th>Publisher</th>\n",
              "      <th>Decade</th>\n",
              "      <th>Location</th>\n",
              "      <th>Age</th>\n",
              "      <th>City</th>\n",
              "      <th>State</th>\n",
              "      <th>Country</th>\n",
              "      <th>Age-Group</th>\n",
              "    </tr>\n",
              "  </thead>\n",
              "  <tbody>\n",
              "    <tr>\n",
              "      <th>0</th>\n",
              "      <td>276726</td>\n",
              "      <td>0155061224</td>\n",
              "      <td>5</td>\n",
              "      <td>Rites of passage</td>\n",
              "      <td>Judith rae</td>\n",
              "      <td>2001</td>\n",
              "      <td>Heinle</td>\n",
              "      <td>2000s</td>\n",
              "      <td>seattle, washington, usa</td>\n",
              "      <td>0.0</td>\n",
              "      <td>seattle</td>\n",
              "      <td>washington</td>\n",
              "      <td>usa</td>\n",
              "      <td>NaN</td>\n",
              "    </tr>\n",
              "    <tr>\n",
              "      <th>1</th>\n",
              "      <td>276729</td>\n",
              "      <td>052165615X</td>\n",
              "      <td>3</td>\n",
              "      <td>Help!: level 1</td>\n",
              "      <td>Philip prowse</td>\n",
              "      <td>1999</td>\n",
              "      <td>Cambridge university press</td>\n",
              "      <td>1990s</td>\n",
              "      <td>rijeka, n/a, croatia</td>\n",
              "      <td>16.0</td>\n",
              "      <td>rijeka</td>\n",
              "      <td>NaN</td>\n",
              "      <td>croatia</td>\n",
              "      <td>Teenager</td>\n",
              "    </tr>\n",
              "    <tr>\n",
              "      <th>2</th>\n",
              "      <td>276729</td>\n",
              "      <td>0521795028</td>\n",
              "      <td>6</td>\n",
              "      <td>The amsterdam connection : level 4 (cambridge ...</td>\n",
              "      <td>Sue leather</td>\n",
              "      <td>2001</td>\n",
              "      <td>Cambridge university press</td>\n",
              "      <td>2000s</td>\n",
              "      <td>rijeka, n/a, croatia</td>\n",
              "      <td>16.0</td>\n",
              "      <td>rijeka</td>\n",
              "      <td>NaN</td>\n",
              "      <td>croatia</td>\n",
              "      <td>Teenager</td>\n",
              "    </tr>\n",
              "    <tr>\n",
              "      <th>3</th>\n",
              "      <td>276744</td>\n",
              "      <td>038550120X</td>\n",
              "      <td>7</td>\n",
              "      <td>A painted house</td>\n",
              "      <td>John grisham</td>\n",
              "      <td>2001</td>\n",
              "      <td>Doubleday</td>\n",
              "      <td>2000s</td>\n",
              "      <td>torrance, california, usa</td>\n",
              "      <td>0.0</td>\n",
              "      <td>torrance</td>\n",
              "      <td>california</td>\n",
              "      <td>usa</td>\n",
              "      <td>NaN</td>\n",
              "    </tr>\n",
              "    <tr>\n",
              "      <th>4</th>\n",
              "      <td>11676</td>\n",
              "      <td>038550120X</td>\n",
              "      <td>10</td>\n",
              "      <td>A painted house</td>\n",
              "      <td>John grisham</td>\n",
              "      <td>2001</td>\n",
              "      <td>Doubleday</td>\n",
              "      <td>2000s</td>\n",
              "      <td>n/a, n/a, n/a</td>\n",
              "      <td>0.0</td>\n",
              "      <td>NaN</td>\n",
              "      <td>NaN</td>\n",
              "      <td>NaN</td>\n",
              "      <td>NaN</td>\n",
              "    </tr>\n",
              "  </tbody>\n",
              "</table>\n",
              "</div>\n",
              "      <button class=\"colab-df-convert\" onclick=\"convertToInteractive('df-8bdfeb48-fe21-4c46-a99f-3588ceb44514')\"\n",
              "              title=\"Convert this dataframe to an interactive table.\"\n",
              "              style=\"display:none;\">\n",
              "        \n",
              "  <svg xmlns=\"http://www.w3.org/2000/svg\" height=\"24px\"viewBox=\"0 0 24 24\"\n",
              "       width=\"24px\">\n",
              "    <path d=\"M0 0h24v24H0V0z\" fill=\"none\"/>\n",
              "    <path d=\"M18.56 5.44l.94 2.06.94-2.06 2.06-.94-2.06-.94-.94-2.06-.94 2.06-2.06.94zm-11 1L8.5 8.5l.94-2.06 2.06-.94-2.06-.94L8.5 2.5l-.94 2.06-2.06.94zm10 10l.94 2.06.94-2.06 2.06-.94-2.06-.94-.94-2.06-.94 2.06-2.06.94z\"/><path d=\"M17.41 7.96l-1.37-1.37c-.4-.4-.92-.59-1.43-.59-.52 0-1.04.2-1.43.59L10.3 9.45l-7.72 7.72c-.78.78-.78 2.05 0 2.83L4 21.41c.39.39.9.59 1.41.59.51 0 1.02-.2 1.41-.59l7.78-7.78 2.81-2.81c.8-.78.8-2.07 0-2.86zM5.41 20L4 18.59l7.72-7.72 1.47 1.35L5.41 20z\"/>\n",
              "  </svg>\n",
              "      </button>\n",
              "      \n",
              "  <style>\n",
              "    .colab-df-container {\n",
              "      display:flex;\n",
              "      flex-wrap:wrap;\n",
              "      gap: 12px;\n",
              "    }\n",
              "\n",
              "    .colab-df-convert {\n",
              "      background-color: #E8F0FE;\n",
              "      border: none;\n",
              "      border-radius: 50%;\n",
              "      cursor: pointer;\n",
              "      display: none;\n",
              "      fill: #1967D2;\n",
              "      height: 32px;\n",
              "      padding: 0 0 0 0;\n",
              "      width: 32px;\n",
              "    }\n",
              "\n",
              "    .colab-df-convert:hover {\n",
              "      background-color: #E2EBFA;\n",
              "      box-shadow: 0px 1px 2px rgba(60, 64, 67, 0.3), 0px 1px 3px 1px rgba(60, 64, 67, 0.15);\n",
              "      fill: #174EA6;\n",
              "    }\n",
              "\n",
              "    [theme=dark] .colab-df-convert {\n",
              "      background-color: #3B4455;\n",
              "      fill: #D2E3FC;\n",
              "    }\n",
              "\n",
              "    [theme=dark] .colab-df-convert:hover {\n",
              "      background-color: #434B5C;\n",
              "      box-shadow: 0px 1px 3px 1px rgba(0, 0, 0, 0.15);\n",
              "      filter: drop-shadow(0px 1px 2px rgba(0, 0, 0, 0.3));\n",
              "      fill: #FFFFFF;\n",
              "    }\n",
              "  </style>\n",
              "\n",
              "      <script>\n",
              "        const buttonEl =\n",
              "          document.querySelector('#df-8bdfeb48-fe21-4c46-a99f-3588ceb44514 button.colab-df-convert');\n",
              "        buttonEl.style.display =\n",
              "          google.colab.kernel.accessAllowed ? 'block' : 'none';\n",
              "\n",
              "        async function convertToInteractive(key) {\n",
              "          const element = document.querySelector('#df-8bdfeb48-fe21-4c46-a99f-3588ceb44514');\n",
              "          const dataTable =\n",
              "            await google.colab.kernel.invokeFunction('convertToInteractive',\n",
              "                                                     [key], {});\n",
              "          if (!dataTable) return;\n",
              "\n",
              "          const docLinkHtml = 'Like what you see? Visit the ' +\n",
              "            '<a target=\"_blank\" href=https://colab.research.google.com/notebooks/data_table.ipynb>data table notebook</a>'\n",
              "            + ' to learn more about interactive tables.';\n",
              "          element.innerHTML = '';\n",
              "          dataTable['output_type'] = 'display_data';\n",
              "          await google.colab.output.renderOutput(dataTable, element);\n",
              "          const docLink = document.createElement('div');\n",
              "          docLink.innerHTML = docLinkHtml;\n",
              "          element.appendChild(docLink);\n",
              "        }\n",
              "      </script>\n",
              "    </div>\n",
              "  </div>\n",
              "  "
            ]
          },
          "metadata": {},
          "execution_count": 52
        }
      ]
    },
    {
      "cell_type": "code",
      "execution_count": null,
      "metadata": {
        "id": "7rbcIjhNPeRv"
      },
      "outputs": [],
      "source": [
        "#Importing the seaborn and matplotlib library for our data visualization tasks\n",
        "import matplotlib.pyplot as plt\n",
        "import seaborn as sns"
      ]
    },
    {
      "cell_type": "code",
      "execution_count": null,
      "metadata": {
        "id": "KLvBdHTBTzuW"
      },
      "outputs": [],
      "source": [
        "#Setting all the parameters for better visualization\n",
        "plt.rcParams['figure.figsize'] = 10,7\n",
        "sns.set_context('paper', font_scale=1.4)\n",
        "sns.set_theme(style='darkgrid')"
      ]
    },
    {
      "cell_type": "code",
      "source": [
        "#Plotting a countplot to visualize the rating pattern in our dataset\n",
        "sns.countplot( x = \"Book-Rating\" , data = recSys_eda_df , palette = \"bright\") \n",
        "plt.show()"
      ],
      "metadata": {
        "colab": {
          "base_uri": "https://localhost:8080/",
          "height": 448
        },
        "id": "sSt6BKH0aM6O",
        "outputId": "15518c38-ff51-4b13-bfc2-f875e79cc144"
      },
      "execution_count": null,
      "outputs": [
        {
          "output_type": "display_data",
          "data": {
            "text/plain": [
              "<Figure size 720x504 with 1 Axes>"
            ],
            "image/png": "[encoded data removed]"
          },
          "metadata": {}
        }
      ]
    },
    {
      "cell_type": "markdown",
      "source": [
        "Most of the users have given a rating of 8 to the books they read , while a surprisingly high number of books are also rated a perfect 10 by the users . Very few books have been rated below 5"
      ],
      "metadata": {
        "id": "TYO6-p3ASD_S"
      }
    },
    {
      "cell_type": "markdown",
      "source": [
        "##**Books Analysis**\n",
        "\n",
        "### In this section we will try to find the most popular books , the most highly rated ones as well as the lowest rated ones to get to know the taste of the people and also what kind of books are receving more love or hate from them"
      ],
      "metadata": {
        "id": "nPTiybNy1xIT"
      }
    },
    {
      "cell_type": "code",
      "execution_count": null,
      "metadata": {
        "colab": {
          "base_uri": "https://localhost:8080/",
          "height": 448
        },
        "id": "cpi-XOSIZ5Do",
        "outputId": "1bc5d15f-484b-4f7a-b06c-0dd47ac7e365"
      },
      "outputs": [
        {
          "output_type": "display_data",
          "data": {
            "text/plain": [
              "<Figure size 720x504 with 1 Axes>"
            ],
            "image/png": "[encoded data removed]"
          },
          "metadata": {}
        }
      ],
      "source": [
        "#Getting the top 10 most read books by the user\n",
        "top10PopularBooks = pd.DataFrame(recSys_eda_df[\"Book-Title\"].value_counts()).reset_index().rename(columns = { \"index\" : \"Book-Title\" , \"Book-Title\" : \"NoOfUserRead\"}).head(10)\n",
        "\n",
        "sns.barplot(y=\"Book-Title\", x = \"NoOfUserRead\", data=top10PopularBooks, palette = \"bright\" ,orient = \"h\")\n",
        "plt.show()"
      ]
    },
    {
      "cell_type": "markdown",
      "source": [
        "The Lovely Bones : A novel is the most popular book with more than 700 user ratings followed by Wild Animus with near about 600 user ratings . Also just going by the name we can confirm that we have 2 novels in top 5 so we can make the assumption that novels are most popular as compared to other kind of books as per the data in our dataset"
      ],
      "metadata": {
        "id": "RNJ-0k3aXfo6"
      }
    },
    {
      "cell_type": "code",
      "execution_count": null,
      "metadata": {
        "colab": {
          "base_uri": "https://localhost:8080/",
          "height": 448
        },
        "id": "E_f4yO25dgXC",
        "outputId": "a08b16f9-1621-4d67-b9dc-c18e2daaed57"
      },
      "outputs": [
        {
          "output_type": "display_data",
          "data": {
            "text/plain": [
              "<Figure size 720x504 with 1 Axes>"
            ],
            "image/png": "[encoded data removed]"
          },
          "metadata": {}
        }
      ],
      "source": [
        "#Getting the top 10 highest rated books in our dataset\n",
        "HighestRatedBooks = recSys_eda_df.groupby(\"Book-Title\").agg({ \"User-ID\" : \"count\" , \"Book-Rating\" : np.mean }).reset_index().rename(columns = { \"User-ID\" : \"UsersRead\"})\n",
        "top10Ratedbooks = HighestRatedBooks[HighestRatedBooks[\"UsersRead\"] >= 50].sort_values(by = \"Book-Rating\" , ascending = False).head(10)\n",
        "\n",
        "ax = sns.barplot(y=\"Book-Title\", x = \"Book-Rating\", data = top10Ratedbooks, palette = \"bright\" ,orient = \"h\")\n",
        "ax.set(xlim=(8, 9.5))\n",
        "plt.show()"
      ]
    },
    {
      "cell_type": "markdown",
      "source": [
        "Looking at the Bar chart we can conclude that Lord Of The Rings Series and Harry Potter Serires are extremely loved by the users as the two of them account for 7 places out of this top 10 list of highest rated books ."
      ],
      "metadata": {
        "id": "7X6aWS5qhMKQ"
      }
    },
    {
      "cell_type": "code",
      "source": [
        "#Getting the top 10 lowest rated books in our dataset\n",
        "top10LowestRated = HighestRatedBooks[HighestRatedBooks[\"UsersRead\"] >= 50].sort_values(by = \"Book-Rating\" , ascending = False).tail(10)\n",
        "ax = sns.barplot(y=\"Book-Title\", x = \"Book-Rating\", data = top10LowestRated, palette = \"bright\" ,orient = \"h\")\n",
        "ax.set(xlim=(3, 7))\n",
        "plt.show()"
      ],
      "metadata": {
        "colab": {
          "base_uri": "https://localhost:8080/",
          "height": 448
        },
        "id": "PCGRLg-4l7jm",
        "outputId": "74abf494-a6cc-4d1f-a95d-6bd52ce0463e"
      },
      "execution_count": null,
      "outputs": [
        {
          "output_type": "display_data",
          "data": {
            "text/plain": [
              "<Figure size 720x504 with 1 Axes>"
            ],
            "image/png": "[encoded data removed]"
          },
          "metadata": {}
        }
      ]
    },
    {
      "cell_type": "markdown",
      "source": [
        "One interesting thing to notice here is Wild Animus which is one of the most popular books in our dataset is also the lowest rated "
      ],
      "metadata": {
        "id": "m5W57YSTnZ18"
      }
    },
    {
      "cell_type": "markdown",
      "source": [
        "## **Author Analysis**\n",
        "\n",
        "### In this section our goal is to find the most popular author in terms of number of books read by the people that are written by them , also we will try to find the authors who have published the most number of books and last but not the least the top 10 most loved authors"
      ],
      "metadata": {
        "id": "oF27yfHk5crp"
      }
    },
    {
      "cell_type": "code",
      "execution_count": null,
      "metadata": {
        "colab": {
          "base_uri": "https://localhost:8080/",
          "height": 448
        },
        "id": "lAav4QLJb0kq",
        "outputId": "fb331878-f749-443e-fc51-14920b69f285"
      },
      "outputs": [
        {
          "output_type": "display_data",
          "data": {
            "text/plain": [
              "<Figure size 720x504 with 1 Axes>"
            ],
            "image/png": "[encoded data removed]"
          },
          "metadata": {}
        }
      ],
      "source": [
        "#Getting the top 10 most popular author \n",
        "top10PopularAuthors = pd.DataFrame(recSys_eda_df[\"Book-Author\"].value_counts()).reset_index().rename(columns = { \"index\" : \"Book-Author\" , \"Book-Author\" : \"NoOfUserRead\"}).head(10)\n",
        "\n",
        "sns.barplot(y=\"Book-Author\", x = \"NoOfUserRead\", data=top10PopularAuthors, palette = \"bright\" ,orient = \"h\")\n",
        "plt.show()"
      ]
    },
    {
      "cell_type": "markdown",
      "source": [
        "As we can see Stephen king is the king here , the combined sum of no. of reviews of his different books is more than 4000 , John Grisham and Nora roberts are on 2nd and 3rd place with around 3700 and 3000 user rating records respectively . JK Rowling who is well known for his Harry Potter series is in the list as well at 5th place."
      ],
      "metadata": {
        "id": "8eg1Vup6YXyY"
      }
    },
    {
      "cell_type": "code",
      "execution_count": null,
      "metadata": {
        "colab": {
          "base_uri": "https://localhost:8080/",
          "height": 448
        },
        "id": "rvAw7mYBZcMa",
        "outputId": "ef2d5f9d-328b-46b9-cb35-3b5629c9eb91"
      },
      "outputs": [
        {
          "output_type": "display_data",
          "data": {
            "text/plain": [
              "<Figure size 720x504 with 1 Axes>"
            ],
            "image/png": "[encoded data removed]"
          },
          "metadata": {}
        }
      ],
      "source": [
        "#Using Groupby to get the total number of books each author has written \n",
        "AuthorBookFreq = recSys_eda_df.groupby([\"Book-Author\"]).agg({ \"Book-Title\" : pd.Series.nunique}).reset_index().sort_values(by = \"Book-Title\" , ascending = False)\n",
        "top10AuthorBookFreq = AuthorBookFreq.rename(columns = { \"Book-Title\" : \"NoOfBooksPublished\"}).head(10)\n",
        "\n",
        "sns.barplot(y=\"Book-Author\", x = \"NoOfBooksPublished\", data = top10AuthorBookFreq, palette = \"bright\" ,orient = \"h\")\n",
        "plt.show()"
      ]
    },
    {
      "cell_type": "markdown",
      "source": [
        "Sir William Shakespeare is on the top of this list , he is the author of more than 330 books in our dataset , Agatha Christie and Stephen king are on 2nd and 3rd place respectively each accredited with the title of Book author for more than 250 books . And taking in account the previous bar graph we can conclude that even though William Shakespeare has writeen more number of books it is stephen king which is more popular "
      ],
      "metadata": {
        "id": "dfKsMJjgcty0"
      }
    },
    {
      "cell_type": "code",
      "execution_count": null,
      "metadata": {
        "colab": {
          "base_uri": "https://localhost:8080/",
          "height": 448
        },
        "id": "P9nfGhAlOsci",
        "outputId": "12343948-e43f-44d1-f811-75d4d7571bd9"
      },
      "outputs": [
        {
          "output_type": "display_data",
          "data": {
            "text/plain": [
              "<Figure size 720x504 with 1 Axes>"
            ],
            "image/png": "[encoded data removed]"
          },
          "metadata": {}
        }
      ],
      "source": [
        "#Getting the top 10 author in terms of highest average rating of their books\n",
        "HighestRatedAuthor = recSys_eda_df.groupby(\"Book-Author\").agg({ \"User-ID\" : \"count\" , \"Book-Rating\" : np.mean }).reset_index().rename(columns = { \"User-ID\" : \"UsersRead\"})\n",
        "top10RatedAuthor = HighestRatedAuthor[HighestRatedAuthor[\"UsersRead\"] >= 50].sort_values(by = \"Book-Rating\" , ascending = False).head(10)\n",
        "\n",
        "ax = sns.barplot(y=\"Book-Author\", x = \"Book-Rating\", data = top10RatedAuthor, palette = \"bright\" ,orient = \"h\")\n",
        "ax.set(xlim=(8, 9.5))\n",
        "plt.show()"
      ]
    },
    {
      "cell_type": "markdown",
      "source": [
        "\n",
        "Maud Hart Lovelace and Art Speigelman are the two most loved authors as all of their books have an average rating of 9.2 , we can also notice J K Rowling in the bar graph which makes sense as his Harry Potter Book Series is among the Highest Rated books in our dataset"
      ],
      "metadata": {
        "id": "FBIzlAprp-l5"
      }
    },
    {
      "cell_type": "markdown",
      "source": [
        "## **Book Publisher Analysis**\n",
        "\n",
        "### Next up is Publisher , for this our objective is to at first find those publishers whose books are most popular and then secondly to find the ones whose books are most highly rated by the users"
      ],
      "metadata": {
        "id": "9D9sB8Az6Kyr"
      }
    },
    {
      "cell_type": "code",
      "source": [
        "#Getting the total number of books published by each publishing house in our dataset\n",
        "topBookPublisher = recSys_eda_df.groupby(\"Publisher\").agg({ \"ISBN\" : pd.Series.nunique}).reset_index()\n",
        "top10BooksPublisher = topBookPublisher.rename(columns = { \"ISBN\" : \"NoOfBooksPublished\" }).sort_values(by = \"NoOfBooksPublished\" , ascending = False).head(10)\n",
        "\n",
        "sns.barplot( x = \"NoOfBooksPublished\" , y = \"Publisher\" , data = top10BooksPublisher , palette = \"bright\" , orient = \"h\")\n",
        "plt.show()"
      ],
      "metadata": {
        "colab": {
          "base_uri": "https://localhost:8080/",
          "height": 448
        },
        "id": "jWKcpLYTxCNJ",
        "outputId": "15324218-97d1-41d3-9584-654dcff05ed4"
      },
      "execution_count": null,
      "outputs": [
        {
          "output_type": "display_data",
          "data": {
            "text/plain": [
              "<Figure size 720x504 with 1 Axes>"
            ],
            "image/png": "[encoded data removed]"
          },
          "metadata": {}
        }
      ]
    },
    {
      "cell_type": "markdown",
      "source": [
        "Harlequin publishing house is the publisher of most number of books in our dataset , they are the publisher of around 3000 books . Ballantine books and Pocket books both are publisher of almost 2200 books each "
      ],
      "metadata": {
        "id": "3wFCLfGcvTdw"
      }
    },
    {
      "cell_type": "code",
      "source": [
        "#Getting the top 10 most popular publishing house in terms of no. of user reads\n",
        "topBookPublisherRead = recSys_eda_df.groupby(\"Publisher\").agg({ \"ISBN\" : \"count\"}).reset_index()\n",
        "top10BooksPublisherRead = topBookPublisherRead.rename(columns = { \"ISBN\" : \"NoOfBooksReadFromPublisher\" }).sort_values(by = \"NoOfBooksReadFromPublisher\" , ascending = False).head(10)\n",
        "\n",
        "sns.barplot( x = \"NoOfBooksReadFromPublisher\" , y = \"Publisher\" , data = top10BooksPublisherRead , palette = \"bright\" , orient = \"h\")\n",
        "plt.show()"
      ],
      "metadata": {
        "colab": {
          "base_uri": "https://localhost:8080/",
          "height": 448
        },
        "id": "HBNPMWa8yX_T",
        "outputId": "fc8b4d1e-6e05-4f9e-f454-4706567dd0b2"
      },
      "execution_count": null,
      "outputs": [
        {
          "output_type": "display_data",
          "data": {
            "text/plain": [
              "<Figure size 720x504 with 1 Axes>"
            ],
            "image/png": "[encoded data removed]"
          },
          "metadata": {}
        }
      ]
    },
    {
      "cell_type": "markdown",
      "source": [
        "Books from Ballantine books publishing house are the most popular , if we sum the total number of reviews books published by them have received then the count comes to around 12500 which is really huge . On the second and third place in this list are Pocket Publishing house and Berkley Publishing Group respectively ."
      ],
      "metadata": {
        "id": "j-CMJ3Nlf5Hz"
      }
    },
    {
      "cell_type": "markdown",
      "source": [
        "## **Age Group Analysis**\n",
        "\n",
        "### Our Dataset contains Book Rating from people of all age groups starting from 10 year old kids and then going as high as 100 year old seniors . In this section after plotting an age distribution pie chart we will try to decode the reading and rating pattern across people from different age groups. "
      ],
      "metadata": {
        "id": "8MTEqxG66dzv"
      }
    },
    {
      "cell_type": "code",
      "execution_count": null,
      "metadata": {
        "colab": {
          "base_uri": "https://localhost:8080/",
          "height": 238
        },
        "id": "MDuBkpIHVC0m",
        "outputId": "2ff91e36-b2e2-4d6b-db1a-71f079a07760"
      },
      "outputs": [
        {
          "output_type": "execute_result",
          "data": {
            "text/plain": [
              "     Age-Group  User-ID\n",
              "0    Adulthood    11338\n",
              "1     Children      117\n",
              "2  Middle Aged    10448\n",
              "3      Seniors     2275\n",
              "4     Teenager     4602\n",
              "5        Youth    11408"
            ],
            "text/html": [
              "\n",
              "  <div id=\"df-0ad0fd29-c29e-4894-bf97-ef687adc6966\">\n",
              "    <div class=\"colab-df-container\">\n",
              "      <div>\n",
              "<style scoped>\n",
              "    .dataframe tbody tr th:only-of-type {\n",
              "        vertical-align: middle;\n",
              "    }\n",
              "\n",
              "    .dataframe tbody tr th {\n",
              "        vertical-align: top;\n",
              "    }\n",
              "\n",
              "    .dataframe thead th {\n",
              "        text-align: right;\n",
              "    }\n",
              "</style>\n",
              "<table border=\"1\" class=\"dataframe\">\n",
              "  <thead>\n",
              "    <tr style=\"text-align: right;\">\n",
              "      <th></th>\n",
              "      <th>Age-Group</th>\n",
              "      <th>User-ID</th>\n",
              "    </tr>\n",
              "  </thead>\n",
              "  <tbody>\n",
              "    <tr>\n",
              "      <th>0</th>\n",
              "      <td>Adulthood</td>\n",
              "      <td>11338</td>\n",
              "    </tr>\n",
              "    <tr>\n",
              "      <th>1</th>\n",
              "      <td>Children</td>\n",
              "      <td>117</td>\n",
              "    </tr>\n",
              "    <tr>\n",
              "      <th>2</th>\n",
              "      <td>Middle Aged</td>\n",
              "      <td>10448</td>\n",
              "    </tr>\n",
              "    <tr>\n",
              "      <th>3</th>\n",
              "      <td>Seniors</td>\n",
              "      <td>2275</td>\n",
              "    </tr>\n",
              "    <tr>\n",
              "      <th>4</th>\n",
              "      <td>Teenager</td>\n",
              "      <td>4602</td>\n",
              "    </tr>\n",
              "    <tr>\n",
              "      <th>5</th>\n",
              "      <td>Youth</td>\n",
              "      <td>11408</td>\n",
              "    </tr>\n",
              "  </tbody>\n",
              "</table>\n",
              "</div>\n",
              "      <button class=\"colab-df-convert\" onclick=\"convertToInteractive('df-0ad0fd29-c29e-4894-bf97-ef687adc6966')\"\n",
              "              title=\"Convert this dataframe to an interactive table.\"\n",
              "              style=\"display:none;\">\n",
              "        \n",
              "  <svg xmlns=\"http://www.w3.org/2000/svg\" height=\"24px\"viewBox=\"0 0 24 24\"\n",
              "       width=\"24px\">\n",
              "    <path d=\"M0 0h24v24H0V0z\" fill=\"none\"/>\n",
              "    <path d=\"M18.56 5.44l.94 2.06.94-2.06 2.06-.94-2.06-.94-.94-2.06-.94 2.06-2.06.94zm-11 1L8.5 8.5l.94-2.06 2.06-.94-2.06-.94L8.5 2.5l-.94 2.06-2.06.94zm10 10l.94 2.06.94-2.06 2.06-.94-2.06-.94-.94-2.06-.94 2.06-2.06.94z\"/><path d=\"M17.41 7.96l-1.37-1.37c-.4-.4-.92-.59-1.43-.59-.52 0-1.04.2-1.43.59L10.3 9.45l-7.72 7.72c-.78.78-.78 2.05 0 2.83L4 21.41c.39.39.9.59 1.41.59.51 0 1.02-.2 1.41-.59l7.78-7.78 2.81-2.81c.8-.78.8-2.07 0-2.86zM5.41 20L4 18.59l7.72-7.72 1.47 1.35L5.41 20z\"/>\n",
              "  </svg>\n",
              "      </button>\n",
              "      \n",
              "  <style>\n",
              "    .colab-df-container {\n",
              "      display:flex;\n",
              "      flex-wrap:wrap;\n",
              "      gap: 12px;\n",
              "    }\n",
              "\n",
              "    .colab-df-convert {\n",
              "      background-color: #E8F0FE;\n",
              "      border: none;\n",
              "      border-radius: 50%;\n",
              "      cursor: pointer;\n",
              "      display: none;\n",
              "      fill: #1967D2;\n",
              "      height: 32px;\n",
              "      padding: 0 0 0 0;\n",
              "      width: 32px;\n",
              "    }\n",
              "\n",
              "    .colab-df-convert:hover {\n",
              "      background-color: #E2EBFA;\n",
              "      box-shadow: 0px 1px 2px rgba(60, 64, 67, 0.3), 0px 1px 3px 1px rgba(60, 64, 67, 0.15);\n",
              "      fill: #174EA6;\n",
              "    }\n",
              "\n",
              "    [theme=dark] .colab-df-convert {\n",
              "      background-color: #3B4455;\n",
              "      fill: #D2E3FC;\n",
              "    }\n",
              "\n",
              "    [theme=dark] .colab-df-convert:hover {\n",
              "      background-color: #434B5C;\n",
              "      box-shadow: 0px 1px 3px 1px rgba(0, 0, 0, 0.15);\n",
              "      filter: drop-shadow(0px 1px 2px rgba(0, 0, 0, 0.3));\n",
              "      fill: #FFFFFF;\n",
              "    }\n",
              "  </style>\n",
              "\n",
              "      <script>\n",
              "        const buttonEl =\n",
              "          document.querySelector('#df-0ad0fd29-c29e-4894-bf97-ef687adc6966 button.colab-df-convert');\n",
              "        buttonEl.style.display =\n",
              "          google.colab.kernel.accessAllowed ? 'block' : 'none';\n",
              "\n",
              "        async function convertToInteractive(key) {\n",
              "          const element = document.querySelector('#df-0ad0fd29-c29e-4894-bf97-ef687adc6966');\n",
              "          const dataTable =\n",
              "            await google.colab.kernel.invokeFunction('convertToInteractive',\n",
              "                                                     [key], {});\n",
              "          if (!dataTable) return;\n",
              "\n",
              "          const docLinkHtml = 'Like what you see? Visit the ' +\n",
              "            '<a target=\"_blank\" href=https://colab.research.google.com/notebooks/data_table.ipynb>data table notebook</a>'\n",
              "            + ' to learn more about interactive tables.';\n",
              "          element.innerHTML = '';\n",
              "          dataTable['output_type'] = 'display_data';\n",
              "          await google.colab.output.renderOutput(dataTable, element);\n",
              "          const docLink = document.createElement('div');\n",
              "          docLink.innerHTML = docLinkHtml;\n",
              "          element.appendChild(docLink);\n",
              "        }\n",
              "      </script>\n",
              "    </div>\n",
              "  </div>\n",
              "  "
            ]
          },
          "metadata": {},
          "execution_count": 130
        }
      ],
      "source": [
        "#recSys_eda_df.groupby(\"Age-Group\").agg({ \"User-ID\" : pd.Series.nunique }).reset_index()"
      ]
    },
    {
      "cell_type": "code",
      "execution_count": null,
      "metadata": {
        "colab": {
          "base_uri": "https://localhost:8080/"
        },
        "id": "dXC47GbETeyk",
        "outputId": "72322abf-3588-47de-9b4b-37267d934ff4"
      },
      "outputs": [
        {
          "output_type": "execute_result",
          "data": {
            "text/plain": [
              "Index(['Adulthood', 'Middle Aged', 'Youth', 'Teenager', 'Seniors', 'Children'], dtype='object')"
            ]
          },
          "metadata": {},
          "execution_count": 132
        }
      ],
      "source": [
        "EachAgeGroupRatingCount = recSys_eda_df[\"Age-Group\"].value_counts()\n",
        "EachAgeGroupRatingCount.index"
      ]
    },
    {
      "cell_type": "code",
      "execution_count": null,
      "metadata": {
        "colab": {
          "base_uri": "https://localhost:8080/",
          "height": 409
        },
        "id": "99G3TtrAPVIj",
        "outputId": "54b3cada-78f1-4e2d-994d-bcb2ae104682"
      },
      "outputs": [
        {
          "output_type": "execute_result",
          "data": {
            "text/plain": [
              "Text(0.5, 1.0, 'Percentage of books read by people from each age group')"
            ]
          },
          "metadata": {},
          "execution_count": 133
        },
        {
          "output_type": "display_data",
          "data": {
            "text/plain": [
              "<Figure size 980x560 with 2 Axes>"
            ],
            "image/png": "[encoded data removed]"
          },
          "metadata": {}
        }
      ],
      "source": [
        "#Finding the number of people we have from Each Age group in our dataset\n",
        "EachAgeGroupFreq = recSys_eda_df.groupby(\"Age-Group\").agg({ \"User-ID\" : pd.Series.nunique }).reset_index()\n",
        "#Finding the number of rating records we have from people belonging to each Age group in our dataset\n",
        "EachAgeGroupRatingCount = recSys_eda_df[\"Age-Group\"].value_counts()\n",
        "\n",
        "#Making a list of different Age groups\n",
        "EachAgeGroup = list(EachAgeGroupFreq[\"Age-Group\"].values)\n",
        "#Making a list of total users count from each Age group\n",
        "EachAgeGroupFreq_Count = list(EachAgeGroupFreq[\"User-ID\"].values)\n",
        "\n",
        "#Making a list of total rating records from users of each Age Group\n",
        "EachAgeGroupRatedBookCount = list(EachAgeGroupRatingCount.values)\n",
        "\n",
        "''' Plotting a two different Pie Charts\n",
        "    1st one will show the number of users we have from each age group in our dataset in terms of percentage\n",
        "    2nd one will show the total count of rating records we have from people of each age group in our dataset\n",
        "'''\n",
        "\n",
        "fig, axes = plt.subplots( figsize=(14,8) ,dpi=70,nrows=1, ncols=2)\n",
        "totalStoreTypes = len(EachAgeGroup)\n",
        "\n",
        "#fig = plt.figure()\n",
        "#axes_1 = fig_1.add_axes([0.1,0.1,0.9,0.9])\n",
        "plt.rcParams['text.color'] = 'black'\n",
        "colors = sns.color_palette('bright')[0:totalStoreTypes]\n",
        "\n",
        "explode = [0]*totalStoreTypes\n",
        "explode[0] = 0.2\n",
        "\n",
        "wedges, texts, autotexts = axes[0].pie(EachAgeGroupFreq_Count, explode=explode, labels = EachAgeGroup, colors=colors, \n",
        "                                    autopct='%1.0f%%', shadow=True, startangle=110, \n",
        "                                    textprops=dict(color=\"w\"))\n",
        "\n",
        "wedges, texts, autotexts = axes[1].pie(EachAgeGroupRatedBookCount, explode=explode, labels = EachAgeGroup, colors=colors, \n",
        "                                    autopct='%1.0f%%', shadow=True, startangle=110, \n",
        "                                    textprops=dict(color=\"w\"))\n",
        "\n",
        "plt.legend(wedges, EachAgeGroup, loc='right', bbox_to_anchor=(1, 0, 0.5, 1))\n",
        "axes[0].set_title(\"Share of people belonging to each age group\")\n",
        "axes[1].set_title(\"Percentage of books in our dataset read by people from each age group\")"
      ]
    },
    {
      "cell_type": "markdown",
      "source": [
        "In the first pie plot we can notice that more than 80 percent of the users in our dataset either belong to Youth , Adulthood or Middle Ages , so in layman terms the majority of the users belong to 21-60 age brackets"
      ],
      "metadata": {
        "id": "UHV4DOKivXm8"
      }
    },
    {
      "cell_type": "code",
      "execution_count": null,
      "metadata": {
        "colab": {
          "base_uri": "https://localhost:8080/",
          "height": 465
        },
        "id": "fZwdhRg4iADu",
        "outputId": "4b9cf5d2-e91d-47ce-dca8-5e22f272e3db"
      },
      "outputs": [
        {
          "output_type": "execute_result",
          "data": {
            "text/plain": [
              "<matplotlib.axes._subplots.AxesSubplot at 0x7f5986444050>"
            ]
          },
          "metadata": {},
          "execution_count": 134
        },
        {
          "output_type": "display_data",
          "data": {
            "text/plain": [
              "<Figure size 720x504 with 1 Axes>"
            ],
            "image/png": "[encoded data removed]"
          },
          "metadata": {}
        }
      ],
      "source": [
        "#Plotting a boxplot to understand the rating pattern of people from each Age group\n",
        "sns.boxplot( x = \"Age-Group\" , y = \"Book-Rating\" , data = recSys_eda_df , palette = \"bright\")"
      ]
    },
    {
      "cell_type": "markdown",
      "source": [
        "The rating patter is more or less similar across people of all age groups , one thing we can notice is that childrens are more sentimental while rating the books as compared to people of higher age "
      ],
      "metadata": {
        "id": "ZgjSxNuCxDm_"
      }
    },
    {
      "cell_type": "code",
      "execution_count": null,
      "metadata": {
        "colab": {
          "base_uri": "https://localhost:8080/",
          "height": 466
        },
        "id": "uQnx2U_XlZXj",
        "outputId": "6e5679a6-781f-4a51-dc45-31371e7dc1f3"
      },
      "outputs": [
        {
          "output_type": "execute_result",
          "data": {
            "text/plain": [
              "<matplotlib.axes._subplots.AxesSubplot at 0x7f5985d23ed0>"
            ]
          },
          "metadata": {},
          "execution_count": 135
        },
        {
          "output_type": "display_data",
          "data": {
            "text/plain": [
              "<Figure size 720x504 with 1 Axes>"
            ],
            "image/png": "[encoded data removed]"
          },
          "metadata": {}
        }
      ],
      "source": [
        "#No of books read and rated on Average by individuals belonging from each Age groups\n",
        "ageGroupBooksRead = recSys_eda_df.groupby(\"Age-Group\").agg({ \"ISBN\" : \"count\" , \"User-ID\" : pd.Series.nunique }).reset_index()\n",
        "ageGroupBooksRead[\"AvgNoOfBooksRead\"] = ageGroupBooksRead[\"ISBN\"]/ageGroupBooksRead[\"User-ID\"]\n",
        "\n",
        "sns.barplot(y=\"AvgNoOfBooksRead\", x = \"Age-Group\", data = ageGroupBooksRead, palette = \"bright\" )"
      ]
    },
    {
      "cell_type": "markdown",
      "source": [
        "If we just sum up all the book reviews by people from each age group and take average then according to the info in our dataset we can say that a Middle Aged person will read and review almost 7-8 books on average which is highest across all other Age groups . On the second placed are people who people who belong to Adulthood age group , all in all the general conclusion is book reading is more popular in people from 30-60 age group"
      ],
      "metadata": {
        "id": "K6tcfyfuxsIq"
      }
    },
    {
      "cell_type": "code",
      "source": [
        "k = recSys_eda_df.groupby([\"Age-Group\" , \"Book-Title\"]).agg({ \"User-ID\" : \"count\"}).reset_index().rename( columns = { \"User-ID\" : \"UsersRead\"})\n",
        "huePlot = k.set_index(\"Book-Title\").groupby([\"Age-Group\"])['UsersRead'].nlargest(3).reset_index()\n",
        "huePlot\n",
        "\n",
        "g = sns.barplot(x=\"Age-Group\" , y=\"UsersRead\" , hue = \"Book-Title\" , data = huePlot , palette = \"bright\" )\n",
        "plt.gcf().set_size_inches(18, 8)"
      ],
      "metadata": {
        "colab": {
          "base_uri": "https://localhost:8080/",
          "height": 502
        },
        "id": "GUMnvZ0BHaXx",
        "outputId": "5714e7c4-0e6a-4d2e-9b80-911adfb62a87"
      },
      "execution_count": null,
      "outputs": [
        {
          "output_type": "display_data",
          "data": {
            "text/plain": [
              "<Figure size 1296x576 with 1 Axes>"
            ],
            "image/png": "[encoded data removed]"
          },
          "metadata": {}
        }
      ]
    },
    {
      "cell_type": "markdown",
      "source": [
        "Here we have somewhat tried to plot top 3 most popular books from each age group . "
      ],
      "metadata": {
        "id": "NMTD4Ppr2EQ3"
      }
    },
    {
      "cell_type": "markdown",
      "source": [
        "## **Decade Analysis**\n",
        "\n",
        "### This is the section where we will try to understand the relation between  Year of Publication of the books and the popularity of the books"
      ],
      "metadata": {
        "id": "AwwvXJAw6zL_"
      }
    },
    {
      "cell_type": "code",
      "source": [
        "YearOfPublishedMostReviews = recSys_eda_df[\"Decade\"].value_counts().reset_index().rename( columns = { \"0\" : \"Decade\" , \"Decade\" : \"No. Of Reviews\"})\n",
        "sns.barplot(y = \"No. Of Reviews\" , x = \"Decade\" , data = YearOfPublishedMostReviews , palette = \"bright\")"
      ],
      "metadata": {
        "id": "CtUjAtRs4rSm"
      },
      "execution_count": null,
      "outputs": []
    },
    {
      "cell_type": "code",
      "execution_count": null,
      "metadata": {
        "colab": {
          "base_uri": "https://localhost:8080/",
          "height": 465
        },
        "id": "tK-yXPQ9s65U",
        "outputId": "40ea5845-6df2-41bd-cc69-b23d81228ae6"
      },
      "outputs": [
        {
          "output_type": "execute_result",
          "data": {
            "text/plain": [
              "<matplotlib.axes._subplots.AxesSubplot at 0x7f59854ad210>"
            ]
          },
          "metadata": {},
          "execution_count": 137
        },
        {
          "output_type": "display_data",
          "data": {
            "text/plain": [
              "<Figure size 720x504 with 1 Axes>"
            ],
            "image/png": "[encoded data removed]"
          },
          "metadata": {}
        }
      ],
      "source": [
        "#Finding the Decade in which the books published received the highest average rating\n",
        "YearOfPublishedAvgRating = recSys_eda_df.groupby(\"Decade\").agg({ \"Book-Rating\" : np.mean }).reset_index().sort_values(by = \"Book-Rating\" , ascending = False)\n",
        "\n",
        "sns.barplot(y = \"Book-Rating\" , x = \"Decade\" , data = YearOfPublishedAvgRating , palette = \"bright\" )"
      ]
    },
    {
      "cell_type": "markdown",
      "source": [
        "Books published in 2010s have been rated generally higher as compared to all other decades . "
      ],
      "metadata": {
        "id": "9CvKF4RB0tvA"
      }
    },
    {
      "cell_type": "code",
      "source": [
        "#Finding the number of books published in each decade as per our dataset\n",
        "YearOfPublishedAvgBooks = recSys_eda_df.groupby(\"Decade\").agg({ \"ISBN\" : pd.Series.nunique }).reset_index().sort_values(by = \"ISBN\" , ascending = False)\n",
        "\n",
        "sns.barplot(y = \"ISBN\" , x = \"Decade\" , data = YearOfPublishedAvgBooks , palette = \"bright\" )\n",
        "plt.show()"
      ],
      "metadata": {
        "colab": {
          "base_uri": "https://localhost:8080/",
          "height": 448
        },
        "id": "AEbM_q9zg7pY",
        "outputId": "373a5508-8039-42e9-dd75-21b01e5d2bca"
      },
      "execution_count": null,
      "outputs": [
        {
          "output_type": "display_data",
          "data": {
            "text/plain": [
              "<Figure size 720x504 with 1 Axes>"
            ],
            "image/png": "[encoded data removed]"
          },
          "metadata": {}
        }
      ]
    },
    {
      "cell_type": "markdown",
      "source": [
        "Looking at this bar graph we can conclude that majority of the books in our dataset were published between the period of 1980-2009 with 1990s being on top. Around 70 thousand books in our dataset were published sometime in the 90's"
      ],
      "metadata": {
        "id": "w4K5p4nx1S4_"
      }
    },
    {
      "cell_type": "markdown",
      "source": [
        "## **Location Analysis**\n",
        "\n",
        "### Along with user age we also have location of the users as well in our dataset , so we will now try to exploit that information in order to gain some useful insights"
      ],
      "metadata": {
        "id": "hedO2mb164Cf"
      }
    },
    {
      "cell_type": "code",
      "source": [
        "#Getting the list of Top 10 City in terms of number of rating records from that area\n",
        "pd.DataFrame(recSys_eda_df[\"City\"].value_counts()).head(10)"
      ],
      "metadata": {
        "colab": {
          "base_uri": "https://localhost:8080/",
          "height": 363
        },
        "id": "aP14s5M6c_uI",
        "outputId": "e11b247f-5629-4ef6-da5d-c071e16199c2"
      },
      "execution_count": null,
      "outputs": [
        {
          "output_type": "execute_result",
          "data": {
            "text/plain": [
              "           City\n",
              "toronto    6050\n",
              "morrow     5696\n",
              "london     3992\n",
              "chicago    3300\n",
              "seattle    3063\n",
              "new york   3040\n",
              "portland   2999\n",
              "ottawa     2988\n",
              "honolulu   2705\n",
              "san diego  2371"
            ],
            "text/html": [
              "\n",
              "  <div id=\"df-b81e1a1b-24c4-40de-a912-b0f3f171757e\">\n",
              "    <div class=\"colab-df-container\">\n",
              "      <div>\n",
              "<style scoped>\n",
              "    .dataframe tbody tr th:only-of-type {\n",
              "        vertical-align: middle;\n",
              "    }\n",
              "\n",
              "    .dataframe tbody tr th {\n",
              "        vertical-align: top;\n",
              "    }\n",
              "\n",
              "    .dataframe thead th {\n",
              "        text-align: right;\n",
              "    }\n",
              "</style>\n",
              "<table border=\"1\" class=\"dataframe\">\n",
              "  <thead>\n",
              "    <tr style=\"text-align: right;\">\n",
              "      <th></th>\n",
              "      <th>City</th>\n",
              "    </tr>\n",
              "  </thead>\n",
              "  <tbody>\n",
              "    <tr>\n",
              "      <th>toronto</th>\n",
              "      <td>6050</td>\n",
              "    </tr>\n",
              "    <tr>\n",
              "      <th>morrow</th>\n",
              "      <td>5696</td>\n",
              "    </tr>\n",
              "    <tr>\n",
              "      <th>london</th>\n",
              "      <td>3992</td>\n",
              "    </tr>\n",
              "    <tr>\n",
              "      <th>chicago</th>\n",
              "      <td>3300</td>\n",
              "    </tr>\n",
              "    <tr>\n",
              "      <th>seattle</th>\n",
              "      <td>3063</td>\n",
              "    </tr>\n",
              "    <tr>\n",
              "      <th>new york</th>\n",
              "      <td>3040</td>\n",
              "    </tr>\n",
              "    <tr>\n",
              "      <th>portland</th>\n",
              "      <td>2999</td>\n",
              "    </tr>\n",
              "    <tr>\n",
              "      <th>ottawa</th>\n",
              "      <td>2988</td>\n",
              "    </tr>\n",
              "    <tr>\n",
              "      <th>honolulu</th>\n",
              "      <td>2705</td>\n",
              "    </tr>\n",
              "    <tr>\n",
              "      <th>san diego</th>\n",
              "      <td>2371</td>\n",
              "    </tr>\n",
              "  </tbody>\n",
              "</table>\n",
              "</div>\n",
              "      <button class=\"colab-df-convert\" onclick=\"convertToInteractive('df-b81e1a1b-24c4-40de-a912-b0f3f171757e')\"\n",
              "              title=\"Convert this dataframe to an interactive table.\"\n",
              "              style=\"display:none;\">\n",
              "        \n",
              "  <svg xmlns=\"http://www.w3.org/2000/svg\" height=\"24px\"viewBox=\"0 0 24 24\"\n",
              "       width=\"24px\">\n",
              "    <path d=\"M0 0h24v24H0V0z\" fill=\"none\"/>\n",
              "    <path d=\"M18.56 5.44l.94 2.06.94-2.06 2.06-.94-2.06-.94-.94-2.06-.94 2.06-2.06.94zm-11 1L8.5 8.5l.94-2.06 2.06-.94-2.06-.94L8.5 2.5l-.94 2.06-2.06.94zm10 10l.94 2.06.94-2.06 2.06-.94-2.06-.94-.94-2.06-.94 2.06-2.06.94z\"/><path d=\"M17.41 7.96l-1.37-1.37c-.4-.4-.92-.59-1.43-.59-.52 0-1.04.2-1.43.59L10.3 9.45l-7.72 7.72c-.78.78-.78 2.05 0 2.83L4 21.41c.39.39.9.59 1.41.59.51 0 1.02-.2 1.41-.59l7.78-7.78 2.81-2.81c.8-.78.8-2.07 0-2.86zM5.41 20L4 18.59l7.72-7.72 1.47 1.35L5.41 20z\"/>\n",
              "  </svg>\n",
              "      </button>\n",
              "      \n",
              "  <style>\n",
              "    .colab-df-container {\n",
              "      display:flex;\n",
              "      flex-wrap:wrap;\n",
              "      gap: 12px;\n",
              "    }\n",
              "\n",
              "    .colab-df-convert {\n",
              "      background-color: #E8F0FE;\n",
              "      border: none;\n",
              "      border-radius: 50%;\n",
              "      cursor: pointer;\n",
              "      display: none;\n",
              "      fill: #1967D2;\n",
              "      height: 32px;\n",
              "      padding: 0 0 0 0;\n",
              "      width: 32px;\n",
              "    }\n",
              "\n",
              "    .colab-df-convert:hover {\n",
              "      background-color: #E2EBFA;\n",
              "      box-shadow: 0px 1px 2px rgba(60, 64, 67, 0.3), 0px 1px 3px 1px rgba(60, 64, 67, 0.15);\n",
              "      fill: #174EA6;\n",
              "    }\n",
              "\n",
              "    [theme=dark] .colab-df-convert {\n",
              "      background-color: #3B4455;\n",
              "      fill: #D2E3FC;\n",
              "    }\n",
              "\n",
              "    [theme=dark] .colab-df-convert:hover {\n",
              "      background-color: #434B5C;\n",
              "      box-shadow: 0px 1px 3px 1px rgba(0, 0, 0, 0.15);\n",
              "      filter: drop-shadow(0px 1px 2px rgba(0, 0, 0, 0.3));\n",
              "      fill: #FFFFFF;\n",
              "    }\n",
              "  </style>\n",
              "\n",
              "      <script>\n",
              "        const buttonEl =\n",
              "          document.querySelector('#df-b81e1a1b-24c4-40de-a912-b0f3f171757e button.colab-df-convert');\n",
              "        buttonEl.style.display =\n",
              "          google.colab.kernel.accessAllowed ? 'block' : 'none';\n",
              "\n",
              "        async function convertToInteractive(key) {\n",
              "          const element = document.querySelector('#df-b81e1a1b-24c4-40de-a912-b0f3f171757e');\n",
              "          const dataTable =\n",
              "            await google.colab.kernel.invokeFunction('convertToInteractive',\n",
              "                                                     [key], {});\n",
              "          if (!dataTable) return;\n",
              "\n",
              "          const docLinkHtml = 'Like what you see? Visit the ' +\n",
              "            '<a target=\"_blank\" href=https://colab.research.google.com/notebooks/data_table.ipynb>data table notebook</a>'\n",
              "            + ' to learn more about interactive tables.';\n",
              "          element.innerHTML = '';\n",
              "          dataTable['output_type'] = 'display_data';\n",
              "          await google.colab.output.renderOutput(dataTable, element);\n",
              "          const docLink = document.createElement('div');\n",
              "          docLink.innerHTML = docLinkHtml;\n",
              "          element.appendChild(docLink);\n",
              "        }\n",
              "      </script>\n",
              "    </div>\n",
              "  </div>\n",
              "  "
            ]
          },
          "metadata": {},
          "execution_count": 140
        }
      ]
    },
    {
      "cell_type": "markdown",
      "source": [
        "Toronto , Morrow and London are the top 3 city in terms of number of reviews present in our dataset from users who belong to one of these 3 cities"
      ],
      "metadata": {
        "id": "XvzXrv1Q6OQw"
      }
    },
    {
      "cell_type": "code",
      "source": [
        "#Getting the list of Top 10 state in terms of number of rating records present in our dataset from that area \n",
        "pd.DataFrame(recSys_eda_df[\"State\"].value_counts()).reset_index().head(10)"
      ],
      "metadata": {
        "colab": {
          "base_uri": "https://localhost:8080/",
          "height": 363
        },
        "id": "CFyjBig4pPW9",
        "outputId": "1c96a13d-3bbd-41fd-e296-275d89986f2d"
      },
      "execution_count": null,
      "outputs": [
        {
          "output_type": "execute_result",
          "data": {
            "text/plain": [
              "          index  State\n",
              "0    california  35708\n",
              "1       ontario  16164\n",
              "2         texas  15322\n",
              "3       georgia  13085\n",
              "4      new york  13053\n",
              "5       florida  11106\n",
              "6      illinois  10419\n",
              "7    washington  10083\n",
              "8  pennsylvania   9907\n",
              "9       england   9175"
            ],
            "text/html": [
              "\n",
              "  <div id=\"df-fa43f5a1-08e5-4652-8b39-75e10bb6b6ee\">\n",
              "    <div class=\"colab-df-container\">\n",
              "      <div>\n",
              "<style scoped>\n",
              "    .dataframe tbody tr th:only-of-type {\n",
              "        vertical-align: middle;\n",
              "    }\n",
              "\n",
              "    .dataframe tbody tr th {\n",
              "        vertical-align: top;\n",
              "    }\n",
              "\n",
              "    .dataframe thead th {\n",
              "        text-align: right;\n",
              "    }\n",
              "</style>\n",
              "<table border=\"1\" class=\"dataframe\">\n",
              "  <thead>\n",
              "    <tr style=\"text-align: right;\">\n",
              "      <th></th>\n",
              "      <th>index</th>\n",
              "      <th>State</th>\n",
              "    </tr>\n",
              "  </thead>\n",
              "  <tbody>\n",
              "    <tr>\n",
              "      <th>0</th>\n",
              "      <td>california</td>\n",
              "      <td>35708</td>\n",
              "    </tr>\n",
              "    <tr>\n",
              "      <th>1</th>\n",
              "      <td>ontario</td>\n",
              "      <td>16164</td>\n",
              "    </tr>\n",
              "    <tr>\n",
              "      <th>2</th>\n",
              "      <td>texas</td>\n",
              "      <td>15322</td>\n",
              "    </tr>\n",
              "    <tr>\n",
              "      <th>3</th>\n",
              "      <td>georgia</td>\n",
              "      <td>13085</td>\n",
              "    </tr>\n",
              "    <tr>\n",
              "      <th>4</th>\n",
              "      <td>new york</td>\n",
              "      <td>13053</td>\n",
              "    </tr>\n",
              "    <tr>\n",
              "      <th>5</th>\n",
              "      <td>florida</td>\n",
              "      <td>11106</td>\n",
              "    </tr>\n",
              "    <tr>\n",
              "      <th>6</th>\n",
              "      <td>illinois</td>\n",
              "      <td>10419</td>\n",
              "    </tr>\n",
              "    <tr>\n",
              "      <th>7</th>\n",
              "      <td>washington</td>\n",
              "      <td>10083</td>\n",
              "    </tr>\n",
              "    <tr>\n",
              "      <th>8</th>\n",
              "      <td>pennsylvania</td>\n",
              "      <td>9907</td>\n",
              "    </tr>\n",
              "    <tr>\n",
              "      <th>9</th>\n",
              "      <td>england</td>\n",
              "      <td>9175</td>\n",
              "    </tr>\n",
              "  </tbody>\n",
              "</table>\n",
              "</div>\n",
              "      <button class=\"colab-df-convert\" onclick=\"convertToInteractive('df-fa43f5a1-08e5-4652-8b39-75e10bb6b6ee')\"\n",
              "              title=\"Convert this dataframe to an interactive table.\"\n",
              "              style=\"display:none;\">\n",
              "        \n",
              "  <svg xmlns=\"http://www.w3.org/2000/svg\" height=\"24px\"viewBox=\"0 0 24 24\"\n",
              "       width=\"24px\">\n",
              "    <path d=\"M0 0h24v24H0V0z\" fill=\"none\"/>\n",
              "    <path d=\"M18.56 5.44l.94 2.06.94-2.06 2.06-.94-2.06-.94-.94-2.06-.94 2.06-2.06.94zm-11 1L8.5 8.5l.94-2.06 2.06-.94-2.06-.94L8.5 2.5l-.94 2.06-2.06.94zm10 10l.94 2.06.94-2.06 2.06-.94-2.06-.94-.94-2.06-.94 2.06-2.06.94z\"/><path d=\"M17.41 7.96l-1.37-1.37c-.4-.4-.92-.59-1.43-.59-.52 0-1.04.2-1.43.59L10.3 9.45l-7.72 7.72c-.78.78-.78 2.05 0 2.83L4 21.41c.39.39.9.59 1.41.59.51 0 1.02-.2 1.41-.59l7.78-7.78 2.81-2.81c.8-.78.8-2.07 0-2.86zM5.41 20L4 18.59l7.72-7.72 1.47 1.35L5.41 20z\"/>\n",
              "  </svg>\n",
              "      </button>\n",
              "      \n",
              "  <style>\n",
              "    .colab-df-container {\n",
              "      display:flex;\n",
              "      flex-wrap:wrap;\n",
              "      gap: 12px;\n",
              "    }\n",
              "\n",
              "    .colab-df-convert {\n",
              "      background-color: #E8F0FE;\n",
              "      border: none;\n",
              "      border-radius: 50%;\n",
              "      cursor: pointer;\n",
              "      display: none;\n",
              "      fill: #1967D2;\n",
              "      height: 32px;\n",
              "      padding: 0 0 0 0;\n",
              "      width: 32px;\n",
              "    }\n",
              "\n",
              "    .colab-df-convert:hover {\n",
              "      background-color: #E2EBFA;\n",
              "      box-shadow: 0px 1px 2px rgba(60, 64, 67, 0.3), 0px 1px 3px 1px rgba(60, 64, 67, 0.15);\n",
              "      fill: #174EA6;\n",
              "    }\n",
              "\n",
              "    [theme=dark] .colab-df-convert {\n",
              "      background-color: #3B4455;\n",
              "      fill: #D2E3FC;\n",
              "    }\n",
              "\n",
              "    [theme=dark] .colab-df-convert:hover {\n",
              "      background-color: #434B5C;\n",
              "      box-shadow: 0px 1px 3px 1px rgba(0, 0, 0, 0.15);\n",
              "      filter: drop-shadow(0px 1px 2px rgba(0, 0, 0, 0.3));\n",
              "      fill: #FFFFFF;\n",
              "    }\n",
              "  </style>\n",
              "\n",
              "      <script>\n",
              "        const buttonEl =\n",
              "          document.querySelector('#df-fa43f5a1-08e5-4652-8b39-75e10bb6b6ee button.colab-df-convert');\n",
              "        buttonEl.style.display =\n",
              "          google.colab.kernel.accessAllowed ? 'block' : 'none';\n",
              "\n",
              "        async function convertToInteractive(key) {\n",
              "          const element = document.querySelector('#df-fa43f5a1-08e5-4652-8b39-75e10bb6b6ee');\n",
              "          const dataTable =\n",
              "            await google.colab.kernel.invokeFunction('convertToInteractive',\n",
              "                                                     [key], {});\n",
              "          if (!dataTable) return;\n",
              "\n",
              "          const docLinkHtml = 'Like what you see? Visit the ' +\n",
              "            '<a target=\"_blank\" href=https://colab.research.google.com/notebooks/data_table.ipynb>data table notebook</a>'\n",
              "            + ' to learn more about interactive tables.';\n",
              "          element.innerHTML = '';\n",
              "          dataTable['output_type'] = 'display_data';\n",
              "          await google.colab.output.renderOutput(dataTable, element);\n",
              "          const docLink = document.createElement('div');\n",
              "          docLink.innerHTML = docLinkHtml;\n",
              "          element.appendChild(docLink);\n",
              "        }\n",
              "      </script>\n",
              "    </div>\n",
              "  </div>\n",
              "  "
            ]
          },
          "metadata": {},
          "execution_count": 141
        }
      ]
    },
    {
      "cell_type": "markdown",
      "source": [
        "California , Ontario and Texas are the top 3 states in terms of number of number of reviews present in our dataset from users who belong to one of these 3 States"
      ],
      "metadata": {
        "id": "-RmePVJP6eVe"
      }
    },
    {
      "cell_type": "code",
      "source": [
        "#Getting the list of top 10 Country in terms of number of rating records present in our dataset from that area\n",
        "country_groupby = recSys_eda_df.groupby(\"Country\").agg({ \"Book-Rating\" : np.mean , \"ISBN\" : \"count\"}).reset_index()\n",
        "topCountry = country_groupby.sort_values(by = \"ISBN\" , ascending = False).head(10)\n",
        "\n",
        "#Sorting the Top 10 Country in terms of number of rating records by average book rating given by users from that country\n",
        "topCountryAvgRating = topCountry.sort_values(by = \"Book-Rating\" , ascending = False)"
      ],
      "metadata": {
        "id": "uCWRFyxGyn1g"
      },
      "execution_count": null,
      "outputs": []
    },
    {
      "cell_type": "code",
      "source": [
        "fig, axes = plt.subplots( figsize=(20 ,10) ,dpi=70,nrows=1, ncols=2)\n",
        "sns.barplot( y = \"ISBN\" , x = \"Country\" , data = topCountry , palette = \"bright\" , ax = axes[0])\n",
        "sns.barplot( y = \"Book-Rating\" , x = \"Country\" , data = topCountryAvgRating , palette = \"bright\" , ax = axes[1])\n",
        "axes[0].tick_params(axis='x', rotation=45)\n",
        "axes[1].tick_params(axis='x', rotation=45)"
      ],
      "metadata": {
        "colab": {
          "base_uri": "https://localhost:8080/",
          "height": 652
        },
        "id": "jKfCgoLxxca0",
        "outputId": "aa973e26-1ef5-4758-e221-3c52c0e0fda9"
      },
      "execution_count": null,
      "outputs": [
        {
          "output_type": "display_data",
          "data": {
            "text/plain": [
              "<Figure size 1400x700 with 2 Axes>"
            ],
            "image/png": "[encoded data removed]"
          },
          "metadata": {}
        }
      ]
    },
    {
      "cell_type": "markdown",
      "source": [
        "Here the first Bar plot is showing the top 10 Country in terms of number of rating records from that area and as we can see most of the records in our dataset are from United States of America and Canada\n",
        "\n",
        "In the second Barplot we have the average rating given by users from that country to different books in a sorted manner and even though the difference is not much we can notice that people from portugal are more lenient while rating books whereas people from Spain are a bit more harsh"
      ],
      "metadata": {
        "id": "0K229PQC3z95"
      }
    },
    {
      "cell_type": "code",
      "source": [
        "#Getting the list of most Popular Authors in usa\n",
        "pd.DataFrame(recSys_eda_df[recSys_eda_df[\"Country\"] == \"usa\"][\"Book-Author\"].value_counts()).head(10)"
      ],
      "metadata": {
        "colab": {
          "base_uri": "https://localhost:8080/",
          "height": 363
        },
        "id": "EgXAGyTVrj_j",
        "outputId": "248e82df-8f69-4c54-e10a-0b9ee08c4906"
      },
      "execution_count": null,
      "outputs": [
        {
          "output_type": "execute_result",
          "data": {
            "text/plain": [
              "                    Book-Author\n",
              "Stephen king               3373\n",
              "John grisham               2738\n",
              "Nora roberts               2476\n",
              "James patterson            1920\n",
              "J. k. rowling              1346\n",
              "Mary higgins clark         1271\n",
              "Michael crichton           1253\n",
              "Dean r. koontz             1224\n",
              "Janet evanovich            1214\n",
              "Anne rice                  1209"
            ],
            "text/html": [
              "\n",
              "  <div id=\"df-37c9d9ca-acf4-487f-a010-ac14508f8758\">\n",
              "    <div class=\"colab-df-container\">\n",
              "      <div>\n",
              "<style scoped>\n",
              "    .dataframe tbody tr th:only-of-type {\n",
              "        vertical-align: middle;\n",
              "    }\n",
              "\n",
              "    .dataframe tbody tr th {\n",
              "        vertical-align: top;\n",
              "    }\n",
              "\n",
              "    .dataframe thead th {\n",
              "        text-align: right;\n",
              "    }\n",
              "</style>\n",
              "<table border=\"1\" class=\"dataframe\">\n",
              "  <thead>\n",
              "    <tr style=\"text-align: right;\">\n",
              "      <th></th>\n",
              "      <th>Book-Author</th>\n",
              "    </tr>\n",
              "  </thead>\n",
              "  <tbody>\n",
              "    <tr>\n",
              "      <th>Stephen king</th>\n",
              "      <td>3373</td>\n",
              "    </tr>\n",
              "    <tr>\n",
              "      <th>John grisham</th>\n",
              "      <td>2738</td>\n",
              "    </tr>\n",
              "    <tr>\n",
              "      <th>Nora roberts</th>\n",
              "      <td>2476</td>\n",
              "    </tr>\n",
              "    <tr>\n",
              "      <th>James patterson</th>\n",
              "      <td>1920</td>\n",
              "    </tr>\n",
              "    <tr>\n",
              "      <th>J. k. rowling</th>\n",
              "      <td>1346</td>\n",
              "    </tr>\n",
              "    <tr>\n",
              "      <th>Mary higgins clark</th>\n",
              "      <td>1271</td>\n",
              "    </tr>\n",
              "    <tr>\n",
              "      <th>Michael crichton</th>\n",
              "      <td>1253</td>\n",
              "    </tr>\n",
              "    <tr>\n",
              "      <th>Dean r. koontz</th>\n",
              "      <td>1224</td>\n",
              "    </tr>\n",
              "    <tr>\n",
              "      <th>Janet evanovich</th>\n",
              "      <td>1214</td>\n",
              "    </tr>\n",
              "    <tr>\n",
              "      <th>Anne rice</th>\n",
              "      <td>1209</td>\n",
              "    </tr>\n",
              "  </tbody>\n",
              "</table>\n",
              "</div>\n",
              "      <button class=\"colab-df-convert\" onclick=\"convertToInteractive('df-37c9d9ca-acf4-487f-a010-ac14508f8758')\"\n",
              "              title=\"Convert this dataframe to an interactive table.\"\n",
              "              style=\"display:none;\">\n",
              "        \n",
              "  <svg xmlns=\"http://www.w3.org/2000/svg\" height=\"24px\"viewBox=\"0 0 24 24\"\n",
              "       width=\"24px\">\n",
              "    <path d=\"M0 0h24v24H0V0z\" fill=\"none\"/>\n",
              "    <path d=\"M18.56 5.44l.94 2.06.94-2.06 2.06-.94-2.06-.94-.94-2.06-.94 2.06-2.06.94zm-11 1L8.5 8.5l.94-2.06 2.06-.94-2.06-.94L8.5 2.5l-.94 2.06-2.06.94zm10 10l.94 2.06.94-2.06 2.06-.94-2.06-.94-.94-2.06-.94 2.06-2.06.94z\"/><path d=\"M17.41 7.96l-1.37-1.37c-.4-.4-.92-.59-1.43-.59-.52 0-1.04.2-1.43.59L10.3 9.45l-7.72 7.72c-.78.78-.78 2.05 0 2.83L4 21.41c.39.39.9.59 1.41.59.51 0 1.02-.2 1.41-.59l7.78-7.78 2.81-2.81c.8-.78.8-2.07 0-2.86zM5.41 20L4 18.59l7.72-7.72 1.47 1.35L5.41 20z\"/>\n",
              "  </svg>\n",
              "      </button>\n",
              "      \n",
              "  <style>\n",
              "    .colab-df-container {\n",
              "      display:flex;\n",
              "      flex-wrap:wrap;\n",
              "      gap: 12px;\n",
              "    }\n",
              "\n",
              "    .colab-df-convert {\n",
              "      background-color: #E8F0FE;\n",
              "      border: none;\n",
              "      border-radius: 50%;\n",
              "      cursor: pointer;\n",
              "      display: none;\n",
              "      fill: #1967D2;\n",
              "      height: 32px;\n",
              "      padding: 0 0 0 0;\n",
              "      width: 32px;\n",
              "    }\n",
              "\n",
              "    .colab-df-convert:hover {\n",
              "      background-color: #E2EBFA;\n",
              "      box-shadow: 0px 1px 2px rgba(60, 64, 67, 0.3), 0px 1px 3px 1px rgba(60, 64, 67, 0.15);\n",
              "      fill: #174EA6;\n",
              "    }\n",
              "\n",
              "    [theme=dark] .colab-df-convert {\n",
              "      background-color: #3B4455;\n",
              "      fill: #D2E3FC;\n",
              "    }\n",
              "\n",
              "    [theme=dark] .colab-df-convert:hover {\n",
              "      background-color: #434B5C;\n",
              "      box-shadow: 0px 1px 3px 1px rgba(0, 0, 0, 0.15);\n",
              "      filter: drop-shadow(0px 1px 2px rgba(0, 0, 0, 0.3));\n",
              "      fill: #FFFFFF;\n",
              "    }\n",
              "  </style>\n",
              "\n",
              "      <script>\n",
              "        const buttonEl =\n",
              "          document.querySelector('#df-37c9d9ca-acf4-487f-a010-ac14508f8758 button.colab-df-convert');\n",
              "        buttonEl.style.display =\n",
              "          google.colab.kernel.accessAllowed ? 'block' : 'none';\n",
              "\n",
              "        async function convertToInteractive(key) {\n",
              "          const element = document.querySelector('#df-37c9d9ca-acf4-487f-a010-ac14508f8758');\n",
              "          const dataTable =\n",
              "            await google.colab.kernel.invokeFunction('convertToInteractive',\n",
              "                                                     [key], {});\n",
              "          if (!dataTable) return;\n",
              "\n",
              "          const docLinkHtml = 'Like what you see? Visit the ' +\n",
              "            '<a target=\"_blank\" href=https://colab.research.google.com/notebooks/data_table.ipynb>data table notebook</a>'\n",
              "            + ' to learn more about interactive tables.';\n",
              "          element.innerHTML = '';\n",
              "          dataTable['output_type'] = 'display_data';\n",
              "          await google.colab.output.renderOutput(dataTable, element);\n",
              "          const docLink = document.createElement('div');\n",
              "          docLink.innerHTML = docLinkHtml;\n",
              "          element.appendChild(docLink);\n",
              "        }\n",
              "      </script>\n",
              "    </div>\n",
              "  </div>\n",
              "  "
            ]
          },
          "metadata": {},
          "execution_count": 149
        }
      ]
    },
    {
      "cell_type": "markdown",
      "source": [
        "People from Usa mostly prefers to read books written by Stephen King"
      ],
      "metadata": {
        "id": "Y2Q1BFcH5K8l"
      }
    },
    {
      "cell_type": "code",
      "source": [
        "#Getting the list of Most popular books in Usa\n",
        "pd.DataFrame(recSys_eda_df[recSys_eda_df[\"Country\"] == \"usa\"][\"Book-Title\"].value_counts()).head(10)"
      ],
      "metadata": {
        "colab": {
          "base_uri": "https://localhost:8080/",
          "height": 363
        },
        "id": "h58CB42616HV",
        "outputId": "1da3b24a-8813-4756-a23d-1e1a122474a0"
      },
      "execution_count": null,
      "outputs": [
        {
          "output_type": "execute_result",
          "data": {
            "text/plain": [
              "                                                    Book-Title\n",
              "The lovely bones: a novel                                  531\n",
              "The da vinci code                                          396\n",
              "The secret life of bees                                    361\n",
              "The nanny diaries: a novel                                 321\n",
              "A painted house                                            310\n",
              "The red tent (bestselling backlist)                        300\n",
              "Wild animus                                                298\n",
              "Harry potter and the chamber of secrets (book 2)           273\n",
              "Harry potter and the sorcerer's stone (harry po...         270\n",
              "Divine secrets of the ya-ya sisterhood: a novel            269"
            ],
            "text/html": [
              "\n",
              "  <div id=\"df-e9272b71-65c1-44fa-ba31-52471dc89169\">\n",
              "    <div class=\"colab-df-container\">\n",
              "      <div>\n",
              "<style scoped>\n",
              "    .dataframe tbody tr th:only-of-type {\n",
              "        vertical-align: middle;\n",
              "    }\n",
              "\n",
              "    .dataframe tbody tr th {\n",
              "        vertical-align: top;\n",
              "    }\n",
              "\n",
              "    .dataframe thead th {\n",
              "        text-align: right;\n",
              "    }\n",
              "</style>\n",
              "<table border=\"1\" class=\"dataframe\">\n",
              "  <thead>\n",
              "    <tr style=\"text-align: right;\">\n",
              "      <th></th>\n",
              "      <th>Book-Title</th>\n",
              "    </tr>\n",
              "  </thead>\n",
              "  <tbody>\n",
              "    <tr>\n",
              "      <th>The lovely bones: a novel</th>\n",
              "      <td>531</td>\n",
              "    </tr>\n",
              "    <tr>\n",
              "      <th>The da vinci code</th>\n",
              "      <td>396</td>\n",
              "    </tr>\n",
              "    <tr>\n",
              "      <th>The secret life of bees</th>\n",
              "      <td>361</td>\n",
              "    </tr>\n",
              "    <tr>\n",
              "      <th>The nanny diaries: a novel</th>\n",
              "      <td>321</td>\n",
              "    </tr>\n",
              "    <tr>\n",
              "      <th>A painted house</th>\n",
              "      <td>310</td>\n",
              "    </tr>\n",
              "    <tr>\n",
              "      <th>The red tent (bestselling backlist)</th>\n",
              "      <td>300</td>\n",
              "    </tr>\n",
              "    <tr>\n",
              "      <th>Wild animus</th>\n",
              "      <td>298</td>\n",
              "    </tr>\n",
              "    <tr>\n",
              "      <th>Harry potter and the chamber of secrets (book 2)</th>\n",
              "      <td>273</td>\n",
              "    </tr>\n",
              "    <tr>\n",
              "      <th>Harry potter and the sorcerer's stone (harry potter (paperback))</th>\n",
              "      <td>270</td>\n",
              "    </tr>\n",
              "    <tr>\n",
              "      <th>Divine secrets of the ya-ya sisterhood: a novel</th>\n",
              "      <td>269</td>\n",
              "    </tr>\n",
              "  </tbody>\n",
              "</table>\n",
              "</div>\n",
              "      <button class=\"colab-df-convert\" onclick=\"convertToInteractive('df-e9272b71-65c1-44fa-ba31-52471dc89169')\"\n",
              "              title=\"Convert this dataframe to an interactive table.\"\n",
              "              style=\"display:none;\">\n",
              "        \n",
              "  <svg xmlns=\"http://www.w3.org/2000/svg\" height=\"24px\"viewBox=\"0 0 24 24\"\n",
              "       width=\"24px\">\n",
              "    <path d=\"M0 0h24v24H0V0z\" fill=\"none\"/>\n",
              "    <path d=\"M18.56 5.44l.94 2.06.94-2.06 2.06-.94-2.06-.94-.94-2.06-.94 2.06-2.06.94zm-11 1L8.5 8.5l.94-2.06 2.06-.94-2.06-.94L8.5 2.5l-.94 2.06-2.06.94zm10 10l.94 2.06.94-2.06 2.06-.94-2.06-.94-.94-2.06-.94 2.06-2.06.94z\"/><path d=\"M17.41 7.96l-1.37-1.37c-.4-.4-.92-.59-1.43-.59-.52 0-1.04.2-1.43.59L10.3 9.45l-7.72 7.72c-.78.78-.78 2.05 0 2.83L4 21.41c.39.39.9.59 1.41.59.51 0 1.02-.2 1.41-.59l7.78-7.78 2.81-2.81c.8-.78.8-2.07 0-2.86zM5.41 20L4 18.59l7.72-7.72 1.47 1.35L5.41 20z\"/>\n",
              "  </svg>\n",
              "      </button>\n",
              "      \n",
              "  <style>\n",
              "    .colab-df-container {\n",
              "      display:flex;\n",
              "      flex-wrap:wrap;\n",
              "      gap: 12px;\n",
              "    }\n",
              "\n",
              "    .colab-df-convert {\n",
              "      background-color: #E8F0FE;\n",
              "      border: none;\n",
              "      border-radius: 50%;\n",
              "      cursor: pointer;\n",
              "      display: none;\n",
              "      fill: #1967D2;\n",
              "      height: 32px;\n",
              "      padding: 0 0 0 0;\n",
              "      width: 32px;\n",
              "    }\n",
              "\n",
              "    .colab-df-convert:hover {\n",
              "      background-color: #E2EBFA;\n",
              "      box-shadow: 0px 1px 2px rgba(60, 64, 67, 0.3), 0px 1px 3px 1px rgba(60, 64, 67, 0.15);\n",
              "      fill: #174EA6;\n",
              "    }\n",
              "\n",
              "    [theme=dark] .colab-df-convert {\n",
              "      background-color: #3B4455;\n",
              "      fill: #D2E3FC;\n",
              "    }\n",
              "\n",
              "    [theme=dark] .colab-df-convert:hover {\n",
              "      background-color: #434B5C;\n",
              "      box-shadow: 0px 1px 3px 1px rgba(0, 0, 0, 0.15);\n",
              "      filter: drop-shadow(0px 1px 2px rgba(0, 0, 0, 0.3));\n",
              "      fill: #FFFFFF;\n",
              "    }\n",
              "  </style>\n",
              "\n",
              "      <script>\n",
              "        const buttonEl =\n",
              "          document.querySelector('#df-e9272b71-65c1-44fa-ba31-52471dc89169 button.colab-df-convert');\n",
              "        buttonEl.style.display =\n",
              "          google.colab.kernel.accessAllowed ? 'block' : 'none';\n",
              "\n",
              "        async function convertToInteractive(key) {\n",
              "          const element = document.querySelector('#df-e9272b71-65c1-44fa-ba31-52471dc89169');\n",
              "          const dataTable =\n",
              "            await google.colab.kernel.invokeFunction('convertToInteractive',\n",
              "                                                     [key], {});\n",
              "          if (!dataTable) return;\n",
              "\n",
              "          const docLinkHtml = 'Like what you see? Visit the ' +\n",
              "            '<a target=\"_blank\" href=https://colab.research.google.com/notebooks/data_table.ipynb>data table notebook</a>'\n",
              "            + ' to learn more about interactive tables.';\n",
              "          element.innerHTML = '';\n",
              "          dataTable['output_type'] = 'display_data';\n",
              "          await google.colab.output.renderOutput(dataTable, element);\n",
              "          const docLink = document.createElement('div');\n",
              "          docLink.innerHTML = docLinkHtml;\n",
              "          element.appendChild(docLink);\n",
              "        }\n",
              "      </script>\n",
              "    </div>\n",
              "  </div>\n",
              "  "
            ]
          },
          "metadata": {},
          "execution_count": 150
        }
      ]
    },
    {
      "cell_type": "markdown",
      "metadata": {
        "id": "lG4utNUqdQ3I"
      },
      "source": [
        "# **Different Recommender System**"
      ]
    },
    {
      "cell_type": "markdown",
      "source": [
        "First of all we will install surprise which is a python scikit for recommender System , we will use surprise for getting some help in evaluating the different recommender systems we are going to build "
      ],
      "metadata": {
        "id": "KxnXVE865fgV"
      }
    },
    {
      "cell_type": "code",
      "execution_count": null,
      "metadata": {
        "colab": {
          "base_uri": "https://localhost:8080/"
        },
        "id": "MVjuzvsjHlnz",
        "outputId": "75119cef-027a-4c4a-8132-19fa3ec8c329"
      },
      "outputs": [
        {
          "output_type": "stream",
          "name": "stdout",
          "text": [
            "Requirement already satisfied: surprise in /usr/local/lib/python3.7/dist-packages (0.1)\n",
            "Requirement already satisfied: scikit-surprise in /usr/local/lib/python3.7/dist-packages (from surprise) (1.1.1)\n",
            "Requirement already satisfied: scipy>=1.0.0 in /usr/local/lib/python3.7/dist-packages (from scikit-surprise->surprise) (1.4.1)\n",
            "Requirement already satisfied: numpy>=1.11.2 in /usr/local/lib/python3.7/dist-packages (from scikit-surprise->surprise) (1.21.5)\n",
            "Requirement already satisfied: joblib>=0.11 in /usr/local/lib/python3.7/dist-packages (from scikit-surprise->surprise) (1.1.0)\n",
            "Requirement already satisfied: six>=1.10.0 in /usr/local/lib/python3.7/dist-packages (from scikit-surprise->surprise) (1.15.0)\n"
          ]
        }
      ],
      "source": [
        "#Installing surprise \n",
        "!pip install surprise"
      ]
    },
    {
      "cell_type": "code",
      "execution_count": null,
      "metadata": {
        "id": "lqOCVusjdVhG"
      },
      "outputs": [],
      "source": [
        "#Importing all the necessary method we will use and need from scikit\n",
        "\n",
        "from surprise import Dataset\n",
        "from surprise import Reader\n",
        "from surprise.model_selection import train_test_split\n",
        "from surprise.model_selection import LeaveOneOut\n",
        "\n",
        "from collections import defaultdict\n",
        "import numpy as np"
      ]
    },
    {
      "cell_type": "markdown",
      "metadata": {
        "id": "5drOYWx1as4Q"
      },
      "source": [
        "## **Popular Books Recommender**\n",
        "\n",
        "### Our First Recommender System is kinda simpler one , this recommender system will only recommend the most popular books a certain user hasn't read yet. Though this recommender system doesn't scores well on novelty and diversity factor but popular recommendations are always one of the best choice when it comes to simplicity and speed"
      ]
    },
    {
      "cell_type": "code",
      "execution_count": null,
      "metadata": {
        "id": "FtYgHn3Ua0Zo"
      },
      "outputs": [],
      "source": [
        "def getPopularityRanks(df, topn , userId):\n",
        "\n",
        "  '''Function to get the records for the Top n most popular books'''\n",
        "\n",
        "  df_unread = df[df[\"User-ID\"] != userId ]\n",
        "  df_recommendation = df_unread.groupby([\"Book-Title\"]).agg({ \"User-ID\" : \"count\" , \"Book-Rating\" : \"mean\"}).reset_index().sort_values(by = \"User-ID\" , ascending = False)\n",
        "  return df_recommendation.head(10)"
      ]
    },
    {
      "cell_type": "code",
      "execution_count": null,
      "metadata": {
        "colab": {
          "base_uri": "https://localhost:8080/"
        },
        "id": "8EZPHEUAbu8K",
        "outputId": "3cb46773-206d-4486-e4d3-14457afd998e"
      },
      "outputs": [
        {
          "output_type": "stream",
          "name": "stdout",
          "text": [
            "------ Top 10 Popular Recommendation for user id : 247447 are ------\n"
          ]
        },
        {
          "output_type": "execute_result",
          "data": {
            "text/plain": [
              "                                             Book-Title  User-ID  Book-Rating\n",
              "2232                          The Lovely Bones: A Novel      187     8.240642\n",
              "2003                                  The Da Vinci Code      144     8.569444\n",
              "2392                            The Secret Life Of Bees      133     8.691729\n",
              "884    Harry Potter And The Chamber Of Secrets (Book 2)      121     8.826446\n",
              "356                               Bridget Jones'S Diary      116     7.534483\n",
              "888   Harry Potter And The Prisoner Of Azkaban (Book 3)      113     9.132743\n",
              "2355                The Red Tent (Bestselling Backlist)      109     8.532110\n",
              "2277                         The Nanny Diaries: A Novel      100     7.390000\n",
              "886        Harry Potter And The Goblet Of Fire (Book 4)      100     9.190000\n",
              "179                                 Angels &Amp; Demons       99     8.070707"
            ],
            "text/html": [
              "\n",
              "  <div id=\"df-b7dd6108-0097-40f7-9d18-ef481c50eb67\">\n",
              "    <div class=\"colab-df-container\">\n",
              "      <div>\n",
              "<style scoped>\n",
              "    .dataframe tbody tr th:only-of-type {\n",
              "        vertical-align: middle;\n",
              "    }\n",
              "\n",
              "    .dataframe tbody tr th {\n",
              "        vertical-align: top;\n",
              "    }\n",
              "\n",
              "    .dataframe thead th {\n",
              "        text-align: right;\n",
              "    }\n",
              "</style>\n",
              "<table border=\"1\" class=\"dataframe\">\n",
              "  <thead>\n",
              "    <tr style=\"text-align: right;\">\n",
              "      <th></th>\n",
              "      <th>Book-Title</th>\n",
              "      <th>User-ID</th>\n",
              "      <th>Book-Rating</th>\n",
              "    </tr>\n",
              "  </thead>\n",
              "  <tbody>\n",
              "    <tr>\n",
              "      <th>2232</th>\n",
              "      <td>The Lovely Bones: A Novel</td>\n",
              "      <td>187</td>\n",
              "      <td>8.240642</td>\n",
              "    </tr>\n",
              "    <tr>\n",
              "      <th>2003</th>\n",
              "      <td>The Da Vinci Code</td>\n",
              "      <td>144</td>\n",
              "      <td>8.569444</td>\n",
              "    </tr>\n",
              "    <tr>\n",
              "      <th>2392</th>\n",
              "      <td>The Secret Life Of Bees</td>\n",
              "      <td>133</td>\n",
              "      <td>8.691729</td>\n",
              "    </tr>\n",
              "    <tr>\n",
              "      <th>884</th>\n",
              "      <td>Harry Potter And The Chamber Of Secrets (Book 2)</td>\n",
              "      <td>121</td>\n",
              "      <td>8.826446</td>\n",
              "    </tr>\n",
              "    <tr>\n",
              "      <th>356</th>\n",
              "      <td>Bridget Jones'S Diary</td>\n",
              "      <td>116</td>\n",
              "      <td>7.534483</td>\n",
              "    </tr>\n",
              "    <tr>\n",
              "      <th>888</th>\n",
              "      <td>Harry Potter And The Prisoner Of Azkaban (Book 3)</td>\n",
              "      <td>113</td>\n",
              "      <td>9.132743</td>\n",
              "    </tr>\n",
              "    <tr>\n",
              "      <th>2355</th>\n",
              "      <td>The Red Tent (Bestselling Backlist)</td>\n",
              "      <td>109</td>\n",
              "      <td>8.532110</td>\n",
              "    </tr>\n",
              "    <tr>\n",
              "      <th>2277</th>\n",
              "      <td>The Nanny Diaries: A Novel</td>\n",
              "      <td>100</td>\n",
              "      <td>7.390000</td>\n",
              "    </tr>\n",
              "    <tr>\n",
              "      <th>886</th>\n",
              "      <td>Harry Potter And The Goblet Of Fire (Book 4)</td>\n",
              "      <td>100</td>\n",
              "      <td>9.190000</td>\n",
              "    </tr>\n",
              "    <tr>\n",
              "      <th>179</th>\n",
              "      <td>Angels &amp;Amp; Demons</td>\n",
              "      <td>99</td>\n",
              "      <td>8.070707</td>\n",
              "    </tr>\n",
              "  </tbody>\n",
              "</table>\n",
              "</div>\n",
              "      <button class=\"colab-df-convert\" onclick=\"convertToInteractive('df-b7dd6108-0097-40f7-9d18-ef481c50eb67')\"\n",
              "              title=\"Convert this dataframe to an interactive table.\"\n",
              "              style=\"display:none;\">\n",
              "        \n",
              "  <svg xmlns=\"http://www.w3.org/2000/svg\" height=\"24px\"viewBox=\"0 0 24 24\"\n",
              "       width=\"24px\">\n",
              "    <path d=\"M0 0h24v24H0V0z\" fill=\"none\"/>\n",
              "    <path d=\"M18.56 5.44l.94 2.06.94-2.06 2.06-.94-2.06-.94-.94-2.06-.94 2.06-2.06.94zm-11 1L8.5 8.5l.94-2.06 2.06-.94-2.06-.94L8.5 2.5l-.94 2.06-2.06.94zm10 10l.94 2.06.94-2.06 2.06-.94-2.06-.94-.94-2.06-.94 2.06-2.06.94z\"/><path d=\"M17.41 7.96l-1.37-1.37c-.4-.4-.92-.59-1.43-.59-.52 0-1.04.2-1.43.59L10.3 9.45l-7.72 7.72c-.78.78-.78 2.05 0 2.83L4 21.41c.39.39.9.59 1.41.59.51 0 1.02-.2 1.41-.59l7.78-7.78 2.81-2.81c.8-.78.8-2.07 0-2.86zM5.41 20L4 18.59l7.72-7.72 1.47 1.35L5.41 20z\"/>\n",
              "  </svg>\n",
              "      </button>\n",
              "      \n",
              "  <style>\n",
              "    .colab-df-container {\n",
              "      display:flex;\n",
              "      flex-wrap:wrap;\n",
              "      gap: 12px;\n",
              "    }\n",
              "\n",
              "    .colab-df-convert {\n",
              "      background-color: #E8F0FE;\n",
              "      border: none;\n",
              "      border-radius: 50%;\n",
              "      cursor: pointer;\n",
              "      display: none;\n",
              "      fill: #1967D2;\n",
              "      height: 32px;\n",
              "      padding: 0 0 0 0;\n",
              "      width: 32px;\n",
              "    }\n",
              "\n",
              "    .colab-df-convert:hover {\n",
              "      background-color: #E2EBFA;\n",
              "      box-shadow: 0px 1px 2px rgba(60, 64, 67, 0.3), 0px 1px 3px 1px rgba(60, 64, 67, 0.15);\n",
              "      fill: #174EA6;\n",
              "    }\n",
              "\n",
              "    [theme=dark] .colab-df-convert {\n",
              "      background-color: #3B4455;\n",
              "      fill: #D2E3FC;\n",
              "    }\n",
              "\n",
              "    [theme=dark] .colab-df-convert:hover {\n",
              "      background-color: #434B5C;\n",
              "      box-shadow: 0px 1px 3px 1px rgba(0, 0, 0, 0.15);\n",
              "      filter: drop-shadow(0px 1px 2px rgba(0, 0, 0, 0.3));\n",
              "      fill: #FFFFFF;\n",
              "    }\n",
              "  </style>\n",
              "\n",
              "      <script>\n",
              "        const buttonEl =\n",
              "          document.querySelector('#df-b7dd6108-0097-40f7-9d18-ef481c50eb67 button.colab-df-convert');\n",
              "        buttonEl.style.display =\n",
              "          google.colab.kernel.accessAllowed ? 'block' : 'none';\n",
              "\n",
              "        async function convertToInteractive(key) {\n",
              "          const element = document.querySelector('#df-b7dd6108-0097-40f7-9d18-ef481c50eb67');\n",
              "          const dataTable =\n",
              "            await google.colab.kernel.invokeFunction('convertToInteractive',\n",
              "                                                     [key], {});\n",
              "          if (!dataTable) return;\n",
              "\n",
              "          const docLinkHtml = 'Like what you see? Visit the ' +\n",
              "            '<a target=\"_blank\" href=https://colab.research.google.com/notebooks/data_table.ipynb>data table notebook</a>'\n",
              "            + ' to learn more about interactive tables.';\n",
              "          element.innerHTML = '';\n",
              "          dataTable['output_type'] = 'display_data';\n",
              "          await google.colab.output.renderOutput(dataTable, element);\n",
              "          const docLink = document.createElement('div');\n",
              "          docLink.innerHTML = docLinkHtml;\n",
              "          element.appendChild(docLink);\n",
              "        }\n",
              "      </script>\n",
              "    </div>\n",
              "  </div>\n",
              "  "
            ]
          },
          "metadata": {},
          "execution_count": 236
        }
      ],
      "source": [
        "#Picking a random User-ID \n",
        "user_id = np.random.choice(recSys_df[\"User-ID\"].values)\n",
        "print(f\"------ Top 10 Popular Recommendation for user id : {user_id} are ------\")\n",
        "\n",
        "#Calling getPopularityRanks function to get the top 10 recommendations in terms of popularity for the picked User id \n",
        "getPopularityRanks(recSys_df , 10 , user_id)"
      ]
    },
    {
      "cell_type": "markdown",
      "metadata": {
        "id": "9oTxiAQOsgeO"
      },
      "source": [
        "## **Author Based Recommendation**\n",
        "\n",
        "### Our second recommender system is Author Based Recommendation , this recommender system is built around the idea that if a user reads and likes a book from a certain author, he will then also like to read more highly rated works from that author. "
      ]
    },
    {
      "cell_type": "code",
      "execution_count": null,
      "metadata": {
        "id": "tUBC1c7BvfoF"
      },
      "outputs": [],
      "source": [
        "def get_authors(userId , df):\n",
        "\n",
        "  '''Function to get the list of authors whose books a certain user has read in the dataset'''\n",
        "\n",
        "  author_set = set(df[df[\"User-ID\"] == userId][\"Book-Author\"])\n",
        "  #refined_author_set = set([ (x.lower()).capitalize() for x in author_set])\n",
        "  return list(author_set)"
      ]
    },
    {
      "cell_type": "code",
      "execution_count": null,
      "metadata": {
        "id": "MCdAEQ3a4rFx"
      },
      "outputs": [],
      "source": [
        "def getPopularityRanks(df, topn , userId):\n",
        "\n",
        "  '''Function to get the dataframe containing the top n most popular unread books for a given user id'''\n",
        "\n",
        "  df_unread = df[df[\"User-ID\"] != userId ]\n",
        "  df_recommendation = df_unread.groupby([\"Book-Title\"]).agg({ \"User-ID\" : \"count\" , \"Book-Rating\" : \"mean\"}).reset_index().sort_values(by = \"User-ID\" , ascending = False)\n",
        "  return df_recommendation.head(10)"
      ]
    },
    {
      "cell_type": "code",
      "execution_count": null,
      "metadata": {
        "id": "F9qm0xC50oL1"
      },
      "outputs": [],
      "source": [
        "#Randomly selecting a user id\n",
        "user_id = np.random.choice(recSys_df[\"User-ID\"].values)\n",
        "\n",
        "#Calling the get_authors function passing the randomly selected user id\n",
        "authors_list = get_authors(136326 , recSys_df)\n",
        "\n",
        "#Filtering the dataframe so that it only contains books of those authors whose work they have already read and rated atleast once in our dataset\n",
        "filtered_df = recSys_df[recSys_df[\"Book-Author\"].isin(authors_list)]"
      ]
    },
    {
      "cell_type": "code",
      "source": [
        "#Calling getPopularityRanks to get the most popular unread works from the author whose books a certain user id has already loved in the past \n",
        "print(f\"Top 10 Popular Author Based Recommendation for user id : {136326} are :\")\n",
        "getPopularityRanks(filtered_df , 10 , 136326)"
      ],
      "metadata": {
        "colab": {
          "base_uri": "https://localhost:8080/"
        },
        "id": "STgmlFLudYBY",
        "outputId": "75008d24-18cd-4f51-cc74-ae006144b1ad"
      },
      "execution_count": null,
      "outputs": [
        {
          "output_type": "stream",
          "name": "stdout",
          "text": [
            "Top 10 Popular Author Based Recommendation for user id : 136326 are :\n"
          ]
        },
        {
          "output_type": "execute_result",
          "data": {
            "text/plain": [
              "                                            Book-Title  User-ID  Book-Rating\n",
              "114                         The Nanny Diaries: A Novel       99     7.393939\n",
              "50                          Interview With The Vampire       83     7.698795\n",
              "130   The Vampire Lestat (Vampire Chronicles, Book Ii)       67     8.268657\n",
              "82                   Seven Up (A Stephanie Plum Novel)       62     8.419355\n",
              "23                                        Dreamcatcher       60     7.616667\n",
              "59                                              Misery       60     8.200000\n",
              "42   Hard Eight : A Stephanie Plum Novel (A Stephan...       59     8.084746\n",
              "140                                  Two For The Dough       58     8.500000\n",
              "70   One For The Money (Stephanie Plum Novels (Pape...       54     8.055556\n",
              "125                                       The Talisman       52     8.442308"
            ],
            "text/html": [
              "\n",
              "  <div id=\"df-94c3c027-d64b-4c25-a508-06f8f89b3bb0\">\n",
              "    <div class=\"colab-df-container\">\n",
              "      <div>\n",
              "<style scoped>\n",
              "    .dataframe tbody tr th:only-of-type {\n",
              "        vertical-align: middle;\n",
              "    }\n",
              "\n",
              "    .dataframe tbody tr th {\n",
              "        vertical-align: top;\n",
              "    }\n",
              "\n",
              "    .dataframe thead th {\n",
              "        text-align: right;\n",
              "    }\n",
              "</style>\n",
              "<table border=\"1\" class=\"dataframe\">\n",
              "  <thead>\n",
              "    <tr style=\"text-align: right;\">\n",
              "      <th></th>\n",
              "      <th>Book-Title</th>\n",
              "      <th>User-ID</th>\n",
              "      <th>Book-Rating</th>\n",
              "    </tr>\n",
              "  </thead>\n",
              "  <tbody>\n",
              "    <tr>\n",
              "      <th>114</th>\n",
              "      <td>The Nanny Diaries: A Novel</td>\n",
              "      <td>99</td>\n",
              "      <td>7.393939</td>\n",
              "    </tr>\n",
              "    <tr>\n",
              "      <th>50</th>\n",
              "      <td>Interview With The Vampire</td>\n",
              "      <td>83</td>\n",
              "      <td>7.698795</td>\n",
              "    </tr>\n",
              "    <tr>\n",
              "      <th>130</th>\n",
              "      <td>The Vampire Lestat (Vampire Chronicles, Book Ii)</td>\n",
              "      <td>67</td>\n",
              "      <td>8.268657</td>\n",
              "    </tr>\n",
              "    <tr>\n",
              "      <th>82</th>\n",
              "      <td>Seven Up (A Stephanie Plum Novel)</td>\n",
              "      <td>62</td>\n",
              "      <td>8.419355</td>\n",
              "    </tr>\n",
              "    <tr>\n",
              "      <th>23</th>\n",
              "      <td>Dreamcatcher</td>\n",
              "      <td>60</td>\n",
              "      <td>7.616667</td>\n",
              "    </tr>\n",
              "    <tr>\n",
              "      <th>59</th>\n",
              "      <td>Misery</td>\n",
              "      <td>60</td>\n",
              "      <td>8.200000</td>\n",
              "    </tr>\n",
              "    <tr>\n",
              "      <th>42</th>\n",
              "      <td>Hard Eight : A Stephanie Plum Novel (A Stephan...</td>\n",
              "      <td>59</td>\n",
              "      <td>8.084746</td>\n",
              "    </tr>\n",
              "    <tr>\n",
              "      <th>140</th>\n",
              "      <td>Two For The Dough</td>\n",
              "      <td>58</td>\n",
              "      <td>8.500000</td>\n",
              "    </tr>\n",
              "    <tr>\n",
              "      <th>70</th>\n",
              "      <td>One For The Money (Stephanie Plum Novels (Pape...</td>\n",
              "      <td>54</td>\n",
              "      <td>8.055556</td>\n",
              "    </tr>\n",
              "    <tr>\n",
              "      <th>125</th>\n",
              "      <td>The Talisman</td>\n",
              "      <td>52</td>\n",
              "      <td>8.442308</td>\n",
              "    </tr>\n",
              "  </tbody>\n",
              "</table>\n",
              "</div>\n",
              "      <button class=\"colab-df-convert\" onclick=\"convertToInteractive('df-94c3c027-d64b-4c25-a508-06f8f89b3bb0')\"\n",
              "              title=\"Convert this dataframe to an interactive table.\"\n",
              "              style=\"display:none;\">\n",
              "        \n",
              "  <svg xmlns=\"http://www.w3.org/2000/svg\" height=\"24px\"viewBox=\"0 0 24 24\"\n",
              "       width=\"24px\">\n",
              "    <path d=\"M0 0h24v24H0V0z\" fill=\"none\"/>\n",
              "    <path d=\"M18.56 5.44l.94 2.06.94-2.06 2.06-.94-2.06-.94-.94-2.06-.94 2.06-2.06.94zm-11 1L8.5 8.5l.94-2.06 2.06-.94-2.06-.94L8.5 2.5l-.94 2.06-2.06.94zm10 10l.94 2.06.94-2.06 2.06-.94-2.06-.94-.94-2.06-.94 2.06-2.06.94z\"/><path d=\"M17.41 7.96l-1.37-1.37c-.4-.4-.92-.59-1.43-.59-.52 0-1.04.2-1.43.59L10.3 9.45l-7.72 7.72c-.78.78-.78 2.05 0 2.83L4 21.41c.39.39.9.59 1.41.59.51 0 1.02-.2 1.41-.59l7.78-7.78 2.81-2.81c.8-.78.8-2.07 0-2.86zM5.41 20L4 18.59l7.72-7.72 1.47 1.35L5.41 20z\"/>\n",
              "  </svg>\n",
              "      </button>\n",
              "      \n",
              "  <style>\n",
              "    .colab-df-container {\n",
              "      display:flex;\n",
              "      flex-wrap:wrap;\n",
              "      gap: 12px;\n",
              "    }\n",
              "\n",
              "    .colab-df-convert {\n",
              "      background-color: #E8F0FE;\n",
              "      border: none;\n",
              "      border-radius: 50%;\n",
              "      cursor: pointer;\n",
              "      display: none;\n",
              "      fill: #1967D2;\n",
              "      height: 32px;\n",
              "      padding: 0 0 0 0;\n",
              "      width: 32px;\n",
              "    }\n",
              "\n",
              "    .colab-df-convert:hover {\n",
              "      background-color: #E2EBFA;\n",
              "      box-shadow: 0px 1px 2px rgba(60, 64, 67, 0.3), 0px 1px 3px 1px rgba(60, 64, 67, 0.15);\n",
              "      fill: #174EA6;\n",
              "    }\n",
              "\n",
              "    [theme=dark] .colab-df-convert {\n",
              "      background-color: #3B4455;\n",
              "      fill: #D2E3FC;\n",
              "    }\n",
              "\n",
              "    [theme=dark] .colab-df-convert:hover {\n",
              "      background-color: #434B5C;\n",
              "      box-shadow: 0px 1px 3px 1px rgba(0, 0, 0, 0.15);\n",
              "      filter: drop-shadow(0px 1px 2px rgba(0, 0, 0, 0.3));\n",
              "      fill: #FFFFFF;\n",
              "    }\n",
              "  </style>\n",
              "\n",
              "      <script>\n",
              "        const buttonEl =\n",
              "          document.querySelector('#df-94c3c027-d64b-4c25-a508-06f8f89b3bb0 button.colab-df-convert');\n",
              "        buttonEl.style.display =\n",
              "          google.colab.kernel.accessAllowed ? 'block' : 'none';\n",
              "\n",
              "        async function convertToInteractive(key) {\n",
              "          const element = document.querySelector('#df-94c3c027-d64b-4c25-a508-06f8f89b3bb0');\n",
              "          const dataTable =\n",
              "            await google.colab.kernel.invokeFunction('convertToInteractive',\n",
              "                                                     [key], {});\n",
              "          if (!dataTable) return;\n",
              "\n",
              "          const docLinkHtml = 'Like what you see? Visit the ' +\n",
              "            '<a target=\"_blank\" href=https://colab.research.google.com/notebooks/data_table.ipynb>data table notebook</a>'\n",
              "            + ' to learn more about interactive tables.';\n",
              "          element.innerHTML = '';\n",
              "          dataTable['output_type'] = 'display_data';\n",
              "          await google.colab.output.renderOutput(dataTable, element);\n",
              "          const docLink = document.createElement('div');\n",
              "          docLink.innerHTML = docLinkHtml;\n",
              "          element.appendChild(docLink);\n",
              "        }\n",
              "      </script>\n",
              "    </div>\n",
              "  </div>\n",
              "  "
            ]
          },
          "metadata": {},
          "execution_count": 240
        }
      ]
    },
    {
      "cell_type": "code",
      "execution_count": null,
      "metadata": {
        "id": "BTTYOU_h8T40"
      },
      "outputs": [],
      "source": [
        "#Calling getPopularityRanks to get the most popular unread works from the author whose books a certain user id has already loved in the past \n",
        "#getPopularityRanks(filtered_df , 10 , 136326)"
      ]
    },
    {
      "cell_type": "markdown",
      "metadata": {
        "id": "SLIYnW-GdHik"
      },
      "source": [
        "## **Train And Test Data Preparation**\n",
        "\n",
        "###Now to evaluate our recommender systems we have to divide our dataset into training and test sets and for recommender systems evaluation we will take help of surprise to split our datasets"
      ]
    },
    {
      "cell_type": "code",
      "execution_count": null,
      "metadata": {
        "id": "dIKgYoJosz-a"
      },
      "outputs": [],
      "source": [
        "#Initializing the reader method\n",
        "reader = Reader()\n",
        "\n",
        "#Loading our pandas dataframe into a surprise dataset\n",
        "recSys_surprise_df = Dataset.load_from_df(recSys_df[[\"User-ID\" , \"ISBN\" , \"Book-Rating\"]], reader=reader)"
      ]
    },
    {
      "cell_type": "code",
      "execution_count": null,
      "metadata": {
        "id": "A_cQj5ovHZtC"
      },
      "outputs": [],
      "source": [
        "#Initializing the leave one out evluation method\n",
        "LOOCV = LeaveOneOut(n_splits=1, random_state=1)"
      ]
    },
    {
      "cell_type": "code",
      "execution_count": null,
      "metadata": {
        "id": "JDvbZlcXDMGJ"
      },
      "outputs": [],
      "source": [
        "def splitter():\n",
        "\n",
        "  '''Function to split our dataset into training and test set on the basis of leave one out principle'''\n",
        "\n",
        "  for trainSet, testSet in LOOCV.split(recSys_surprise_df):\n",
        "    return trainSet, testSet"
      ]
    },
    {
      "cell_type": "code",
      "execution_count": null,
      "metadata": {
        "id": "sJfWRMEMH9RD"
      },
      "outputs": [],
      "source": [
        "#Calling the splitter function to get out training and test set\n",
        "trainSet, testSet = splitter()"
      ]
    },
    {
      "cell_type": "code",
      "execution_count": null,
      "metadata": {
        "id": "AzQDqRKxdbOJ"
      },
      "outputs": [],
      "source": [
        "#testSet"
      ]
    },
    {
      "cell_type": "code",
      "execution_count": null,
      "metadata": {
        "id": "h0Cvq31gI_lD"
      },
      "outputs": [],
      "source": [
        "def invert_dictionary(dictionary):\n",
        "    \"\"\"\n",
        "    Function to invert a dictionary\n",
        "    Args: \n",
        "        dictionary (dict): A dictionary\n",
        "    Returns:\n",
        "        dict: inverted dictionary\n",
        "    \"\"\"\n",
        "    return {v: k for k, v in dictionary.items()}"
      ]
    },
    {
      "cell_type": "code",
      "execution_count": null,
      "metadata": {
        "id": "QYzWeFy3DLg6"
      },
      "outputs": [],
      "source": [
        "def surprise_trainset_to_df(trainset, col_user=\"User-ID\", col_item=\"ISBN\", col_rating=\"Book-Rating\"): \n",
        "\n",
        "    ''' Function to convert a surprise dataset into a pandas dataframe'''\n",
        "\n",
        "    df = pd.DataFrame(trainset.all_ratings(), columns=[col_user, col_item, col_rating])\n",
        "    map_user = trainset._inner2raw_id_users if trainset._inner2raw_id_users is not None else invert_dictionary(trainset._raw2inner_id_users)\n",
        "    map_item = trainset._inner2raw_id_items if trainset._inner2raw_id_items is not None else invert_dictionary(trainset._raw2inner_id_items)\n",
        "    df[col_user] = df[col_user].map(map_user)\n",
        "    df[col_item] = df[col_item].map(map_item)\n",
        "    return df"
      ]
    },
    {
      "cell_type": "code",
      "execution_count": null,
      "metadata": {
        "id": "6uq6eGYhIMfZ"
      },
      "outputs": [],
      "source": [
        "#Calling the surprise_trainset_to_df function to get the training pandas dataframe\n",
        "trainSet_df = surprise_trainset_to_df(trainSet)"
      ]
    },
    {
      "cell_type": "code",
      "execution_count": null,
      "metadata": {
        "id": "b3Oz0zPQTC_A"
      },
      "outputs": [],
      "source": [
        "#testSet_df.head()"
      ]
    },
    {
      "cell_type": "code",
      "execution_count": null,
      "metadata": {
        "id": "WleaN9chgVRk"
      },
      "outputs": [],
      "source": [
        "#Importing all the tools we will need to get the user item rating matrix \n",
        "from scipy.sparse import csr_matrix, lil_matrix\n",
        "from scipy.sparse.linalg import svds\n",
        "from tqdm import tqdm\n",
        "tqdm.pandas()"
      ]
    },
    {
      "cell_type": "code",
      "execution_count": null,
      "metadata": {
        "id": "NuPsYd57hoDk"
      },
      "outputs": [],
      "source": [
        "#Getting the list of all unique user id in our training set\n",
        "users = trainSet_df['User-ID'].unique()\n",
        "\n",
        "#Getting the list of all different books in our training set\n",
        "books = trainSet_df['ISBN'].unique()"
      ]
    },
    {
      "cell_type": "code",
      "execution_count": null,
      "metadata": {
        "colab": {
          "base_uri": "https://localhost:8080/"
        },
        "id": "yctKlQUugd5E",
        "outputId": "bbf5420a-5b12-437b-d7bd-0d489c2ed396"
      },
      "outputs": [
        {
          "output_type": "stream",
          "name": "stderr",
          "text": [
            "100%|██████████| 39736/39736 [00:04<00:00, 8704.96it/s]\n"
          ]
        }
      ],
      "source": [
        "#Masking the ISBN and User-ID value with simpler number starting from zero \n",
        "trainSet_df['books'] = trainSet_df['ISBN'].progress_apply(lambda x : np.argwhere(books == x)[0][0])\n",
        "trainSet_df['users'] = trainSet_df['User-ID'].apply(lambda x : np.argwhere(users == x)[0][0])"
      ]
    },
    {
      "cell_type": "code",
      "execution_count": null,
      "metadata": {
        "colab": {
          "base_uri": "https://localhost:8080/"
        },
        "id": "LD22JjW7jbPb",
        "outputId": "ccfc2acd-f67d-4a45-8d1d-0a66e44386d5"
      },
      "outputs": [
        {
          "output_type": "execute_result",
          "data": {
            "text/plain": [
              "<1266x3133 sparse matrix of type '<class 'numpy.int8'>'\n",
              "\twith 39736 stored elements in List of Lists format>"
            ]
          },
          "metadata": {},
          "execution_count": 254
        }
      ],
      "source": [
        "#Creating a sparse user-item matrix\n",
        "occurences = lil_matrix((users.shape[0], books.shape[0]), dtype='int8')\n",
        "\n",
        "def set_occurences(visitor, item , rating):\n",
        "    occurences[visitor, item] = rating\n",
        "\n",
        "trainSet_df.apply(lambda row: set_occurences(row['users'], row['books'] , row[\"Book-Rating\"]), axis=1)\n",
        "\n",
        "occurences"
      ]
    },
    {
      "cell_type": "code",
      "execution_count": null,
      "metadata": {
        "id": "P8X1FvjxAum0"
      },
      "outputs": [],
      "source": [
        "trainSet_indexed_df = trainSet_df.set_index(\"User-ID\")"
      ]
    },
    {
      "cell_type": "code",
      "execution_count": null,
      "metadata": {
        "id": "bGhppJNIBJ4d"
      },
      "outputs": [],
      "source": [
        "#testSet_indexed_df.loc[254]"
      ]
    },
    {
      "cell_type": "markdown",
      "metadata": {
        "id": "_nDRB6_vEbau"
      },
      "source": [
        "## **Knn Recommender System**\n",
        "\n",
        "###In this recommender system we will take help of Nearest neighbors principle to find the K nearest or most similar neighbors/users based on the reading pattern of the user  we are trying to generate recommendations for and then use that information to generate relevant recommendations "
      ]
    },
    {
      "cell_type": "code",
      "execution_count": null,
      "metadata": {
        "id": "DRj2Go973gln"
      },
      "outputs": [],
      "source": [
        "#Importing the sklearn library and other important methods\n",
        "import sklearn\n",
        "from collections import defaultdict\n",
        "from operator import itemgetter"
      ]
    },
    {
      "cell_type": "code",
      "execution_count": null,
      "metadata": {
        "id": "q5-N4RwFSBeI"
      },
      "outputs": [],
      "source": [
        "#Changing our user-item matrix to array\n",
        "R = occurences.toarray()\n",
        "\n",
        "#Getting the list of all unique user ids\n",
        "user_ids = list(trainSet_df[\"User-ID\"].unique())\n",
        "#Getting the list of all unique books ISBN numbers\n",
        "book_isbn = list(trainSet_df[\"ISBN\"].unique())\n",
        "\n",
        "#Creating a copy of our dataframe\n",
        "knn_df = ratings_from_selected_users_df.copy()\n",
        "#Setting the index of the copied dataframe to User-ID\n",
        "knn_indexed_df = knn_df.set_index('User-ID')"
      ]
    },
    {
      "cell_type": "code",
      "execution_count": null,
      "metadata": {
        "colab": {
          "base_uri": "https://localhost:8080/",
          "height": 300
        },
        "id": "3bIhikpqGHjA",
        "outputId": "85675d38-f932-4765-8743-79aacf52ef2a"
      },
      "outputs": [
        {
          "output_type": "execute_result",
          "data": {
            "text/plain": [
              "      0671021001  0618002219  0142001740  0399146431  0060934700  0066238501  \\\n",
              "254            7           9           9           9           9           5   \n",
              "638            0           0           0           0           0           0   \n",
              "882            0           0           0           0           0           0   \n",
              "1131           0           0           0           0           0           0   \n",
              "1435           0           0           0           0           0           0   \n",
              "\n",
              "      0380789035  0380973650  0439064864  0439136350  ...  0804108447  \\\n",
              "254           10           9           9           9  ...           0   \n",
              "638            0           0           0           0  ...           0   \n",
              "882            0           0           0           0  ...           0   \n",
              "1131           0           0           0           0  ...           0   \n",
              "1435           0           0           0           0  ...           0   \n",
              "\n",
              "      0812522397  0060508302  8477204055  0446671002  0375414657  0140620338  \\\n",
              "254            0           0           0           0           0           0   \n",
              "638            0           0           0           0           0           0   \n",
              "882            0           0           0           0           0           0   \n",
              "1131           0           0           0           0           0           0   \n",
              "1435           0           0           0           0           0           0   \n",
              "\n",
              "      2253150711  3426600218  0399144315  \n",
              "254            0           0           0  \n",
              "638            0           0           0  \n",
              "882            0           0           0  \n",
              "1131           0           0           0  \n",
              "1435           0           0           0  \n",
              "\n",
              "[5 rows x 3133 columns]"
            ],
            "text/html": [
              "\n",
              "  <div id=\"df-b42df9a0-1531-4fc0-b113-0b3203e79230\">\n",
              "    <div class=\"colab-df-container\">\n",
              "      <div>\n",
              "<style scoped>\n",
              "    .dataframe tbody tr th:only-of-type {\n",
              "        vertical-align: middle;\n",
              "    }\n",
              "\n",
              "    .dataframe tbody tr th {\n",
              "        vertical-align: top;\n",
              "    }\n",
              "\n",
              "    .dataframe thead th {\n",
              "        text-align: right;\n",
              "    }\n",
              "</style>\n",
              "<table border=\"1\" class=\"dataframe\">\n",
              "  <thead>\n",
              "    <tr style=\"text-align: right;\">\n",
              "      <th></th>\n",
              "      <th>0671021001</th>\n",
              "      <th>0618002219</th>\n",
              "      <th>0142001740</th>\n",
              "      <th>0399146431</th>\n",
              "      <th>0060934700</th>\n",
              "      <th>0066238501</th>\n",
              "      <th>0380789035</th>\n",
              "      <th>0380973650</th>\n",
              "      <th>0439064864</th>\n",
              "      <th>0439136350</th>\n",
              "      <th>...</th>\n",
              "      <th>0804108447</th>\n",
              "      <th>0812522397</th>\n",
              "      <th>0060508302</th>\n",
              "      <th>8477204055</th>\n",
              "      <th>0446671002</th>\n",
              "      <th>0375414657</th>\n",
              "      <th>0140620338</th>\n",
              "      <th>2253150711</th>\n",
              "      <th>3426600218</th>\n",
              "      <th>0399144315</th>\n",
              "    </tr>\n",
              "  </thead>\n",
              "  <tbody>\n",
              "    <tr>\n",
              "      <th>254</th>\n",
              "      <td>7</td>\n",
              "      <td>9</td>\n",
              "      <td>9</td>\n",
              "      <td>9</td>\n",
              "      <td>9</td>\n",
              "      <td>5</td>\n",
              "      <td>10</td>\n",
              "      <td>9</td>\n",
              "      <td>9</td>\n",
              "      <td>9</td>\n",
              "      <td>...</td>\n",
              "      <td>0</td>\n",
              "      <td>0</td>\n",
              "      <td>0</td>\n",
              "      <td>0</td>\n",
              "      <td>0</td>\n",
              "      <td>0</td>\n",
              "      <td>0</td>\n",
              "      <td>0</td>\n",
              "      <td>0</td>\n",
              "      <td>0</td>\n",
              "    </tr>\n",
              "    <tr>\n",
              "      <th>638</th>\n",
              "      <td>0</td>\n",
              "      <td>0</td>\n",
              "      <td>0</td>\n",
              "      <td>0</td>\n",
              "      <td>0</td>\n",
              "      <td>0</td>\n",
              "      <td>0</td>\n",
              "      <td>0</td>\n",
              "      <td>0</td>\n",
              "      <td>0</td>\n",
              "      <td>...</td>\n",
              "      <td>0</td>\n",
              "      <td>0</td>\n",
              "      <td>0</td>\n",
              "      <td>0</td>\n",
              "      <td>0</td>\n",
              "      <td>0</td>\n",
              "      <td>0</td>\n",
              "      <td>0</td>\n",
              "      <td>0</td>\n",
              "      <td>0</td>\n",
              "    </tr>\n",
              "    <tr>\n",
              "      <th>882</th>\n",
              "      <td>0</td>\n",
              "      <td>0</td>\n",
              "      <td>0</td>\n",
              "      <td>0</td>\n",
              "      <td>0</td>\n",
              "      <td>0</td>\n",
              "      <td>0</td>\n",
              "      <td>0</td>\n",
              "      <td>0</td>\n",
              "      <td>0</td>\n",
              "      <td>...</td>\n",
              "      <td>0</td>\n",
              "      <td>0</td>\n",
              "      <td>0</td>\n",
              "      <td>0</td>\n",
              "      <td>0</td>\n",
              "      <td>0</td>\n",
              "      <td>0</td>\n",
              "      <td>0</td>\n",
              "      <td>0</td>\n",
              "      <td>0</td>\n",
              "    </tr>\n",
              "    <tr>\n",
              "      <th>1131</th>\n",
              "      <td>0</td>\n",
              "      <td>0</td>\n",
              "      <td>0</td>\n",
              "      <td>0</td>\n",
              "      <td>0</td>\n",
              "      <td>0</td>\n",
              "      <td>0</td>\n",
              "      <td>0</td>\n",
              "      <td>0</td>\n",
              "      <td>0</td>\n",
              "      <td>...</td>\n",
              "      <td>0</td>\n",
              "      <td>0</td>\n",
              "      <td>0</td>\n",
              "      <td>0</td>\n",
              "      <td>0</td>\n",
              "      <td>0</td>\n",
              "      <td>0</td>\n",
              "      <td>0</td>\n",
              "      <td>0</td>\n",
              "      <td>0</td>\n",
              "    </tr>\n",
              "    <tr>\n",
              "      <th>1435</th>\n",
              "      <td>0</td>\n",
              "      <td>0</td>\n",
              "      <td>0</td>\n",
              "      <td>0</td>\n",
              "      <td>0</td>\n",
              "      <td>0</td>\n",
              "      <td>0</td>\n",
              "      <td>0</td>\n",
              "      <td>0</td>\n",
              "      <td>0</td>\n",
              "      <td>...</td>\n",
              "      <td>0</td>\n",
              "      <td>0</td>\n",
              "      <td>0</td>\n",
              "      <td>0</td>\n",
              "      <td>0</td>\n",
              "      <td>0</td>\n",
              "      <td>0</td>\n",
              "      <td>0</td>\n",
              "      <td>0</td>\n",
              "      <td>0</td>\n",
              "    </tr>\n",
              "  </tbody>\n",
              "</table>\n",
              "<p>5 rows × 3133 columns</p>\n",
              "</div>\n",
              "      <button class=\"colab-df-convert\" onclick=\"convertToInteractive('df-b42df9a0-1531-4fc0-b113-0b3203e79230')\"\n",
              "              title=\"Convert this dataframe to an interactive table.\"\n",
              "              style=\"display:none;\">\n",
              "        \n",
              "  <svg xmlns=\"http://www.w3.org/2000/svg\" height=\"24px\"viewBox=\"0 0 24 24\"\n",
              "       width=\"24px\">\n",
              "    <path d=\"M0 0h24v24H0V0z\" fill=\"none\"/>\n",
              "    <path d=\"M18.56 5.44l.94 2.06.94-2.06 2.06-.94-2.06-.94-.94-2.06-.94 2.06-2.06.94zm-11 1L8.5 8.5l.94-2.06 2.06-.94-2.06-.94L8.5 2.5l-.94 2.06-2.06.94zm10 10l.94 2.06.94-2.06 2.06-.94-2.06-.94-.94-2.06-.94 2.06-2.06.94z\"/><path d=\"M17.41 7.96l-1.37-1.37c-.4-.4-.92-.59-1.43-.59-.52 0-1.04.2-1.43.59L10.3 9.45l-7.72 7.72c-.78.78-.78 2.05 0 2.83L4 21.41c.39.39.9.59 1.41.59.51 0 1.02-.2 1.41-.59l7.78-7.78 2.81-2.81c.8-.78.8-2.07 0-2.86zM5.41 20L4 18.59l7.72-7.72 1.47 1.35L5.41 20z\"/>\n",
              "  </svg>\n",
              "      </button>\n",
              "      \n",
              "  <style>\n",
              "    .colab-df-container {\n",
              "      display:flex;\n",
              "      flex-wrap:wrap;\n",
              "      gap: 12px;\n",
              "    }\n",
              "\n",
              "    .colab-df-convert {\n",
              "      background-color: #E8F0FE;\n",
              "      border: none;\n",
              "      border-radius: 50%;\n",
              "      cursor: pointer;\n",
              "      display: none;\n",
              "      fill: #1967D2;\n",
              "      height: 32px;\n",
              "      padding: 0 0 0 0;\n",
              "      width: 32px;\n",
              "    }\n",
              "\n",
              "    .colab-df-convert:hover {\n",
              "      background-color: #E2EBFA;\n",
              "      box-shadow: 0px 1px 2px rgba(60, 64, 67, 0.3), 0px 1px 3px 1px rgba(60, 64, 67, 0.15);\n",
              "      fill: #174EA6;\n",
              "    }\n",
              "\n",
              "    [theme=dark] .colab-df-convert {\n",
              "      background-color: #3B4455;\n",
              "      fill: #D2E3FC;\n",
              "    }\n",
              "\n",
              "    [theme=dark] .colab-df-convert:hover {\n",
              "      background-color: #434B5C;\n",
              "      box-shadow: 0px 1px 3px 1px rgba(0, 0, 0, 0.15);\n",
              "      filter: drop-shadow(0px 1px 2px rgba(0, 0, 0, 0.3));\n",
              "      fill: #FFFFFF;\n",
              "    }\n",
              "  </style>\n",
              "\n",
              "      <script>\n",
              "        const buttonEl =\n",
              "          document.querySelector('#df-b42df9a0-1531-4fc0-b113-0b3203e79230 button.colab-df-convert');\n",
              "        buttonEl.style.display =\n",
              "          google.colab.kernel.accessAllowed ? 'block' : 'none';\n",
              "\n",
              "        async function convertToInteractive(key) {\n",
              "          const element = document.querySelector('#df-b42df9a0-1531-4fc0-b113-0b3203e79230');\n",
              "          const dataTable =\n",
              "            await google.colab.kernel.invokeFunction('convertToInteractive',\n",
              "                                                     [key], {});\n",
              "          if (!dataTable) return;\n",
              "\n",
              "          const docLinkHtml = 'Like what you see? Visit the ' +\n",
              "            '<a target=\"_blank\" href=https://colab.research.google.com/notebooks/data_table.ipynb>data table notebook</a>'\n",
              "            + ' to learn more about interactive tables.';\n",
              "          element.innerHTML = '';\n",
              "          dataTable['output_type'] = 'display_data';\n",
              "          await google.colab.output.renderOutput(dataTable, element);\n",
              "          const docLink = document.createElement('div');\n",
              "          docLink.innerHTML = docLinkHtml;\n",
              "          element.appendChild(docLink);\n",
              "        }\n",
              "      </script>\n",
              "    </div>\n",
              "  </div>\n",
              "  "
            ]
          },
          "metadata": {},
          "execution_count": 259
        }
      ],
      "source": [
        "#Creating a new dataframe where rows represent the users and columns represents the different book ISBN numbers\n",
        "knn_preds_df = pd.DataFrame(R, columns = book_isbn , index = user_ids)\n",
        "#Checking the head of the dataframe\n",
        "knn_preds_df.head()"
      ]
    },
    {
      "cell_type": "code",
      "execution_count": null,
      "metadata": {
        "colab": {
          "base_uri": "https://localhost:8080/"
        },
        "id": "0jjPphmiEfD8",
        "outputId": "835563b7-434d-4a96-8db3-59d1d0cec0e3"
      },
      "outputs": [
        {
          "output_type": "execute_result",
          "data": {
            "text/plain": [
              "NearestNeighbors(algorithm='brute', metric='cosine')"
            ]
          },
          "metadata": {},
          "execution_count": 260
        }
      ],
      "source": [
        "#Importing NearestNeighbors from sklearn library\n",
        "from sklearn.neighbors import NearestNeighbors\n",
        "\n",
        "#Initializing the Nearest Neighbors model with cosine metric and brute algorithm\n",
        "model_knn=NearestNeighbors(metric = \"cosine\" , algorithm=\"brute\")\n",
        "#Fitting our data on the model\n",
        "model_knn.fit(occurences)"
      ]
    },
    {
      "cell_type": "code",
      "execution_count": null,
      "metadata": {
        "colab": {
          "base_uri": "https://localhost:8080/"
        },
        "id": "ym5mVePmBgNv",
        "outputId": "22038be7-d8a9-4653-c6d7-d4cc3d4edee1"
      },
      "outputs": [
        {
          "output_type": "stream",
          "name": "stdout",
          "text": [
            "1: The Westing Game (Now In Speak!) : 0.7999999999999998\n",
            "2: The Hobbit: Or There And Back Again : 0.6914709671057795\n",
            "3: The Catcher In The Rye : 0.5176012941049041\n",
            "4: The Giving Tree : 0.482559581509323\n",
            "5: Suzanne'S Diary For Nicholas : 0.44111061668388396\n",
            "6: Attack Of The Deranged Mutant Killer Snow Goons : 0.30298786315964343\n",
            "7: The Venetian'S Wife: A Strangely Sensual Tale Of A Renaissance Explorer, A Computer, And A Metamorphosis : 0.30298786315964343\n",
            "8: Homicidal Psycho Jungle Cat: A Calvin And Hobbes Collection : 0.30298786315964343\n",
            "9: The Vampire Lestat (Vampire Chronicles, Book Ii) : 0.30298786315964343\n",
            "10: Life'S Little Instruction Book; Volume Ii : 0.30298786315964343\n"
          ]
        }
      ],
      "source": [
        "#Creating a lookup_df by resetting the index of our knn_preds_df\n",
        "lookup_df = knn_preds_df.reset_index()\n",
        "\n",
        "#Calling kneighbors on our model to get the distance and indices/position of the top 10 nearest neighbors in this case\n",
        "distances, indices = model_knn.kneighbors(lookup_df.iloc[5, 1:].values.reshape(1,-1), n_neighbors = 10)\n",
        "\n",
        "#Creating an empty dictionary\n",
        "candidates = defaultdict(float)\n",
        "\n",
        "#Using a for loop we run through all the nearest neighbors \n",
        "#calculating the rating of each of the movie they have seen based on the rating given by them and their similarity score.\n",
        "for index ,similarUser in enumerate(indices.flatten()):\n",
        "  userId = knn_preds_df.index[similarUser]\n",
        "  userSimilarityScore = 1 - distances.flatten()[index]\n",
        "  theirRatings = list(zip(knn_indexed_df.loc[userId][\"ISBN\" ] , knn_indexed_df.loc[userId][\"Book-Rating\" ]))\n",
        "  for rating in theirRatings:\n",
        "    candidates[rating[0]] += ((rating[1] / 10.0) * userSimilarityScore)\n",
        "\n",
        "#Getting the actual user id by passing the index position value\n",
        "primary_userId = knn_preds_df.index[5]\n",
        "#Creating a set of all the movies the user has already watched\n",
        "watched_list = set(trainSet_indexed_df.loc[primary_userId][\"ISBN\" ])\n",
        "\n",
        "pos = 0\n",
        "#Using a for loop to run through our recommendation in sorted order of rating and printing recommendation if the movie is not watched by the user yet.\n",
        "for itemID, ratingSum in sorted(candidates.items(), key=itemgetter(1), reverse=True):\n",
        "  if not itemID in watched_list:\n",
        "    book_title = set(knn_indexed_df[knn_indexed_df[\"ISBN\"] == itemID][\"Book-Title\"])\n",
        "    print(f'{pos+1}: {next(iter(book_title))} : {ratingSum}')\n",
        "          #topN[int(trainSet.to_raw_uid(uiid))].append( (int(movieID), 0.0) )\n",
        "    pos += 1\n",
        "    if (pos >= 10):\n",
        "      break"
      ]
    },
    {
      "cell_type": "markdown",
      "metadata": {
        "id": "_FlqEj5NK8uA"
      },
      "source": [
        "## **Gradient Descent Approach**\n",
        "\n",
        "### For this Recommender System we will first try to predict the Ratings of all the unread books for every single user , using a gradient descent approach of minimizing error for the predicted ratings of the book they have already read and then generating the top n recommendations with the highest predicted rating."
      ]
    },
    {
      "cell_type": "code",
      "execution_count": null,
      "metadata": {
        "id": "GlX3RbBGzOqw"
      },
      "outputs": [],
      "source": [
        "class MF():\n",
        "\n",
        "    \n",
        "    def __init__(self, R, K, alpha, beta, iterations):\n",
        "        \"\"\"\n",
        "        Function to perform matrix factorization to predict empty\n",
        "        entries in a matrix.\n",
        "        \n",
        "        Arguments\n",
        "        - R (ndarray)   : user-item rating matrix\n",
        "        - K (int)       : number of latent dimensions\n",
        "        - alpha (float) : learning rate\n",
        "        - beta (float)  : regularization parameter\n",
        "        \"\"\"\n",
        "        \n",
        "        self.R = R\n",
        "        self.num_users, self.num_items = R.shape\n",
        "        self.K = K\n",
        "        self.alpha = alpha\n",
        "        self.beta = beta\n",
        "        self.iterations = iterations\n",
        "\n",
        "    def train(self):\n",
        "        # Initializing user and item latent feature matrice\n",
        "        self.P = np.random.normal(scale=1./self.K, size=(self.num_users, self.K))\n",
        "        self.Q = np.random.normal(scale=1./self.K, size=(self.num_items, self.K))\n",
        "        \n",
        "        # Initializing the biases\n",
        "        self.b_u = np.zeros(self.num_users)\n",
        "        self.b_i = np.zeros(self.num_items)\n",
        "        self.b = np.mean(self.R[np.where(self.R != 0)])\n",
        "        \n",
        "        # Creating a list of training samples\n",
        "\n",
        "        i,j = self.R.nonzero()\n",
        "        values = self.R[self.R.nonzero()]\n",
        "        self.samples = list(zip(i , j, values))\n",
        "        \n",
        "        # Performing stochastic gradient descent for number of iterations\n",
        "        training_process = []\n",
        "        for i in range(self.iterations):\n",
        "            np.random.shuffle(self.samples)\n",
        "            self.sgd()\n",
        "            mse = self.mse()\n",
        "            training_process.append((i, mse))\n",
        "            if (i+1) % 10 == 0:\n",
        "                print(\"Iteration: %d ; error = %.4f\" % (i+1, mse))\n",
        "        \n",
        "        return training_process\n",
        "\n",
        "    def mse(self):\n",
        "        \"\"\"\n",
        "        A function to compute the total mean square error\n",
        "        \"\"\"\n",
        "        xs, ys = self.R.nonzero()\n",
        "        predicted = self.full_matrix()\n",
        "        error = 0\n",
        "        for x, y in zip(xs, ys):\n",
        "            error += pow(self.R[x, y] - predicted[x, y], 2)\n",
        "        return np.sqrt(error)\n",
        "\n",
        "    def sgd(self):\n",
        "        \"\"\"\n",
        "        Performing stochastic graident descent\n",
        "        \"\"\"\n",
        "        for i, j, r in self.samples:\n",
        "            # Computing prediction and error\n",
        "            prediction = self.get_rating(i, j)\n",
        "            e = (r - prediction)\n",
        "            \n",
        "            # Updating biases\n",
        "            self.b_u[i] += self.alpha * (e - self.beta * self.b_u[i])\n",
        "            self.b_i[j] += self.alpha * (e - self.beta * self.b_i[j])\n",
        "            \n",
        "            # Creating copy of row of P since we need to update it but use older values for update on Q\n",
        "            P_i = self.P[i, :][:]\n",
        "            \n",
        "            # Updating user and item latent feature matrices\n",
        "            self.P[i, :] += self.alpha * (e * self.Q[j, :] - self.beta * self.P[i,:])\n",
        "            self.Q[j, :] += self.alpha * (e * P_i - self.beta * self.Q[j,:])\n",
        "\n",
        "    def get_rating(self, i, j):\n",
        "        \"\"\"\n",
        "        Getting the predicted rating of user i and item j\n",
        "        \"\"\"\n",
        "        prediction = self.b + self.b_u[i] + self.b_i[j] + self.P[i, :].dot(self.Q[j, :].T)\n",
        "        return prediction\n",
        "    \n",
        "    def full_matrix(self):\n",
        "        \"\"\"\n",
        "        Computing the full matrix using the resultant biases, P and Q\n",
        "        \"\"\"\n",
        "        return mf.b + mf.b_u[:,np.newaxis] + mf.b_i[np.newaxis:,] + mf.P.dot(mf.Q.T)"
      ]
    },
    {
      "cell_type": "code",
      "execution_count": null,
      "metadata": {
        "colab": {
          "base_uri": "https://localhost:8080/"
        },
        "id": "G-mUMkaZJDUt",
        "outputId": "3979315c-cb97-4799-a131-f8c16ddf4133"
      },
      "outputs": [
        {
          "output_type": "stream",
          "name": "stdout",
          "text": [
            "Iteration: 10 ; error = 185.0161\n",
            "Iteration: 20 ; error = 79.4937\n",
            "Iteration: 30 ; error = 44.4978\n",
            "Iteration: 40 ; error = 29.6284\n",
            "Iteration: 50 ; error = 21.8424\n",
            "Iteration: 60 ; error = 17.1705\n",
            "Iteration: 70 ; error = 14.1565\n",
            "Iteration: 80 ; error = 12.0828\n",
            "Iteration: 90 ; error = 10.6076\n",
            "Iteration: 100 ; error = 9.5190\n",
            "Iteration: 110 ; error = 8.6953\n",
            "Iteration: 120 ; error = 8.0594\n",
            "Iteration: 130 ; error = 7.5855\n",
            "Iteration: 140 ; error = 7.2156\n",
            "\n",
            "P x Q:\n",
            "[[ 6.99969723  9.0079647   8.97104316 ...  8.16578678  7.67104449\n",
            "   8.86447362]\n",
            " [10.26888124 10.98708621 11.73754154 ...  9.302283    8.7762873\n",
            "   9.74402258]\n",
            " [ 6.61519754  7.97862214  8.26592327 ...  7.83283614  7.24429447\n",
            "   8.14127526]\n",
            " ...\n",
            " [ 7.36844143  7.97928849  7.70573059 ...  7.58376561  7.24939707\n",
            "   8.25044513]\n",
            " [ 5.21682213  8.33042779  8.62608362 ...  6.8239224   6.34398008\n",
            "   7.19459478]\n",
            " [ 6.34203305  8.4623363   8.30083598 ...  7.36503162  6.81300187\n",
            "   7.91655285]]\n"
          ]
        }
      ],
      "source": [
        "#Creating an array of user item matrix \n",
        "R = occurences.toarray()\n",
        "\n",
        "#Creating a class of MF and passing the necessary arguments\n",
        "mf = MF(R, K=21, alpha=0.0220, beta=0.00475, iterations=150)\n",
        "#Calling train method on our mf class initialization\n",
        "training_process = mf.train()\n",
        "print()\n",
        "print(\"P x Q:\")\n",
        "print(mf.full_matrix())"
      ]
    },
    {
      "cell_type": "code",
      "execution_count": null,
      "metadata": {
        "id": "DT5DxAwfrqwX"
      },
      "outputs": [],
      "source": [
        "#Getting the list of all unique user ids\n",
        "user_ids = list(trainSet_df[\"User-ID\"].unique())\n",
        "#Getting the list of all unique Book ISBN numbers\n",
        "book_isbn = list(trainSet_df[\"ISBN\"].unique())"
      ]
    },
    {
      "cell_type": "code",
      "execution_count": null,
      "metadata": {
        "colab": {
          "base_uri": "https://localhost:8080/",
          "height": 300
        },
        "id": "fyUVc8I3roYW",
        "outputId": "9470703f-a701-44db-e3b5-eaba2f8c9fde"
      },
      "outputs": [
        {
          "output_type": "execute_result",
          "data": {
            "text/plain": [
              "              254        638       882       1131      1435      2033    \\\n",
              "0671021001  6.999697  10.268881  6.615198  6.744314  6.361744  9.815523   \n",
              "0618002219  9.007965  10.987086  7.978622  8.742370  7.205810  9.442116   \n",
              "0142001740  8.971043  11.737542  8.265923  8.371625  8.456208  7.228320   \n",
              "0399146431  8.958015   9.453785  7.264287  7.305710  5.820501  8.501077   \n",
              "0060934700  8.982160   9.859479  8.284191  7.403195  8.296727  9.510690   \n",
              "\n",
              "               2276      2766      2891       3363    ...    276050  \\\n",
              "0671021001   8.952513  7.973228  6.819366   9.147508  ...  8.955166   \n",
              "0618002219   8.408457  8.800886  9.405114  10.477427  ...  7.750010   \n",
              "0142001740  10.388556  8.767651  7.005840   9.931025  ...  7.766228   \n",
              "0399146431   8.624011  8.896672  7.703051  10.074160  ...  8.046960   \n",
              "0060934700   9.653361  9.251270  8.232227  10.014619  ...  8.133472   \n",
              "\n",
              "               276165    276231    276641    276680     277427     277523  \\\n",
              "0671021001  10.068891  6.141488  7.660798  8.963414   8.386149   9.514609   \n",
              "0618002219   8.916613  7.562691  7.868381  8.174891   9.431299  10.842437   \n",
              "0142001740  10.095449  7.051310  6.693625  9.365917  10.222565  10.635538   \n",
              "0399146431   9.596925  6.553934  7.858426  9.868487   7.902353  10.043193   \n",
              "0060934700   9.629971  6.592314  7.898317  8.505017   9.792370  10.341352   \n",
              "\n",
              "              278026    278194    278633  \n",
              "0671021001  7.368441  5.216822  6.342033  \n",
              "0618002219  7.979288  8.330428  8.462336  \n",
              "0142001740  7.705731  8.626084  8.300836  \n",
              "0399146431  8.205645  6.991377  6.795540  \n",
              "0060934700  8.457452  6.653997  8.244115  \n",
              "\n",
              "[5 rows x 1266 columns]"
            ],
            "text/html": [
              "\n",
              "  <div id=\"df-ac86de10-bd6c-45e8-b752-213ca3d74540\">\n",
              "    <div class=\"colab-df-container\">\n",
              "      <div>\n",
              "<style scoped>\n",
              "    .dataframe tbody tr th:only-of-type {\n",
              "        vertical-align: middle;\n",
              "    }\n",
              "\n",
              "    .dataframe tbody tr th {\n",
              "        vertical-align: top;\n",
              "    }\n",
              "\n",
              "    .dataframe thead th {\n",
              "        text-align: right;\n",
              "    }\n",
              "</style>\n",
              "<table border=\"1\" class=\"dataframe\">\n",
              "  <thead>\n",
              "    <tr style=\"text-align: right;\">\n",
              "      <th></th>\n",
              "      <th>254</th>\n",
              "      <th>638</th>\n",
              "      <th>882</th>\n",
              "      <th>1131</th>\n",
              "      <th>1435</th>\n",
              "      <th>2033</th>\n",
              "      <th>2276</th>\n",
              "      <th>2766</th>\n",
              "      <th>2891</th>\n",
              "      <th>3363</th>\n",
              "      <th>...</th>\n",
              "      <th>276050</th>\n",
              "      <th>276165</th>\n",
              "      <th>276231</th>\n",
              "      <th>276641</th>\n",
              "      <th>276680</th>\n",
              "      <th>277427</th>\n",
              "      <th>277523</th>\n",
              "      <th>278026</th>\n",
              "      <th>278194</th>\n",
              "      <th>278633</th>\n",
              "    </tr>\n",
              "  </thead>\n",
              "  <tbody>\n",
              "    <tr>\n",
              "      <th>0671021001</th>\n",
              "      <td>6.999697</td>\n",
              "      <td>10.268881</td>\n",
              "      <td>6.615198</td>\n",
              "      <td>6.744314</td>\n",
              "      <td>6.361744</td>\n",
              "      <td>9.815523</td>\n",
              "      <td>8.952513</td>\n",
              "      <td>7.973228</td>\n",
              "      <td>6.819366</td>\n",
              "      <td>9.147508</td>\n",
              "      <td>...</td>\n",
              "      <td>8.955166</td>\n",
              "      <td>10.068891</td>\n",
              "      <td>6.141488</td>\n",
              "      <td>7.660798</td>\n",
              "      <td>8.963414</td>\n",
              "      <td>8.386149</td>\n",
              "      <td>9.514609</td>\n",
              "      <td>7.368441</td>\n",
              "      <td>5.216822</td>\n",
              "      <td>6.342033</td>\n",
              "    </tr>\n",
              "    <tr>\n",
              "      <th>0618002219</th>\n",
              "      <td>9.007965</td>\n",
              "      <td>10.987086</td>\n",
              "      <td>7.978622</td>\n",
              "      <td>8.742370</td>\n",
              "      <td>7.205810</td>\n",
              "      <td>9.442116</td>\n",
              "      <td>8.408457</td>\n",
              "      <td>8.800886</td>\n",
              "      <td>9.405114</td>\n",
              "      <td>10.477427</td>\n",
              "      <td>...</td>\n",
              "      <td>7.750010</td>\n",
              "      <td>8.916613</td>\n",
              "      <td>7.562691</td>\n",
              "      <td>7.868381</td>\n",
              "      <td>8.174891</td>\n",
              "      <td>9.431299</td>\n",
              "      <td>10.842437</td>\n",
              "      <td>7.979288</td>\n",
              "      <td>8.330428</td>\n",
              "      <td>8.462336</td>\n",
              "    </tr>\n",
              "    <tr>\n",
              "      <th>0142001740</th>\n",
              "      <td>8.971043</td>\n",
              "      <td>11.737542</td>\n",
              "      <td>8.265923</td>\n",
              "      <td>8.371625</td>\n",
              "      <td>8.456208</td>\n",
              "      <td>7.228320</td>\n",
              "      <td>10.388556</td>\n",
              "      <td>8.767651</td>\n",
              "      <td>7.005840</td>\n",
              "      <td>9.931025</td>\n",
              "      <td>...</td>\n",
              "      <td>7.766228</td>\n",
              "      <td>10.095449</td>\n",
              "      <td>7.051310</td>\n",
              "      <td>6.693625</td>\n",
              "      <td>9.365917</td>\n",
              "      <td>10.222565</td>\n",
              "      <td>10.635538</td>\n",
              "      <td>7.705731</td>\n",
              "      <td>8.626084</td>\n",
              "      <td>8.300836</td>\n",
              "    </tr>\n",
              "    <tr>\n",
              "      <th>0399146431</th>\n",
              "      <td>8.958015</td>\n",
              "      <td>9.453785</td>\n",
              "      <td>7.264287</td>\n",
              "      <td>7.305710</td>\n",
              "      <td>5.820501</td>\n",
              "      <td>8.501077</td>\n",
              "      <td>8.624011</td>\n",
              "      <td>8.896672</td>\n",
              "      <td>7.703051</td>\n",
              "      <td>10.074160</td>\n",
              "      <td>...</td>\n",
              "      <td>8.046960</td>\n",
              "      <td>9.596925</td>\n",
              "      <td>6.553934</td>\n",
              "      <td>7.858426</td>\n",
              "      <td>9.868487</td>\n",
              "      <td>7.902353</td>\n",
              "      <td>10.043193</td>\n",
              "      <td>8.205645</td>\n",
              "      <td>6.991377</td>\n",
              "      <td>6.795540</td>\n",
              "    </tr>\n",
              "    <tr>\n",
              "      <th>0060934700</th>\n",
              "      <td>8.982160</td>\n",
              "      <td>9.859479</td>\n",
              "      <td>8.284191</td>\n",
              "      <td>7.403195</td>\n",
              "      <td>8.296727</td>\n",
              "      <td>9.510690</td>\n",
              "      <td>9.653361</td>\n",
              "      <td>9.251270</td>\n",
              "      <td>8.232227</td>\n",
              "      <td>10.014619</td>\n",
              "      <td>...</td>\n",
              "      <td>8.133472</td>\n",
              "      <td>9.629971</td>\n",
              "      <td>6.592314</td>\n",
              "      <td>7.898317</td>\n",
              "      <td>8.505017</td>\n",
              "      <td>9.792370</td>\n",
              "      <td>10.341352</td>\n",
              "      <td>8.457452</td>\n",
              "      <td>6.653997</td>\n",
              "      <td>8.244115</td>\n",
              "    </tr>\n",
              "  </tbody>\n",
              "</table>\n",
              "<p>5 rows × 1266 columns</p>\n",
              "</div>\n",
              "      <button class=\"colab-df-convert\" onclick=\"convertToInteractive('df-ac86de10-bd6c-45e8-b752-213ca3d74540')\"\n",
              "              title=\"Convert this dataframe to an interactive table.\"\n",
              "              style=\"display:none;\">\n",
              "        \n",
              "  <svg xmlns=\"http://www.w3.org/2000/svg\" height=\"24px\"viewBox=\"0 0 24 24\"\n",
              "       width=\"24px\">\n",
              "    <path d=\"M0 0h24v24H0V0z\" fill=\"none\"/>\n",
              "    <path d=\"M18.56 5.44l.94 2.06.94-2.06 2.06-.94-2.06-.94-.94-2.06-.94 2.06-2.06.94zm-11 1L8.5 8.5l.94-2.06 2.06-.94-2.06-.94L8.5 2.5l-.94 2.06-2.06.94zm10 10l.94 2.06.94-2.06 2.06-.94-2.06-.94-.94-2.06-.94 2.06-2.06.94z\"/><path d=\"M17.41 7.96l-1.37-1.37c-.4-.4-.92-.59-1.43-.59-.52 0-1.04.2-1.43.59L10.3 9.45l-7.72 7.72c-.78.78-.78 2.05 0 2.83L4 21.41c.39.39.9.59 1.41.59.51 0 1.02-.2 1.41-.59l7.78-7.78 2.81-2.81c.8-.78.8-2.07 0-2.86zM5.41 20L4 18.59l7.72-7.72 1.47 1.35L5.41 20z\"/>\n",
              "  </svg>\n",
              "      </button>\n",
              "      \n",
              "  <style>\n",
              "    .colab-df-container {\n",
              "      display:flex;\n",
              "      flex-wrap:wrap;\n",
              "      gap: 12px;\n",
              "    }\n",
              "\n",
              "    .colab-df-convert {\n",
              "      background-color: #E8F0FE;\n",
              "      border: none;\n",
              "      border-radius: 50%;\n",
              "      cursor: pointer;\n",
              "      display: none;\n",
              "      fill: #1967D2;\n",
              "      height: 32px;\n",
              "      padding: 0 0 0 0;\n",
              "      width: 32px;\n",
              "    }\n",
              "\n",
              "    .colab-df-convert:hover {\n",
              "      background-color: #E2EBFA;\n",
              "      box-shadow: 0px 1px 2px rgba(60, 64, 67, 0.3), 0px 1px 3px 1px rgba(60, 64, 67, 0.15);\n",
              "      fill: #174EA6;\n",
              "    }\n",
              "\n",
              "    [theme=dark] .colab-df-convert {\n",
              "      background-color: #3B4455;\n",
              "      fill: #D2E3FC;\n",
              "    }\n",
              "\n",
              "    [theme=dark] .colab-df-convert:hover {\n",
              "      background-color: #434B5C;\n",
              "      box-shadow: 0px 1px 3px 1px rgba(0, 0, 0, 0.15);\n",
              "      filter: drop-shadow(0px 1px 2px rgba(0, 0, 0, 0.3));\n",
              "      fill: #FFFFFF;\n",
              "    }\n",
              "  </style>\n",
              "\n",
              "      <script>\n",
              "        const buttonEl =\n",
              "          document.querySelector('#df-ac86de10-bd6c-45e8-b752-213ca3d74540 button.colab-df-convert');\n",
              "        buttonEl.style.display =\n",
              "          google.colab.kernel.accessAllowed ? 'block' : 'none';\n",
              "\n",
              "        async function convertToInteractive(key) {\n",
              "          const element = document.querySelector('#df-ac86de10-bd6c-45e8-b752-213ca3d74540');\n",
              "          const dataTable =\n",
              "            await google.colab.kernel.invokeFunction('convertToInteractive',\n",
              "                                                     [key], {});\n",
              "          if (!dataTable) return;\n",
              "\n",
              "          const docLinkHtml = 'Like what you see? Visit the ' +\n",
              "            '<a target=\"_blank\" href=https://colab.research.google.com/notebooks/data_table.ipynb>data table notebook</a>'\n",
              "            + ' to learn more about interactive tables.';\n",
              "          element.innerHTML = '';\n",
              "          dataTable['output_type'] = 'display_data';\n",
              "          await google.colab.output.renderOutput(dataTable, element);\n",
              "          const docLink = document.createElement('div');\n",
              "          docLink.innerHTML = docLinkHtml;\n",
              "          element.appendChild(docLink);\n",
              "        }\n",
              "      </script>\n",
              "    </div>\n",
              "  </div>\n",
              "  "
            ]
          },
          "metadata": {},
          "execution_count": 288
        }
      ],
      "source": [
        "#Creating a new dataframe where rows represent the users and columns represents the different book ISBN numbers and then transposing it\n",
        "gd_preds_df = pd.DataFrame(mf.full_matrix(), columns = book_isbn , index = user_ids).transpose()\n",
        "#Checking the head of the new dataframe\n",
        "gd_preds_df.head()"
      ]
    },
    {
      "cell_type": "markdown",
      "source": [
        "Using Gradient descent we generated a new item-user matrix dataframe where we have predicted rating values for each of the item against each of the user"
      ],
      "metadata": {
        "id": "Tnf9XwQqizCt"
      }
    },
    {
      "cell_type": "markdown",
      "metadata": {
        "id": "lKpnJyhj5g5I"
      },
      "source": [
        "## **Singular Value Decomposition**\n",
        "\n",
        "### For this recommender system , in order to predict the empty values in our user item matrix we will take help of Singular Value Decomposition concept and then generate the top n recommendation with the highest rating"
      ]
    },
    {
      "cell_type": "code",
      "execution_count": null,
      "metadata": {
        "id": "jiyA77JIGbus"
      },
      "outputs": [],
      "source": [
        "#Converting the user item matrix to an array\n",
        "matrix = occurences.toarray()\n",
        "\n",
        "#We are normalizing our user item matrix array by each user mean\n",
        "user_ratings_mean = np.mean(matrix, axis = 1)\n",
        "R_demeaned = matrix - user_ratings_mean.reshape(-1, 1)"
      ]
    },
    {
      "cell_type": "code",
      "execution_count": null,
      "metadata": {
        "id": "kh_DkbY8lOX2"
      },
      "outputs": [],
      "source": [
        "# The number of factors to factor the user-item matrix.\n",
        "NUMBER_OF_FACTORS_MF = 20\n",
        "\n",
        "#Performing matrix factorization of the original user item matrix\n",
        "U, sigma, Vt = svds(R_demeaned, k = NUMBER_OF_FACTORS_MF)"
      ]
    },
    {
      "cell_type": "code",
      "execution_count": null,
      "metadata": {
        "colab": {
          "base_uri": "https://localhost:8080/"
        },
        "id": "zNhF-9PDl-2F",
        "outputId": "efe84dd2-2e3f-426d-bf48-1810ca1543ca"
      },
      "outputs": [
        {
          "output_type": "execute_result",
          "data": {
            "text/plain": [
              "(20, 20)"
            ]
          },
          "metadata": {},
          "execution_count": 81
        }
      ],
      "source": [
        "#In order to use matrix multiplication to get predictions we are converting our sigma matrix to a diagonal matrix form.\n",
        "sigma = np.diag(sigma)\n",
        "sigma.shape"
      ]
    },
    {
      "cell_type": "code",
      "execution_count": null,
      "metadata": {
        "id": "XD1syFNnlxS4"
      },
      "outputs": [],
      "source": [
        "#Performing matrix multiplication\n",
        "all_user_predicted_ratings = np.dot(np.dot(U, sigma), Vt) + user_ratings_mean.reshape(-1, 1)"
      ]
    },
    {
      "cell_type": "code",
      "execution_count": null,
      "metadata": {
        "id": "54NJrIwGdxpL"
      },
      "outputs": [],
      "source": [
        "#Getting the list of all unique user ids\n",
        "user_ids = list(trainSet_df[\"User-ID\"].unique())\n",
        "#Getting the list of all unique Book ISBN numbers\n",
        "book_isbn = list(trainSet_df[\"ISBN\"].unique())"
      ]
    },
    {
      "cell_type": "code",
      "execution_count": null,
      "metadata": {
        "colab": {
          "base_uri": "https://localhost:8080/",
          "height": 300
        },
        "id": "Ft1DWxLedw5x",
        "outputId": "16e8193c-341e-431f-f916-d52e6f8f1d7e"
      },
      "outputs": [
        {
          "output_type": "execute_result",
          "data": {
            "text/plain": [
              "              254       638       882       1131      1435      2033    \\\n",
              "0671021001  0.558701  1.149810  0.343024  0.232904  0.260517  0.158927   \n",
              "0618002219  1.389536  0.122933  0.041861  0.041253  0.025837  1.608694   \n",
              "0142001740  0.902828  0.839901  1.332563  0.624433  0.429070 -0.211210   \n",
              "0399146431  0.764368  0.044888  0.067518  0.107110  0.050033  0.820976   \n",
              "0060934700  0.251155  0.153873  0.014278 -0.078274  0.001156  0.216070   \n",
              "\n",
              "              2276      2766      2891      3363    ...    276050    276165  \\\n",
              "0671021001  0.120673  0.805532  0.306980  0.153773  ...  0.732561  0.902522   \n",
              "0618002219 -0.044426  0.061917  0.073386  0.164490  ...  0.219238  1.556640   \n",
              "0142001740 -0.039531  0.429361  1.304019  0.708745  ...  0.862702  0.468985   \n",
              "0399146431 -0.091986  0.023631  0.018551  0.073721  ...  0.139718  0.932050   \n",
              "0060934700  0.094327  0.212229  0.036439  0.005655  ...  0.136863  0.147489   \n",
              "\n",
              "              276231    276641    276680    277427    277523    278026  \\\n",
              "0671021001  0.210618 -0.030822  0.916958  0.300157  0.060358  0.041330   \n",
              "0618002219  0.053420 -0.003667  0.049540  0.023282  0.057391 -0.014859   \n",
              "0142001740  0.535547  0.294134  1.098578  1.000439 -0.123167 -0.040782   \n",
              "0399146431  0.097585  0.031043  0.096124  0.398017  0.039016  0.122111   \n",
              "0060934700 -0.053947  0.001201  0.099692  0.228602 -0.032607  0.008025   \n",
              "\n",
              "              278194    278633  \n",
              "0671021001 -0.003716  0.884850  \n",
              "0618002219 -0.049101  0.080482  \n",
              "0142001740  0.098340  0.575661  \n",
              "0399146431  0.002173 -0.048712  \n",
              "0060934700  0.021852  0.048439  \n",
              "\n",
              "[5 rows x 1266 columns]"
            ],
            "text/html": [
              "\n",
              "  <div id=\"df-8347fa0a-d2be-4ffd-9e23-7991e3aef404\">\n",
              "    <div class=\"colab-df-container\">\n",
              "      <div>\n",
              "<style scoped>\n",
              "    .dataframe tbody tr th:only-of-type {\n",
              "        vertical-align: middle;\n",
              "    }\n",
              "\n",
              "    .dataframe tbody tr th {\n",
              "        vertical-align: top;\n",
              "    }\n",
              "\n",
              "    .dataframe thead th {\n",
              "        text-align: right;\n",
              "    }\n",
              "</style>\n",
              "<table border=\"1\" class=\"dataframe\">\n",
              "  <thead>\n",
              "    <tr style=\"text-align: right;\">\n",
              "      <th></th>\n",
              "      <th>254</th>\n",
              "      <th>638</th>\n",
              "      <th>882</th>\n",
              "      <th>1131</th>\n",
              "      <th>1435</th>\n",
              "      <th>2033</th>\n",
              "      <th>2276</th>\n",
              "      <th>2766</th>\n",
              "      <th>2891</th>\n",
              "      <th>3363</th>\n",
              "      <th>...</th>\n",
              "      <th>276050</th>\n",
              "      <th>276165</th>\n",
              "      <th>276231</th>\n",
              "      <th>276641</th>\n",
              "      <th>276680</th>\n",
              "      <th>277427</th>\n",
              "      <th>277523</th>\n",
              "      <th>278026</th>\n",
              "      <th>278194</th>\n",
              "      <th>278633</th>\n",
              "    </tr>\n",
              "  </thead>\n",
              "  <tbody>\n",
              "    <tr>\n",
              "      <th>0671021001</th>\n",
              "      <td>0.558701</td>\n",
              "      <td>1.149810</td>\n",
              "      <td>0.343024</td>\n",
              "      <td>0.232904</td>\n",
              "      <td>0.260517</td>\n",
              "      <td>0.158927</td>\n",
              "      <td>0.120673</td>\n",
              "      <td>0.805532</td>\n",
              "      <td>0.306980</td>\n",
              "      <td>0.153773</td>\n",
              "      <td>...</td>\n",
              "      <td>0.732561</td>\n",
              "      <td>0.902522</td>\n",
              "      <td>0.210618</td>\n",
              "      <td>-0.030822</td>\n",
              "      <td>0.916958</td>\n",
              "      <td>0.300157</td>\n",
              "      <td>0.060358</td>\n",
              "      <td>0.041330</td>\n",
              "      <td>-0.003716</td>\n",
              "      <td>0.884850</td>\n",
              "    </tr>\n",
              "    <tr>\n",
              "      <th>0618002219</th>\n",
              "      <td>1.389536</td>\n",
              "      <td>0.122933</td>\n",
              "      <td>0.041861</td>\n",
              "      <td>0.041253</td>\n",
              "      <td>0.025837</td>\n",
              "      <td>1.608694</td>\n",
              "      <td>-0.044426</td>\n",
              "      <td>0.061917</td>\n",
              "      <td>0.073386</td>\n",
              "      <td>0.164490</td>\n",
              "      <td>...</td>\n",
              "      <td>0.219238</td>\n",
              "      <td>1.556640</td>\n",
              "      <td>0.053420</td>\n",
              "      <td>-0.003667</td>\n",
              "      <td>0.049540</td>\n",
              "      <td>0.023282</td>\n",
              "      <td>0.057391</td>\n",
              "      <td>-0.014859</td>\n",
              "      <td>-0.049101</td>\n",
              "      <td>0.080482</td>\n",
              "    </tr>\n",
              "    <tr>\n",
              "      <th>0142001740</th>\n",
              "      <td>0.902828</td>\n",
              "      <td>0.839901</td>\n",
              "      <td>1.332563</td>\n",
              "      <td>0.624433</td>\n",
              "      <td>0.429070</td>\n",
              "      <td>-0.211210</td>\n",
              "      <td>-0.039531</td>\n",
              "      <td>0.429361</td>\n",
              "      <td>1.304019</td>\n",
              "      <td>0.708745</td>\n",
              "      <td>...</td>\n",
              "      <td>0.862702</td>\n",
              "      <td>0.468985</td>\n",
              "      <td>0.535547</td>\n",
              "      <td>0.294134</td>\n",
              "      <td>1.098578</td>\n",
              "      <td>1.000439</td>\n",
              "      <td>-0.123167</td>\n",
              "      <td>-0.040782</td>\n",
              "      <td>0.098340</td>\n",
              "      <td>0.575661</td>\n",
              "    </tr>\n",
              "    <tr>\n",
              "      <th>0399146431</th>\n",
              "      <td>0.764368</td>\n",
              "      <td>0.044888</td>\n",
              "      <td>0.067518</td>\n",
              "      <td>0.107110</td>\n",
              "      <td>0.050033</td>\n",
              "      <td>0.820976</td>\n",
              "      <td>-0.091986</td>\n",
              "      <td>0.023631</td>\n",
              "      <td>0.018551</td>\n",
              "      <td>0.073721</td>\n",
              "      <td>...</td>\n",
              "      <td>0.139718</td>\n",
              "      <td>0.932050</td>\n",
              "      <td>0.097585</td>\n",
              "      <td>0.031043</td>\n",
              "      <td>0.096124</td>\n",
              "      <td>0.398017</td>\n",
              "      <td>0.039016</td>\n",
              "      <td>0.122111</td>\n",
              "      <td>0.002173</td>\n",
              "      <td>-0.048712</td>\n",
              "    </tr>\n",
              "    <tr>\n",
              "      <th>0060934700</th>\n",
              "      <td>0.251155</td>\n",
              "      <td>0.153873</td>\n",
              "      <td>0.014278</td>\n",
              "      <td>-0.078274</td>\n",
              "      <td>0.001156</td>\n",
              "      <td>0.216070</td>\n",
              "      <td>0.094327</td>\n",
              "      <td>0.212229</td>\n",
              "      <td>0.036439</td>\n",
              "      <td>0.005655</td>\n",
              "      <td>...</td>\n",
              "      <td>0.136863</td>\n",
              "      <td>0.147489</td>\n",
              "      <td>-0.053947</td>\n",
              "      <td>0.001201</td>\n",
              "      <td>0.099692</td>\n",
              "      <td>0.228602</td>\n",
              "      <td>-0.032607</td>\n",
              "      <td>0.008025</td>\n",
              "      <td>0.021852</td>\n",
              "      <td>0.048439</td>\n",
              "    </tr>\n",
              "  </tbody>\n",
              "</table>\n",
              "<p>5 rows × 1266 columns</p>\n",
              "</div>\n",
              "      <button class=\"colab-df-convert\" onclick=\"convertToInteractive('df-8347fa0a-d2be-4ffd-9e23-7991e3aef404')\"\n",
              "              title=\"Convert this dataframe to an interactive table.\"\n",
              "              style=\"display:none;\">\n",
              "        \n",
              "  <svg xmlns=\"http://www.w3.org/2000/svg\" height=\"24px\"viewBox=\"0 0 24 24\"\n",
              "       width=\"24px\">\n",
              "    <path d=\"M0 0h24v24H0V0z\" fill=\"none\"/>\n",
              "    <path d=\"M18.56 5.44l.94 2.06.94-2.06 2.06-.94-2.06-.94-.94-2.06-.94 2.06-2.06.94zm-11 1L8.5 8.5l.94-2.06 2.06-.94-2.06-.94L8.5 2.5l-.94 2.06-2.06.94zm10 10l.94 2.06.94-2.06 2.06-.94-2.06-.94-.94-2.06-.94 2.06-2.06.94z\"/><path d=\"M17.41 7.96l-1.37-1.37c-.4-.4-.92-.59-1.43-.59-.52 0-1.04.2-1.43.59L10.3 9.45l-7.72 7.72c-.78.78-.78 2.05 0 2.83L4 21.41c.39.39.9.59 1.41.59.51 0 1.02-.2 1.41-.59l7.78-7.78 2.81-2.81c.8-.78.8-2.07 0-2.86zM5.41 20L4 18.59l7.72-7.72 1.47 1.35L5.41 20z\"/>\n",
              "  </svg>\n",
              "      </button>\n",
              "      \n",
              "  <style>\n",
              "    .colab-df-container {\n",
              "      display:flex;\n",
              "      flex-wrap:wrap;\n",
              "      gap: 12px;\n",
              "    }\n",
              "\n",
              "    .colab-df-convert {\n",
              "      background-color: #E8F0FE;\n",
              "      border: none;\n",
              "      border-radius: 50%;\n",
              "      cursor: pointer;\n",
              "      display: none;\n",
              "      fill: #1967D2;\n",
              "      height: 32px;\n",
              "      padding: 0 0 0 0;\n",
              "      width: 32px;\n",
              "    }\n",
              "\n",
              "    .colab-df-convert:hover {\n",
              "      background-color: #E2EBFA;\n",
              "      box-shadow: 0px 1px 2px rgba(60, 64, 67, 0.3), 0px 1px 3px 1px rgba(60, 64, 67, 0.15);\n",
              "      fill: #174EA6;\n",
              "    }\n",
              "\n",
              "    [theme=dark] .colab-df-convert {\n",
              "      background-color: #3B4455;\n",
              "      fill: #D2E3FC;\n",
              "    }\n",
              "\n",
              "    [theme=dark] .colab-df-convert:hover {\n",
              "      background-color: #434B5C;\n",
              "      box-shadow: 0px 1px 3px 1px rgba(0, 0, 0, 0.15);\n",
              "      filter: drop-shadow(0px 1px 2px rgba(0, 0, 0, 0.3));\n",
              "      fill: #FFFFFF;\n",
              "    }\n",
              "  </style>\n",
              "\n",
              "      <script>\n",
              "        const buttonEl =\n",
              "          document.querySelector('#df-8347fa0a-d2be-4ffd-9e23-7991e3aef404 button.colab-df-convert');\n",
              "        buttonEl.style.display =\n",
              "          google.colab.kernel.accessAllowed ? 'block' : 'none';\n",
              "\n",
              "        async function convertToInteractive(key) {\n",
              "          const element = document.querySelector('#df-8347fa0a-d2be-4ffd-9e23-7991e3aef404');\n",
              "          const dataTable =\n",
              "            await google.colab.kernel.invokeFunction('convertToInteractive',\n",
              "                                                     [key], {});\n",
              "          if (!dataTable) return;\n",
              "\n",
              "          const docLinkHtml = 'Like what you see? Visit the ' +\n",
              "            '<a target=\"_blank\" href=https://colab.research.google.com/notebooks/data_table.ipynb>data table notebook</a>'\n",
              "            + ' to learn more about interactive tables.';\n",
              "          element.innerHTML = '';\n",
              "          dataTable['output_type'] = 'display_data';\n",
              "          await google.colab.output.renderOutput(dataTable, element);\n",
              "          const docLink = document.createElement('div');\n",
              "          docLink.innerHTML = docLinkHtml;\n",
              "          element.appendChild(docLink);\n",
              "        }\n",
              "      </script>\n",
              "    </div>\n",
              "  </div>\n",
              "  "
            ]
          },
          "metadata": {},
          "execution_count": 84
        }
      ],
      "source": [
        "#Creating a new dataframe where rows represent the users and columns represents the different book ISBN numbers and then transposing it\n",
        "svd_preds_df = pd.DataFrame(all_user_predicted_ratings, columns = book_isbn , index = user_ids).transpose()\n",
        "#Checking the head of the new dataframe\n",
        "svd_preds_df.head()"
      ]
    },
    {
      "cell_type": "markdown",
      "source": [
        "Using SVD we generated a new item-user matrix dataframe where we have predicted rating values for each of the item against each of the user"
      ],
      "metadata": {
        "id": "K3klxQZUjDpQ"
      }
    },
    {
      "cell_type": "markdown",
      "metadata": {
        "id": "n0Pi_6ecLFEx"
      },
      "source": [
        "## **Evaluation Time**\n",
        "\n",
        "###The best way to evaluate a recommender system is through online A/B testing in which real users selected at random see the new model, and their behavior is compared to users who saw the old model. However, we can perform some evaluation offline as well to get a general idea of how our recommender system is performing before testing it out online which is time consuming and expensive as well .\n",
        "\n",
        "###To evaluate our recommender system we randomly picked one rated book by each user and tossed it into the test set whereas the train set contained all of the rest rating records for each of the user. Then we generated Top N unread recommendation for each of the user using the train set and checked if the one item kept in the test set for that user made it into the list or not . Following are the few metrics we used to evaluate each recommender system\n",
        "\n",
        "1.   Hit Rate ➡ To measure a Hit Rate, we first generate top N recommendations for all the users in our test data set. If generated top N recommendations contain something that users rated — 1 hit . In our case f the generated top-n list contains the data left out from the training set then we consider that as a hit \n",
        "2.  Cumulative Hit Rate ➡ Similar to Hit Rate the only difference is that in cumulative hit rate we only calculate hit rate for those item that the user actually liked.\n",
        "3.  Average Reciprocal Hit Rate ➡ It is a variation of Hit Rate where we sum up the reciprocal of the rank of each hit . It takes in account \"where\" in the top N list our hits appear \n",
        "4.  Ranking Hit Rate ➡ Hit Rate for each of the rating value\n",
        "5.  Diversity ➡ To calculate Diveristy we calculate similarity between each pair of items present in the top n recommendations and then subtract it by 1 to get the idea of how different each of the item are from the rest of the items in our top n recommendations\n",
        "6.  Novelty ➡ To calculate Novelty we take in account the popularity ranking of the books and then we through each of the user's top N list to find the average of all the popularity rankings for the movies predicted for that user\n",
        "\n"
      ]
    },
    {
      "cell_type": "code",
      "execution_count": null,
      "metadata": {
        "id": "IFFRrbW2XDEd"
      },
      "outputs": [],
      "source": [
        "class CFRecommender:\n",
        "\n",
        "    '''\n",
        "    Get Top N unread recommended items for a User\n",
        "    Arguments\n",
        "        - cf_predictions_df (pandas dataframe) : user-item pandas dataframe \n",
        "        - items_df (pandas dataframe) : books info dataframe\n",
        "    '''\n",
        "    \n",
        "    MODEL_NAME = 'Collaborative Filtering'\n",
        "    \n",
        "    def __init__(self, cf_predictions_df, items_df=None):\n",
        "        self.cf_predictions_df = cf_predictions_df\n",
        "        self.items_df = items_df\n",
        "        \n",
        "    def get_model_name(self):\n",
        "        return self.MODEL_NAME\n",
        "      \n",
        "    def recommend_items(self, user_id, items_to_ignore=[], topn=10, verbose=False):\n",
        "        # Get and sort the user's predictions\n",
        "        sorted_user_predictions = self.cf_predictions_df[user_id].sort_values(ascending=False).reset_index().rename(columns={user_id: 'Book-Rating', 'index' : \"ISBN\"})\n",
        "\n",
        "        # Recommend the highest predicted rating books that the user hasn't read yet.\n",
        "        recommendations_df = sorted_user_predictions[~sorted_user_predictions['ISBN'].isin(items_to_ignore)].sort_values('Book-Rating', ascending = False).head(topn)\n",
        "\n",
        "        if verbose:\n",
        "            if self.items_df is None:\n",
        "                raise Exception('\"items_df\" is required in verbose mode')\n",
        "\n",
        "            recommendations_df = recommendations_df.merge(self.items_df, how = 'left', \n",
        "                                                          left_on = 'ISBN', \n",
        "                                                          right_on = 'ISBN')[['Book-Rating', 'ISBN' , \"Book-Title\" ]]\n",
        "\n",
        "\n",
        "        return recommendations_df"
      ]
    },
    {
      "cell_type": "code",
      "execution_count": null,
      "metadata": {
        "id": "UztnN794cAGW"
      },
      "outputs": [],
      "source": [
        "#Import all the necessary tools we will need to evaluate our recommender system\n",
        "from scipy.spatial.distance import cosine\n",
        "import itertools\n",
        "from collections import defaultdict"
      ]
    },
    {
      "cell_type": "code",
      "execution_count": null,
      "metadata": {
        "id": "zTIfBuf8c3mw"
      },
      "outputs": [],
      "source": [
        "class RecommenderMetrics:\n",
        "    '''\n",
        "    Different methods to calculate different evaluation metrics for a Recommender System\n",
        "    HR:   Hit Rate; how often we are able to recommend a left-out rating. Higher is better.\n",
        "    cHR:  Cumulative Hit Rate; hit rate, confined to ratings above a certain threshold. Higher is better\n",
        "    ARHR: Average Reciprocal Hit Rank - Hit rate that takes the ranking into account. Higher is better.\n",
        "\n",
        "    Diversity: 1-S, where S is the average similarity score between every possible pair of recommendations for a given user. Higher means more diverse.\n",
        "    Novelty:   Average popularity rank of recommended items. Higher means more novel.\n",
        "    '''\n",
        "\n",
        "    def GetTopNPredictions(cf_recommender_model, trainSet_indexed_df):\n",
        "      topN = defaultdict(list)\n",
        "      for userId in set(trainSet_indexed_df.index.values):\n",
        "        read_books = list(set(trainSet_indexed_df.loc[userId][\"ISBN\" ]))\n",
        "        recommendations_df = cf_recommender_model.recommend_items(userId , read_books, 10 , True)\n",
        "        topN[userId].append(list(zip(recommendations_df[\"ISBN\" ] ,recommendations_df[\"Book-Title\"] ,recommendations_df[\"Book-Rating\" ])))\n",
        "      \n",
        "      return topN\n",
        "\n",
        "    def HitRate(topNPredicted, leftOutPredictions):\n",
        "        hits = 0\n",
        "        total = 0\n",
        "\n",
        "        # For each left-out rating\n",
        "        for leftOut in leftOutPredictions:\n",
        "            userID = leftOut[0]\n",
        "            leftOutBookISBN = leftOut[1]\n",
        "            # Is it in the predicted top 10 for this user?\n",
        "            hit = False\n",
        "            for BookISBN, BookTitle, predictedRating in topNPredicted[int(userID)][0]:\n",
        "                if (leftOutBookISBN == BookISBN):\n",
        "                    hit = True\n",
        "                    break\n",
        "            if (hit) :\n",
        "                hits += 1\n",
        "\n",
        "            total += 1\n",
        "\n",
        "        # Compute overall precision\n",
        "        return hits/total\n",
        "\n",
        "    def CumulativeHitRate(topNPredicted, leftOutPredictions, ratingCutoff=7.0):\n",
        "        hits = 0\n",
        "        total = 0\n",
        "\n",
        "        # For each left-out rating\n",
        "        for userID, leftOutBookISBN, actualRating in leftOutPredictions:\n",
        "            # Only look at ability to recommend things the users actually liked...\n",
        "            if (actualRating >= ratingCutoff):\n",
        "                # Is it in the predicted top 10 for this user?\n",
        "                hit = False\n",
        "                for BookISBN,BookTitle, predictedRating in topNPredicted[int(userID)][0]:\n",
        "                    if (leftOutBookISBN == BookISBN):\n",
        "                        hit = True\n",
        "                        break\n",
        "                if (hit) :\n",
        "                    hits += 1\n",
        "\n",
        "                total += 1\n",
        "\n",
        "        # Compute overall precision\n",
        "        return hits/total\n",
        "\n",
        "    def RatingHitRate(topNPredicted, leftOutPredictions):\n",
        "        hits = defaultdict(float)\n",
        "        total = defaultdict(float)\n",
        "\n",
        "        # For each left-out rating\n",
        "        for userID, leftOutBookISBN, actualRating in leftOutPredictions:\n",
        "            # Is it in the predicted top N for this user?\n",
        "            hit = False\n",
        "            for BookISBN,BookTitle, predictedRating in topNPredicted[int(userID)][0]:\n",
        "                if (leftOutBookISBN == BookISBN):\n",
        "                    hit = True\n",
        "                    break\n",
        "            if (hit) :\n",
        "                hits[actualRating] += 1\n",
        "\n",
        "            total[actualRating] += 1\n",
        "\n",
        "        return hits, total\n",
        "        # Compute overall precision\n",
        "        #for rating in sorted(hits.keys()):\n",
        "            #print (rating, hits[rating] / total[rating])\n",
        "\n",
        "    def AverageReciprocalHitRank(topNPredicted, leftOutPredictions):\n",
        "        summation = 0\n",
        "        total = 0\n",
        "        # For each left-out rating\n",
        "        for userID, leftOutBookISBN, actualRating in leftOutPredictions:\n",
        "            # Is it in the predicted top N for this user?\n",
        "            hitRank = 0\n",
        "            rank = 0\n",
        "            for BookISBN,BookTitle, predictedRating in topNPredicted[int(userID)][0]:\n",
        "                rank = rank + 1\n",
        "                if (leftOutBookISBN == BookISBN):\n",
        "                    hitRank = rank\n",
        "                    break\n",
        "            if (hitRank > 0) :\n",
        "                summation += 1.0 / hitRank\n",
        "\n",
        "            total += 1\n",
        "\n",
        "        return summation / total\n",
        "\n",
        "    def Diversity(topNPredicted):\n",
        "        n = 0\n",
        "        total = 0\n",
        "        for userID in topNPredicted.keys():\n",
        "            pairs = itertools.combinations(topNPredicted[userID][0], 2)\n",
        "            for pair in pairs:\n",
        "              #Here we will use sklearn cosing similarity function \n",
        "                book1 = pair[0][0]\n",
        "                book2 = pair[1][0]\n",
        "                x = lookup_df[book1].values \n",
        "                y = lookup_df[book2].values\n",
        "                distance = cosine(x, y)\n",
        "                similarity = 1 - distance\n",
        "                total += similarity\n",
        "                n += 1\n",
        "\n",
        "        S = total / n\n",
        "        return (1-S)\n",
        "\n",
        "    def Novelty(topNPredicted, rankings):\n",
        "        n = 0\n",
        "        total = 0\n",
        "        for userID in topNPredicted.keys():\n",
        "            for rating in topNPredicted[userID][0]:\n",
        "                BookISBN = rating[0]\n",
        "                rank = rankings[rankings[\"ISBN\"] == BookISBN].index[0]\n",
        "                total += rank\n",
        "                n += 1\n",
        "        return total / n"
      ]
    },
    {
      "cell_type": "code",
      "source": [
        "def EvaluationResults(pred_df , testSet , ranking_df , trainSet_df ):\n",
        "  #Creating an empty dictionary in which we will store the evaluation results \n",
        "  metrics = {}\n",
        "\n",
        "  '''\n",
        "  Function to calculate different evaluation metric values and store them in dictionary\n",
        "  '''\n",
        "  #Creating an instance of CFRecommender class passing in the necessary arguments\n",
        "  recommender_model = CFRecommender(pred_df, books_df)\n",
        "  topN_Predictions = RecommenderMetrics.GetTopNPredictions(recommender_model ,trainSet_df )\n",
        "\n",
        "  #Calculating different evaluation metrics\n",
        "  metrics[\"HR\"] = RecommenderMetrics.HitRate(topN_Predictions , testSet)\n",
        "  metrics[\"cHR\"] = RecommenderMetrics.CumulativeHitRate(topN_Predictions , testSet)\n",
        "\n",
        "  hitsEachRat, totalEachRat = RecommenderMetrics.RatingHitRate(topN_Predictions , testSet)\n",
        "  metrics[\"ARHR\"] = RecommenderMetrics.AverageReciprocalHitRank(topN_Predictions , testSet)\n",
        "\n",
        "  metrics[\"Diversity\"] = RecommenderMetrics.Diversity(topN_Predictions)\n",
        "  metrics[\"Novelty\"] = RecommenderMetrics.Novelty(topN_Predictions , ranking_df)\n",
        "\n",
        "  return metrics , hitsEachRat , totalEachRat"
      ],
      "metadata": {
        "id": "45XffFAlx8QT"
      },
      "execution_count": null,
      "outputs": []
    },
    {
      "cell_type": "code",
      "source": [
        "#Creating a ranking dataframe which will contain all the books in order of their ranking popularity wise with one being the most popular \n",
        "ranking_df = recSys_df.groupby([\"ISBN\"]).agg({ \"User-ID\" : \"count\" , \"Book-Rating\" : \"mean\"}).reset_index().sort_values(by = \"User-ID\" , ascending = False)"
      ],
      "metadata": {
        "id": "fnaB2og1AgP4"
      },
      "execution_count": null,
      "outputs": []
    },
    {
      "cell_type": "code",
      "source": [
        "#Creating a list of all the algorithms we used\n",
        "recSysalgorithms = [\"Gradient Descent\", \"SVD\"]\n",
        "\n",
        "#Creating a list of all the user-item matrix dataframe we generated using the algorithms\n",
        "preds_dfs = [ gd_preds_df , svd_preds_df ]\n",
        "results= {}\n",
        "\n",
        "#Using a for loop to calculate and store the result of all evaluation metrics for each of the algorithm in a dictionary\n",
        "for index,algorithm in enumerate(recSysalgorithms):\n",
        "  results[algorithm] = EvaluationResults(preds_dfs[index] , testSet, ranking_df , trainSet_indexed_df  )"
      ],
      "metadata": {
        "id": "pb2tIAb2KkAp"
      },
      "execution_count": null,
      "outputs": []
    },
    {
      "cell_type": "code",
      "source": [
        "#Creating a pandas datafarme using the results dictionary \n",
        "name, metric = list(results.items())[0]\n",
        "Evaluation_df = pd.DataFrame(columns = [\"Algorithm\"]+ list(metric[0].keys()))\n",
        "\n",
        "for name, metric in results.items():\n",
        "  Evaluation_df.loc[len(Evaluation_df)] = [name] + list(metric[0].values())\n",
        "\n",
        "Evaluation_df"
      ],
      "metadata": {
        "colab": {
          "base_uri": "https://localhost:8080/",
          "height": 112
        },
        "id": "vCJ8EIWb6Onh",
        "outputId": "886a5774-89ec-4237-d15f-9f1afa469e89"
      },
      "execution_count": null,
      "outputs": [
        {
          "output_type": "execute_result",
          "data": {
            "text/plain": [
              "          Algorithm        HR       cHR      ARHR  Diversity      Novelty\n",
              "0  Gradient Descent  0.009479  0.009643  0.003576   0.961263  1488.934281\n",
              "1               SVD  0.076619  0.080039  0.034478   0.860657  1294.716588"
            ],
            "text/html": [
              "\n",
              "  <div id=\"df-3354e4a2-0a8a-4bfe-9c14-1b2915776349\">\n",
              "    <div class=\"colab-df-container\">\n",
              "      <div>\n",
              "<style scoped>\n",
              "    .dataframe tbody tr th:only-of-type {\n",
              "        vertical-align: middle;\n",
              "    }\n",
              "\n",
              "    .dataframe tbody tr th {\n",
              "        vertical-align: top;\n",
              "    }\n",
              "\n",
              "    .dataframe thead th {\n",
              "        text-align: right;\n",
              "    }\n",
              "</style>\n",
              "<table border=\"1\" class=\"dataframe\">\n",
              "  <thead>\n",
              "    <tr style=\"text-align: right;\">\n",
              "      <th></th>\n",
              "      <th>Algorithm</th>\n",
              "      <th>HR</th>\n",
              "      <th>cHR</th>\n",
              "      <th>ARHR</th>\n",
              "      <th>Diversity</th>\n",
              "      <th>Novelty</th>\n",
              "    </tr>\n",
              "  </thead>\n",
              "  <tbody>\n",
              "    <tr>\n",
              "      <th>0</th>\n",
              "      <td>Gradient Descent</td>\n",
              "      <td>0.009479</td>\n",
              "      <td>0.009643</td>\n",
              "      <td>0.003576</td>\n",
              "      <td>0.961263</td>\n",
              "      <td>1488.934281</td>\n",
              "    </tr>\n",
              "    <tr>\n",
              "      <th>1</th>\n",
              "      <td>SVD</td>\n",
              "      <td>0.076619</td>\n",
              "      <td>0.080039</td>\n",
              "      <td>0.034478</td>\n",
              "      <td>0.860657</td>\n",
              "      <td>1294.716588</td>\n",
              "    </tr>\n",
              "  </tbody>\n",
              "</table>\n",
              "</div>\n",
              "      <button class=\"colab-df-convert\" onclick=\"convertToInteractive('df-3354e4a2-0a8a-4bfe-9c14-1b2915776349')\"\n",
              "              title=\"Convert this dataframe to an interactive table.\"\n",
              "              style=\"display:none;\">\n",
              "        \n",
              "  <svg xmlns=\"http://www.w3.org/2000/svg\" height=\"24px\"viewBox=\"0 0 24 24\"\n",
              "       width=\"24px\">\n",
              "    <path d=\"M0 0h24v24H0V0z\" fill=\"none\"/>\n",
              "    <path d=\"M18.56 5.44l.94 2.06.94-2.06 2.06-.94-2.06-.94-.94-2.06-.94 2.06-2.06.94zm-11 1L8.5 8.5l.94-2.06 2.06-.94-2.06-.94L8.5 2.5l-.94 2.06-2.06.94zm10 10l.94 2.06.94-2.06 2.06-.94-2.06-.94-.94-2.06-.94 2.06-2.06.94z\"/><path d=\"M17.41 7.96l-1.37-1.37c-.4-.4-.92-.59-1.43-.59-.52 0-1.04.2-1.43.59L10.3 9.45l-7.72 7.72c-.78.78-.78 2.05 0 2.83L4 21.41c.39.39.9.59 1.41.59.51 0 1.02-.2 1.41-.59l7.78-7.78 2.81-2.81c.8-.78.8-2.07 0-2.86zM5.41 20L4 18.59l7.72-7.72 1.47 1.35L5.41 20z\"/>\n",
              "  </svg>\n",
              "      </button>\n",
              "      \n",
              "  <style>\n",
              "    .colab-df-container {\n",
              "      display:flex;\n",
              "      flex-wrap:wrap;\n",
              "      gap: 12px;\n",
              "    }\n",
              "\n",
              "    .colab-df-convert {\n",
              "      background-color: #E8F0FE;\n",
              "      border: none;\n",
              "      border-radius: 50%;\n",
              "      cursor: pointer;\n",
              "      display: none;\n",
              "      fill: #1967D2;\n",
              "      height: 32px;\n",
              "      padding: 0 0 0 0;\n",
              "      width: 32px;\n",
              "    }\n",
              "\n",
              "    .colab-df-convert:hover {\n",
              "      background-color: #E2EBFA;\n",
              "      box-shadow: 0px 1px 2px rgba(60, 64, 67, 0.3), 0px 1px 3px 1px rgba(60, 64, 67, 0.15);\n",
              "      fill: #174EA6;\n",
              "    }\n",
              "\n",
              "    [theme=dark] .colab-df-convert {\n",
              "      background-color: #3B4455;\n",
              "      fill: #D2E3FC;\n",
              "    }\n",
              "\n",
              "    [theme=dark] .colab-df-convert:hover {\n",
              "      background-color: #434B5C;\n",
              "      box-shadow: 0px 1px 3px 1px rgba(0, 0, 0, 0.15);\n",
              "      filter: drop-shadow(0px 1px 2px rgba(0, 0, 0, 0.3));\n",
              "      fill: #FFFFFF;\n",
              "    }\n",
              "  </style>\n",
              "\n",
              "      <script>\n",
              "        const buttonEl =\n",
              "          document.querySelector('#df-3354e4a2-0a8a-4bfe-9c14-1b2915776349 button.colab-df-convert');\n",
              "        buttonEl.style.display =\n",
              "          google.colab.kernel.accessAllowed ? 'block' : 'none';\n",
              "\n",
              "        async function convertToInteractive(key) {\n",
              "          const element = document.querySelector('#df-3354e4a2-0a8a-4bfe-9c14-1b2915776349');\n",
              "          const dataTable =\n",
              "            await google.colab.kernel.invokeFunction('convertToInteractive',\n",
              "                                                     [key], {});\n",
              "          if (!dataTable) return;\n",
              "\n",
              "          const docLinkHtml = 'Like what you see? Visit the ' +\n",
              "            '<a target=\"_blank\" href=https://colab.research.google.com/notebooks/data_table.ipynb>data table notebook</a>'\n",
              "            + ' to learn more about interactive tables.';\n",
              "          element.innerHTML = '';\n",
              "          dataTable['output_type'] = 'display_data';\n",
              "          await google.colab.output.renderOutput(dataTable, element);\n",
              "          const docLink = document.createElement('div');\n",
              "          docLink.innerHTML = docLinkHtml;\n",
              "          element.appendChild(docLink);\n",
              "        }\n",
              "      </script>\n",
              "    </div>\n",
              "  </div>\n",
              "  "
            ]
          },
          "metadata": {},
          "execution_count": 320
        }
      ]
    },
    {
      "cell_type": "markdown",
      "source": [
        "SVD performed much better than gradient descent across all the evaluation metrics . For SVD our hit rate is around 7.6% and our cHR is around 8% which signifies that our recommender system did a slightly better job at recommending books that the user actually liked \n",
        "\n",
        "The Diveristy and Novelty values for Gradient Descent Algorithm are higher than that of SVD algorithm which indicates that the recommendations generated by Gradient Descent algorithm are more random and different from one another also they are less popular as the novelty values are high as well as compared to SVD\n",
        "\n"
      ],
      "metadata": {
        "id": "qTFOusomlkHW"
      }
    },
    {
      "cell_type": "code",
      "source": [
        "for name, metric in results.items():\n",
        "  hits = metric[1]\n",
        "  total = metric[2]\n",
        "  print(f'The Rating Hit Rate values for the algorithm {name} are: ')\n",
        "  print()\n",
        "  for rating in sorted(metric[1].keys()):\n",
        "    print(\"----> \", rating, hits[rating] / total[rating])\n",
        "  print()"
      ],
      "metadata": {
        "colab": {
          "base_uri": "https://localhost:8080/"
        },
        "id": "NJWrQXzzE2AY",
        "outputId": "bef3e7ae-413e-4024-bafa-48d25e5d52b2"
      },
      "execution_count": null,
      "outputs": [
        {
          "output_type": "stream",
          "name": "stdout",
          "text": [
            "The Rating Hit Rate values for the algorithm Gradient Descent are: \n",
            "\n",
            "---->  6.0 0.021739130434782608\n",
            "---->  8.0 0.003115264797507788\n",
            "---->  9.0 0.01646090534979424\n",
            "---->  10.0 0.01773049645390071\n",
            "\n",
            "The Rating Hit Rate values for the algorithm SVD are: \n",
            "\n",
            "---->  4.0 0.23529411764705882\n",
            "---->  5.0 0.041237113402061855\n",
            "---->  6.0 0.06521739130434782\n",
            "---->  7.0 0.05759162303664921\n",
            "---->  8.0 0.059190031152647975\n",
            "---->  9.0 0.102880658436214\n",
            "---->  10.0 0.09929078014184398\n",
            "\n"
          ]
        }
      ]
    },
    {
      "cell_type": "markdown",
      "source": [
        "These are the hit values for different rating values , as can see Gradient Descent only had hit values for rating 6,8,9 and 10 while SVD has good hit values for rating values as low as 4"
      ],
      "metadata": {
        "id": "sEIBqeCBx4q9"
      }
    },
    {
      "cell_type": "code",
      "source": [
        "cf_gd_recommender_model = CFRecommender(gd_preds_df, books_df)"
      ],
      "metadata": {
        "id": "sNREcN_uk9GQ"
      },
      "execution_count": null,
      "outputs": []
    },
    {
      "cell_type": "code",
      "source": [
        "topN_Predictions = RecommenderMetrics.GetTopNPredictions(cf_gd_recommender_model ,trainSet_indexed_df )\n",
        "hitRate = RecommenderMetrics.HitRate(topN_Predictions , testSet)\n",
        "print(hitRate)"
      ],
      "metadata": {
        "colab": {
          "base_uri": "https://localhost:8080/"
        },
        "id": "6hNygoZCk56l",
        "outputId": "57331bce-0ea6-4f5d-e54c-f542aa5fd580"
      },
      "execution_count": null,
      "outputs": [
        {
          "output_type": "stream",
          "name": "stdout",
          "text": [
            "0.009478672985781991\n"
          ]
        }
      ]
    }
  ],
  "metadata": {
    "colab": {
      "collapsed_sections": [
        "-ABcTUXFIh58",
        "Pb3fBys4JcB2",
        "vrjAobOqMVRi",
        "fQBh5qGpN3cC"
      ],
      "name": "Book Recommender System.ipynb",
      "provenance": [],
      "authorship_tag": "ABX9TyOt4NKNY5ZKU7zQ/TTYYrCL",
      "include_colab_link": true
    },
    "kernelspec": {
      "display_name": "Python 3",
      "name": "python3"
    },
    "language_info": {
      "name": "python"
    }
  },
  "nbformat": 4,
  "nbformat_minor": 0
}